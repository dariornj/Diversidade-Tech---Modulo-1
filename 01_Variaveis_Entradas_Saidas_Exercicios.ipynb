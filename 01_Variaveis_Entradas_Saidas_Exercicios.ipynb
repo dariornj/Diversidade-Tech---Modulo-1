{
  "cells": [
    {
      "cell_type": "markdown",
      "metadata": {
        "id": "X1IyZh3H4Tet"
      },
      "source": [
        "# Variáveis, entradas e saídas"
      ]
    },
    {
      "cell_type": "markdown",
      "metadata": {
        "id": "kpFxWx_F7ya6"
      },
      "source": [
        "# Exercícios\n",
        "\n",
        "### 01. Faça um programa que escreve a mensagem ```Sou Diversidade Tech``` na tela do computador.\n",
        "\n"
      ]
    },
    {
      "cell_type": "code",
      "execution_count": 1,
      "metadata": {
        "id": "ke7miNDD8B_l"
      },
      "outputs": [
        {
          "name": "stdout",
          "output_type": "stream",
          "text": [
            "Sou Diversidade Tech\n"
          ]
        }
      ],
      "source": [
        "print ('Sou Diversidade Tech')"
      ]
    },
    {
      "cell_type": "markdown",
      "metadata": {
        "id": "UP5GcAZ88CWi"
      },
      "source": [
        "### 02. Faça um programa que pergunta o nome do usuário e responde Olá [nome] (substituindo \"[nome]\" pelo nome digitado).\n",
        "\n"
      ]
    },
    {
      "cell_type": "code",
      "execution_count": 2,
      "metadata": {
        "id": "NO646iAb8IQk"
      },
      "outputs": [
        {
          "name": "stdout",
          "output_type": "stream",
          "text": [
            "Olá Dário\n"
          ]
        }
      ],
      "source": [
        "nome = input('Digite o seu nome: ')\n",
        "\n",
        "print(f'Olá {nome}')"
      ]
    },
    {
      "cell_type": "markdown",
      "metadata": {
        "id": "84u6xsqq8Ijj"
      },
      "source": [
        "### 03. Faça um programa que pergunta o ano de nascimento do usuário e responde quantos anos ela terá ao final de 2022.\n",
        "\n"
      ]
    },
    {
      "cell_type": "code",
      "execution_count": 8,
      "metadata": {
        "id": "AEKyFLxA8NGo"
      },
      "outputs": [
        {
          "name": "stdout",
          "output_type": "stream",
          "text": [
            "A idade em 2022 é 64.\n"
          ]
        }
      ],
      "source": [
        "ano_nascimento = int(input('Digite o sua idade: '))\n",
        "\n",
        "idade = 2022 - ano_nascimento\n",
        "print(f'A idade em 2022 é {idade}.')"
      ]
    },
    {
      "cell_type": "markdown",
      "metadata": {
        "id": "l6U3f-178NcU"
      },
      "source": [
        "### 04. Faça um programa que pergunta a nota das 4 provas de um aluno e responde a sua média.\n",
        "\n"
      ]
    },
    {
      "cell_type": "code",
      "execution_count": 13,
      "metadata": {
        "id": "9VkhBiy38R7R"
      },
      "outputs": [
        {
          "name": "stdout",
          "output_type": "stream",
          "text": [
            "A média é 8.5\n"
          ]
        }
      ],
      "source": [
        "notas = []\n",
        "for i in range(4):\n",
        "    notas.append(float(input(f'Digite a nota {i+1}')))\n",
        "\n",
        "media = sum(notas)/4\n",
        "\n",
        "print(f'A média é {media}')\n"
      ]
    },
    {
      "cell_type": "markdown",
      "metadata": {
        "id": "0PD6D95p8SM2"
      },
      "source": [
        "### 05. Faça um programa que pergunte para a motorista a distância que ela dirigiu e o tempo que seu trajeto levou, e responda sua velocidade média.\n",
        "\n"
      ]
    },
    {
      "cell_type": "code",
      "execution_count": 14,
      "metadata": {
        "id": "iZnRwy5U8VtP"
      },
      "outputs": [
        {
          "name": "stdout",
          "output_type": "stream",
          "text": [
            "A velocidade é 50.0m/s\n"
          ]
        }
      ],
      "source": [
        "dist = float(input('Qual a distância percorrida? [em metros] '))\n",
        "tempo = float(input('Qual o tempo gasto? [em segundos]'))\n",
        "\n",
        "velocidade = dist / tempo\n",
        "\n",
        "print(f'A velocidade é {velocidade}m/s')"
      ]
    },
    {
      "cell_type": "markdown",
      "metadata": {
        "id": "XLxabHaz8V_c"
      },
      "source": [
        "### 06. Um estacionamento cobra um valor mínimo de 10 reais, correspondente a 1h de uso. Cada hora adicional gera mais 5 reais de cobrança. Ex: um carro estacionado por 5 horas irá pagar 10 reais pela primeira hora + 5 reais pela segunda + 5 pela terceira + 5 pela quarta + 5 pela quinta, totalizando 30 reais.\n",
        "\n",
        "### Faça um programa que pergunte para o usuário quanto tempo seu carro ficou estacionado e responde o valor em reais a ser pago.\n",
        "\n",
        "###OBS: o estacionamento não considera minutos, tampouco horas fracionárias. Portanto, o seu programa não precisa se preocupar com isso. Se a pessoa ficou 5 horas e 2 minutos, ela passou de 5 horas, portanto ela deve digitar a hora inteira mais próxima: 6 horas."
      ]
    },
    {
      "cell_type": "code",
      "execution_count": 16,
      "metadata": {
        "id": "_T1QXjaB8dyq"
      },
      "outputs": [
        {
          "name": "stdout",
          "output_type": "stream",
          "text": [
            "O valor a ser pago pelas 4 horas estacionadas é de R$ 25,00.\n"
          ]
        }
      ],
      "source": [
        "horas = int(input('Digite a quantidade de horas estacionadas. Sempre aproximar para o inteiro em seguida'))\n",
        "\n",
        "valor = 10 + 5 * (horas - 1)\n",
        "\n",
        "print(f'O valor a ser pago pelas {horas} horas estacionadas é de R$ {valor},00.')"
      ]
    },
    {
      "cell_type": "markdown",
      "metadata": {
        "id": "xmkAzR7q8ei-"
      },
      "source": [
        "### 07. Faça um programa que pergunta a temperatura em graus Celsius e responde a temperatura correspondente em graus Fahrenheit.\n",
        "\n",
        "> Dica: se você digitar converta celsius para fahrenheit no Google, ele irá exibir a fórmula que você utilizará em seu programa e uma calculadora que pode auxiliar você na hora de testar seu programa."
      ]
    },
    {
      "cell_type": "code",
      "execution_count": 19,
      "metadata": {
        "id": "vUZV9mXR8nWl"
      },
      "outputs": [
        {
          "name": "stdout",
          "output_type": "stream",
          "text": [
            "-10.0°C equivale a 14.0°F\n"
          ]
        }
      ],
      "source": [
        "celsius = float(input('Digite a temperatura em graus Celsius: '))\n",
        "\n",
        "fahrenheit = 1.8*celsius + 32\n",
        "\n",
        "print(f'{celsius}°C equivale a {fahrenheit}°F')\n"
      ]
    },
    {
      "cell_type": "markdown",
      "metadata": {
        "id": "joxTBNbA8nnA"
      },
      "source": [
        "### 08. Faça um programa que pergunta a temperatura em graus Fahrenheit e responde a temperatura correspondente em graus Celsius.\n",
        "\n",
        "> Atenção: apenas trocar \"celsius\" e \"fahrenheit\" na equação utilizada no exercício anterior não é a solução. Você deve realizar a inversão completa da fórmula (ou utilizar o mesmo truque para consultar essa fórmula no Google)."
      ]
    },
    {
      "cell_type": "code",
      "execution_count": 21,
      "metadata": {
        "id": "sRPb6uBY8rYq"
      },
      "outputs": [
        {
          "name": "stdout",
          "output_type": "stream",
          "text": [
            "10.0°F equivale a -12.222222222222221°C\n"
          ]
        }
      ],
      "source": [
        "fahrenheit = float(input('Digite a temperatura em graus Fahrenheit: '))\n",
        "\n",
        "celsius = (fahrenheit - 32)/1.8\n",
        "\n",
        "print(f'{fahrenheit}°F equivale a {celsius}°C')"
      ]
    },
    {
      "cell_type": "markdown",
      "metadata": {
        "id": "TH8_cGUR8r9o"
      },
      "source": [
        "### 09. Vai um cupom de desconto aí?\n",
        "\n",
        "### Faça um programa que pergunta o preço de um produto, o desconto a ser aplicado (em %) e responde o valor total a ser pago."
      ]
    },
    {
      "cell_type": "code",
      "execution_count": 24,
      "metadata": {
        "id": "vdjO-kVo8xSy"
      },
      "outputs": [
        {
          "name": "stdout",
          "output_type": "stream",
          "text": [
            "O produto de preço R$150.0 com o desconto de 20.0% passa a custar R$120.0\n"
          ]
        }
      ],
      "source": [
        "preco = float(input('Digite o preço do produto: '))\n",
        "desconto = float(input('Digite o desconto aplicado (em %): '))\n",
        "\n",
        "valor = preco * (1 - desconto/100)\n",
        "\n",
        "print(f'O produto de preço R${preco} com o desconto de {desconto}% passa a custar R${valor}')"
      ]
    },
    {
      "cell_type": "markdown",
      "metadata": {
        "id": "Rd-dx0sM8xgy"
      },
      "source": [
        "### 10. Vamos falar de coisa boa: aumento salarial!\n",
        "\n",
        "### Faça um programa que pergunta o salário do funcionário, o aumento a ser aplicado (em %) e responde o seu novo salário."
      ]
    },
    {
      "cell_type": "code",
      "execution_count": 25,
      "metadata": {
        "id": "Apn9GrVo82x8"
      },
      "outputs": [
        {
          "name": "stdout",
          "output_type": "stream",
          "text": [
            "O salário de R$7600.0 com o aumento de 10.0% se torna R$8360.0\n"
          ]
        }
      ],
      "source": [
        "salario = float(input('Digite o salário: '))\n",
        "aumento = float(input('Digite o aumento (em %): '))\n",
        "\n",
        "novo_salario = salario * (1 + aumento/100)\n",
        "\n",
        "print(f'O salário de R${salario} com o aumento de {aumento}% se torna R${novo_salario}')"
      ]
    },
    {
      "cell_type": "markdown",
      "metadata": {
        "id": "3XUg_V8-82-A"
      },
      "source": [
        "### 11. Vamos fazer um programa para calcular o rendimento de uma aplicação.\n",
        "\n",
        "### Faça um programa que pergunta quanto dinheiro a usuária irá aplicar, a taxa de juros ao mês (em %) e a duração da aplicação (em meses).\n",
        "\n",
        "### Seu programa deve responder as seguintes informações:\n",
        "\n",
        "### Qual o valor total a ser sacado pela usuária ao final da aplicação?\n",
        "### Quantos reais a pessoa recebeu apenas de juros?\n",
        "### Quantos % a aplicação rendeu no total?\n",
        "### Atenção: ao buscar as fórmulas para utilizar no problema, busque pela fórmula de juros compostos. Não utilize a fórmula de juros simples."
      ]
    },
    {
      "cell_type": "code",
      "execution_count": 31,
      "metadata": {
        "id": "a9-SvMJH8_ok"
      },
      "outputs": [
        {
          "name": "stdout",
          "output_type": "stream",
          "text": [
            "A pessoa aplicou R$1000.0 e sacou R$1276.28 no final dos 5 meses.\n",
            "Ela recebeu R$276.28 de juros e a aplicação rendeu 127.63%.\n"
          ]
        }
      ],
      "source": [
        "capital = float(input('Digite o valor do dinheiro aplicado: '))\n",
        "taxa = float(input('Digite a taxa aplicada (ao mês, em %): '))\n",
        "tempo = int(input('Digite o tempo de aplicação, em meses: '))\n",
        "\n",
        "montante = capital * (1 + taxa/100) ** tempo\n",
        "juros = montante - capital\n",
        "rendimento = montante/capital*100\n",
        "\n",
        "print(f'A pessoa aplicou R${round(capital, 2)} e sacou R${round(montante, 2)} no final dos {tempo} meses.\\nEla recebeu R${round(juros, 2)} de juros e a aplicação rendeu {round(rendimento, 2)}%.')"
      ]
    }
  ],
  "metadata": {
    "colab": {
      "provenance": []
    },
    "kernelspec": {
      "display_name": "Python 3.10.5 64-bit",
      "language": "python",
      "name": "python3"
    },
    "language_info": {
      "codemirror_mode": {
        "name": "ipython",
        "version": 3
      },
      "file_extension": ".py",
      "mimetype": "text/x-python",
      "name": "python",
      "nbconvert_exporter": "python",
      "pygments_lexer": "ipython3",
      "version": "3.10.5"
    },
    "vscode": {
      "interpreter": {
        "hash": "75c7325c0caecc2d82c8a4e534cbb5ce82d278e087a13a7861173b66f0f67f74"
      }
    }
  },
  "nbformat": 4,
  "nbformat_minor": 0
}
