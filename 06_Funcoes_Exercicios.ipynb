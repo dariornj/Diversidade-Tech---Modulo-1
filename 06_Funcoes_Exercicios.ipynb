{
  "cells": [
    {
      "cell_type": "markdown",
      "metadata": {
        "id": "JLVg-HslLTOJ"
      },
      "source": [
        "# Funções"
      ]
    },
    {
      "cell_type": "markdown",
      "metadata": {
        "id": "T0rP7q_kOrY7"
      },
      "source": [
        "# Exercícios\n",
        "\n",
        "Faça uma função que lê o nome do usuário do teclado e imprime \"Olá, [nome]\" na tela."
      ]
    },
    {
      "cell_type": "code",
      "execution_count": 1,
      "metadata": {
        "id": "LPhxZNtjP6ST"
      },
      "outputs": [
        {
          "name": "stdout",
          "output_type": "stream",
          "text": [
            "Olá, Dário\n"
          ]
        }
      ],
      "source": [
        "def saudacoes():\n",
        "    nome = input('Digite seu nome: ')\n",
        "    print(f'Olá, {nome}')\n",
        "\n",
        "saudacoes()"
      ]
    },
    {
      "cell_type": "markdown",
      "metadata": {
        "id": "apzQz1M3P9sL"
      },
      "source": [
        "Faça uma função que recebe um nome e imprime \"Olá, [nome]\" na tela."
      ]
    },
    {
      "cell_type": "code",
      "execution_count": 31,
      "metadata": {
        "id": "bKtTcN9gQBCQ"
      },
      "outputs": [
        {
          "name": "stdout",
          "output_type": "stream",
          "text": [
            "Olá, Dário\n"
          ]
        }
      ],
      "source": [
        "def saudacoes(nome: str) -> None:\n",
        "    print(f'Olá, {nome}')\n",
        "\n",
        "nome = input('Digite seu nome: ')\n",
        "saudacoes(nome)"
      ]
    },
    {
      "cell_type": "markdown",
      "metadata": {
        "id": "yNtgkGrxQBQT"
      },
      "source": [
        "Faça uma função que recebe um nome e retorna a string \"Olá, [nome]\"."
      ]
    },
    {
      "cell_type": "code",
      "execution_count": 34,
      "metadata": {
        "id": "6lhNot_tQF82"
      },
      "outputs": [
        {
          "name": "stdout",
          "output_type": "stream",
          "text": [
            "Olá, Dário\n"
          ]
        }
      ],
      "source": [
        "def saudacoes(nome: str) -> str:\n",
        "    string = f'Olá, {nome}'\n",
        "    return string\n",
        "\n",
        "resultado = saudacoes('Dário')\n",
        "print(resultado)"
      ]
    },
    {
      "cell_type": "markdown",
      "metadata": {
        "id": "41oTn2nNQGQE"
      },
      "source": [
        "Faça uma função que recebe um nome e um horário (considere apenas hora, sem minutos ou segundos). Sua função deverá retornar a string:\n",
        "\n",
        "* \"Bom dia, [nome]\" se a hora for inferior a 12.\n",
        "* \"Boa tarde, [nome]\" se a hora for pelo menos 12 e inferior a 18.\n",
        "* \"Boa noite, [nome]\" se a hora for igual ou superior a 18."
      ]
    },
    {
      "cell_type": "code",
      "execution_count": 7,
      "metadata": {
        "id": "nInKm2AQQnSJ"
      },
      "outputs": [
        {
          "name": "stdout",
          "output_type": "stream",
          "text": [
            "Boa noite, Dário\n"
          ]
        }
      ],
      "source": [
        "def saudar(nome:str, hora:int) -> str:\n",
        "    if hora <=12:\n",
        "        saudacao = f'Bom dia, {nome}'\n",
        "    elif hora >= 12 and hora < 18:\n",
        "        saudacao = f'Boa tarde, {nome}'\n",
        "    elif hora >= 18 and hora <= 23:\n",
        "        saudacao = f'Boa noite, {nome}'\n",
        "    return saudacao\n",
        "\n",
        "nome = input ('Digite o seu nome: ')\n",
        "hora = int(input('Digite a hora: '))\n",
        "print(saudar(nome, hora))"
      ]
    },
    {
      "cell_type": "markdown",
      "metadata": {
        "id": "CC1I-McRQnjh"
      },
      "source": [
        "Faça uma função que recebe uma temperatura em graus celsius e retorna a temperatura equivalente em fahrenheit."
      ]
    },
    {
      "cell_type": "code",
      "execution_count": 16,
      "metadata": {
        "id": "68emXWwpQt2q"
      },
      "outputs": [
        {
          "name": "stdout",
          "output_type": "stream",
          "text": [
            "A temperatura 0.0°C em Fahrenheit é 32.0°F\n"
          ]
        }
      ],
      "source": [
        "def celsius_fahrenheit (t_c: float) -> float:\n",
        "    return 9*t_c/5 + 32\n",
        "\n",
        "t_c = float(input('Digite uma temperatura em Celsius para converter em Fahrenheit: '))\n",
        "print(f'A temperatura {t_c}°C em Fahrenheit é {celsius_fahrenheit(t_c)}°F')\n"
      ]
    },
    {
      "cell_type": "markdown",
      "metadata": {
        "id": "gM-HBCNqQuEg"
      },
      "source": [
        "Modifique a função anterior adicionando um parâmetro booleano \"inverso\". Caso ele receba \"True\", a função irá considerar que a temperatura recebida já está em fahrenheit e deverá retorná-la convertida para celsius."
      ]
    },
    {
      "cell_type": "code",
      "execution_count": 18,
      "metadata": {
        "id": "SM-s6mmyQ4Lv"
      },
      "outputs": [
        {
          "name": "stdout",
          "output_type": "stream",
          "text": [
            "A temperatura 32.0°F em Celsius é 0.0°C\n"
          ]
        }
      ],
      "source": [
        "def celsius_fahrenheit (temp: float, inverse: bool = False) -> float:\n",
        "    \"\"\" Função que converte temperaturas entre escalas Celsius e Fahrenheit.\n",
        "        inverse = True, Entrada em Celsius retorna Fahrenheit\n",
        "        inverse = False, Entrada em Fahrenheit, retorno em Celsius \"\"\"\n",
        "    if inverse == True:\n",
        "        return 5*(temp-32)/9\n",
        "    else:\n",
        "        return 9*temp/5 + 32\n",
        "\n",
        "temp = float(input('Digite uma temperatura que deseja converter: '))\n",
        "aux = int(input('Deseja converter de Celsius para Fahrenheit (digite 1) ou de Fahrenheit para Celsius (digite 2)? '))\n",
        "\n",
        "if aux == 1:\n",
        "    print(f'A temperatura {temp}°C em Fahrenheit é {celsius_fahrenheit(temp)}°F')\n",
        "elif aux == 2:\n",
        "    print(f'A temperatura {temp}°F em Celsius é {celsius_fahrenheit(temp, True)}°C')\n",
        "else:\n",
        "    print('Conversão incorreta')\n"
      ]
    },
    {
      "cell_type": "markdown",
      "metadata": {
        "id": "1z8PqSrVQ4vL"
      },
      "source": [
        "Modifique a função anterior adicionando mais um parâmetro booleano \"absoluto\". Caso ele seja True:\n",
        "\n",
        "\n",
        "*   Se inverso for True, ele retornará a resposta em kelvin ao invés de celsius.\n",
        "*   Se inverso for False, ele irá considerar a temperatura passada como parâmetro como sendo kelvin ao invés de celsius. O retorno ainda será em fahrenheit.\n",
        "\n"
      ]
    },
    {
      "cell_type": "code",
      "execution_count": 8,
      "metadata": {
        "id": "fsKyERFGRSKT"
      },
      "outputs": [
        {
          "name": "stdout",
          "output_type": "stream",
          "text": [
            "161.66666666666666\n"
          ]
        }
      ],
      "source": [
        "def conversao_temperaturas (temp: float, inverse: bool = False, absoluto: bool = False) -> float:\n",
        "    \"\"\" Função que converte temperaturas entre escalas Celsius, Fahrenheit e Kelvin.\n",
        "        inverse = True, absoluto = True: Entrada em Fahrenheit retorna Kelvin\n",
        "        inverse = False, absoluto = True: Entrada em Kelvin, retorno em Fahrenheit\n",
        "        inverse = True, absoluto = False: Entrada em Fahrenheit, retorno em Celsius\n",
        "        inverse = False, absoluto = False: Entrada em Celsius, retorno em Fahrenheit \"\"\"\n",
        "\n",
        "    if absoluto == True:\n",
        "        if inverse:\n",
        "            return (temp-32)*5/9 + 273.15\n",
        "        else:\n",
        "            return (temp - 273.15)*1.8 + 32\n",
        "    else:\n",
        "        if inverse:\n",
        "            return 5*(temp-32)/9\n",
        "        else:\n",
        "            return 9*temp/5 + 32\n",
        "\n",
        "print(conversao_temperaturas(323, True, False))"
      ]
    },
    {
      "cell_type": "markdown",
      "metadata": {
        "id": "BnSEaVp_RSjB"
      },
      "source": [
        "Faça uma função que recebe um número \"n\" e retorna o fatorial de n utilizando loop."
      ]
    },
    {
      "cell_type": "code",
      "execution_count": 5,
      "metadata": {
        "id": "q5zbD5mPRqup"
      },
      "outputs": [
        {
          "name": "stdout",
          "output_type": "stream",
          "text": [
            "3628800\n"
          ]
        }
      ],
      "source": [
        "def fatorial (n: int) -> int | str:\n",
        "    if n >= 0:\n",
        "        fat = 1\n",
        "        if n == 0 or n == 1:\n",
        "            return 1 \n",
        "        else:\n",
        "            for i in range(n):\n",
        "                fat = fat*(i+1)\n",
        "            return fat\n",
        "    else:\n",
        "        return 'Fatorial de número negativo inválido'\n",
        "\n",
        "print(fatorial(10))          \n"
      ]
    },
    {
      "cell_type": "markdown",
      "metadata": {
        "id": "c84DeCSYRq_u"
      },
      "source": [
        "Faça uma função que recebe um número \"n\" e retorna o fatorial de n utilizando recursão."
      ]
    },
    {
      "cell_type": "code",
      "execution_count": 4,
      "metadata": {
        "id": "8VBjbi-tRuZP"
      },
      "outputs": [
        {
          "name": "stdout",
          "output_type": "stream",
          "text": [
            "3628800\n"
          ]
        }
      ],
      "source": [
        "def fatorial (n: int) -> int | str:\n",
        "    if n >= 0:\n",
        "        if n == 0 or n == 1:\n",
        "            return 1 \n",
        "        else:\n",
        "            return n*fatorial(n-1)\n",
        "    else:\n",
        "        return 'Fatorial de número negativo inválido'\n",
        "\n",
        "print(fatorial(10))"
      ]
    },
    {
      "cell_type": "markdown",
      "metadata": {
        "id": "iC_4g6a4RvBh"
      },
      "source": [
        "Algumas linguagens oferecem um recurso chamado de **tail recursion**, ou **recursão de cauda**. Nelas, o resultado de chamadas recursivas recentes é temporariamente armazenado e pode ser reutilizado em outras chamadas. O Python **NÃO** possui recursão de cauda nativamente, mas é possível manipularmos os parâmetros de nossas funções para obter esse tipo de recursão na prática.\n",
        "\n",
        "Isso é útil para evitar que valores já calculados previamente sejam recalculados (muitas vezes em uma mesma chamada inicial da função).\n",
        "\n",
        "Modifique sua função fatorial recursiva para incluir uma estrutura de dados conveniente que preserve os valores já calculados. Em chamadas futuras, ela deverá verificar se um valor já existe antes de calculá-lo.\n"
      ]
    },
    {
      "cell_type": "code",
      "execution_count": 1,
      "metadata": {
        "id": "Xi6IyeG-SJPC"
      },
      "outputs": [
        {
          "name": "stdout",
          "output_type": "stream",
          "text": [
            "Chamando fatorial de 5:\n",
            "calculando: n = 5\n",
            "calculando: n = 4\n",
            "calculando: n = 3\n",
            "calculando: n = 2\n",
            "120\n"
          ]
        }
      ],
      "source": [
        "def fatorial(n, resultados= [1, 1]):\n",
        "  if n >= len(resultados):\n",
        "    print(f'calculando: n = {n}')\n",
        "    resultados.append(n * fatorial(n-1, resultados))\n",
        "  \n",
        "  return resultados[n]\n",
        "\n",
        "print('Chamando fatorial de 5:')\n",
        "print(fatorial(5))\n"
      ]
    },
    {
      "cell_type": "markdown",
      "metadata": {
        "id": "O50SyrO3UAKn"
      },
      "source": [
        "Faça uma função que recebe 2 valores: uma base e um expoente. Sua função deverá calcular o resultado da exponenciação de maneira **recursiva**, sem utilizar o operador `**`."
      ]
    },
    {
      "cell_type": "code",
      "execution_count": 3,
      "metadata": {
        "id": "7JCVjJJzUG6j"
      },
      "outputs": [
        {
          "data": {
            "text/plain": [
              "25"
            ]
          },
          "execution_count": 3,
          "metadata": {},
          "output_type": "execute_result"
        }
      ],
      "source": [
        "def expoente(b:int, e:int) -> int:  \n",
        "  '''Retorna o resultado de exponecial recebido uma base e o expoente'''\n",
        "  if e == 0:\n",
        "    return 1\n",
        "  if e == 1:\n",
        "    return b\n",
        "\n",
        "  return b * expoente(b, e-1)\n",
        "\n",
        "expo(5,2)"
      ]
    },
    {
      "cell_type": "markdown",
      "metadata": {
        "id": "HRX9lMalSJhC"
      },
      "source": [
        "Faça uma função que recebe um número n e retorna o n-ésimo termo de Fibonacci de maneira recursiva."
      ]
    },
    {
      "cell_type": "code",
      "execution_count": 5,
      "metadata": {
        "id": "WK9Y1KtjSQM7"
      },
      "outputs": [],
      "source": [
        "def fib(n:int) -> int:\n",
        "    '''Retorna N termos de Fibonacci'''\n",
        "    if n == 0 or n == 1:\n",
        "        return 1 \n",
        "    else:\n",
        "        return(fib(n-1) + fib(n-2))"
      ]
    },
    {
      "cell_type": "markdown",
      "metadata": {
        "id": "Zq0mi7pZSQqI"
      },
      "source": [
        "Modifique sua função anterior para evitar que termos repetidos sejam recalculados. \n",
        "\n",
        "Ex: ao calcular F(6), a função será decomposta em F(5) + F(4). Porém, para calcular F(5), teremos F(4) + F(3), ou seja, F(4) aparece 2 vezes. Ele deverá ser *calculado* apenas uma vez."
      ]
    },
    {
      "cell_type": "code",
      "execution_count": 6,
      "metadata": {
        "id": "O7x-7LrhSluD"
      },
      "outputs": [
        {
          "name": "stdout",
          "output_type": "stream",
          "text": [
            "Fibonacci(0) = 1\n",
            "Fibonacci(1) = 1\n",
            "Fibonacci(2) = 2\n",
            "Fibonacci(3) = 3\n",
            "Fibonacci(4) = 5\n",
            "Fibonacci(5) = 8\n",
            "Fibonacci(6) = 13\n",
            "Fibonacci(7) = 21\n",
            "Fibonacci(8) = 34\n",
            "Fibonacci(9) = 55\n"
          ]
        }
      ],
      "source": [
        "def fibonacci(n, fn1 = 1, fn2 = 1):\n",
        "    if n == 0 or n == 1:\n",
        "        return fn1\n",
        "    return fibonacci(n - 1, fn1 + fn2, fn1)\n",
        " \n",
        "for x in range(10):\n",
        "    print(f'Fibonacci({x}) =', fibonacci(x))\n"
      ]
    },
    {
      "cell_type": "markdown",
      "metadata": {
        "id": "hMu9oBG1SmZr"
      },
      "source": [
        "Faça uma função que recebe uma lista de números. Sua função deverá calcular e retornar, nesta ordem:\n",
        "\n",
        "\n",
        "*   o valor mínimo\n",
        "*   a média\n",
        "*   a mediana\n",
        "*   a moda\n",
        "*   o desvio padrão\n",
        "*   o valor máximo\n",
        "\n",
        "De modo que ela possa ser chamada da seguinte maneira:\n",
        "\n",
        "`minimo, media, mediana, moda, dp, maximo = estatistica(numeros)`\n",
        "\n"
      ]
    },
    {
      "cell_type": "code",
      "execution_count": 7,
      "metadata": {
        "id": "ohC8rsz-TJzE"
      },
      "outputs": [],
      "source": [
        "def mediana(l) -> float:\n",
        "    '''Retorna a mediana de uma lista recebida'''\n",
        "    metade = len(l) // 2\n",
        "    l.sort() \n",
        "    if not len(l) % 2:\n",
        "        return (l[metade - 1] + l[metade]) / 2.0\n",
        "    return l[metade]\n",
        "\n",
        "def moda(l) -> float:\n",
        "  '''Retorna a moda de uma lista recebida'''\n",
        "  max = 1\n",
        "  for i in l:\n",
        "    cont = l.count(i)\n",
        "    if cont > max:\n",
        "      max = cont\n",
        "\n",
        "  for i in l:\n",
        "    cont = l.count(i)\n",
        "    if cont == max:\n",
        "      moda_l = i\n",
        "\n",
        "  return moda_l\n",
        "\n",
        "def desvio(l) -> float:\n",
        "  '''Retorna o desvio padrão de uma lista recebida'''\n",
        "  avg = sum(l)/len(l)\n",
        "  soma_dp = 0\n",
        "  for num in l:\n",
        "    soma_dp = (((num-avg)**2)/len(l))+soma_dp\n",
        "  resultado = soma_dp**0.5\n",
        "  return resultado\n",
        "\n",
        "\n",
        "def estatistica(lista_num):\n",
        "  '''Retorna uma lista com Minimo, média, mediana, moda, desvio padrão e máximo\n",
        "  a partir de uma lista de números recebida '''\n",
        "  minimo = min(lista_num)\n",
        "  avg = sum(lista_num)/len(lista_num)\n",
        "  median = mediana(lista_num)\n",
        "  moda_res = moda(lista_num)\n",
        "  desvio_res = desvio(lista_num)\n",
        "  maximo = max(lista_num)\n",
        "\n",
        "  return minimo,avg,median,moda_res,desvio_res,maximo\n",
        "\n",
        "numeros = [4,6,7,2,3,2,5]\n",
        "minimo, media, mediana, moda, dp, maximo = estatistica(numeros)"
      ]
    },
    {
      "cell_type": "markdown",
      "metadata": {
        "id": "vawFINb-TPXR"
      },
      "source": [
        "Reescreva seu exercício de **validação de e-mail** da aula de strings. Você irá criar uma função chamada `valida_email`, que deverá retornar True ou False, onde True indica e-mail válido.\n",
        "\n",
        "Você pode, opcionalmente, criar outras funções que serão chamadas a partir dela. Aproveite as facilidades de função para escrever um código mais enxuto e sem diversos condicionais aninhados."
      ]
    },
    {
      "cell_type": "code",
      "execution_count": 8,
      "metadata": {
        "id": "-2nwETwhTj8H"
      },
      "outputs": [],
      "source": [
        "email = input('Digite o seu e-mail: ').lower()\n",
        "nome, provedor = email.split('@')\n",
        "\n",
        "def teste_arroba(nome, provedor):\n",
        "  if len(nome) < 2:\n",
        "    return False\n",
        "  else:\n",
        "    return True\n",
        "\n",
        "\n",
        "def teste_parte_nome(nome, provedor):\n",
        "  if (nome[0] < 'a' or nome[0] > 'z') and nome[0] != '_':\n",
        "    return False\n",
        "  else:\n",
        "    for letra in nome:\n",
        "      if (letra < 'a' or letra > 'z') and (\n",
        "          letra < '0' or letra > '9') and (\n",
        "          letra != '_' and letra != '.'):\n",
        "          return False\n",
        "          break\n",
        "      else:\n",
        "        return True\n",
        "                \n",
        "def teste_pontos_provedor(nome, provedor):\n",
        "  if '.' not in provedor or provedor[0] == '.' or provedor[-1] == '.':\n",
        "    return False\n",
        "  else:\n",
        "    return True\n",
        "\n",
        "def teste_tamanho_provedor(email):\n",
        "  invalido = False\n",
        "  nome, provedor = email.split('@')\n",
        "  partes = provedor.split('.')\n",
        "  for parte in partes:\n",
        "    if len(parte) < 2:\n",
        "      invalido = True\n",
        "    for letra in parte:\n",
        "      if (letra < 'a' or letra > 'z') and (\n",
        "          letra < '0' or letra > '9') and letra != '_':\n",
        "          invalido = True\n",
        "\n",
        "  if invalido:\n",
        "    return False\n",
        "  else:\n",
        "    return True\n",
        "\n",
        "arroba = teste_arroba(nome,provedor)\n",
        "nome = teste_parte_nome(nome,provedor)\n",
        "provedor = teste_pontos_provedor(nome,provedor)\n",
        "provedor_tam = teste_tamanho_provedor(email)\n",
        "\n",
        "if arroba and nome and provedor and provedor_tam:\n",
        "  print('Email válido!')\n",
        "else:\n",
        "  print('Email inválido!')"
      ]
    },
    {
      "cell_type": "markdown",
      "metadata": {
        "id": "OwhtKn4mTkcc"
      },
      "source": [
        "Reescreva seu exercício de **tabela Price** da aula de listas utilizando funções. \n",
        "\n",
        "Crie, pelo menos, 1 função para realizar a leitura (e validação) dos valores iniciais para calcular a tabela, 1 para montar a tabela, 1 para interagir com o usuário verificando quais meses consultar, 1 para formatar os dados que serão exibidos para o usuário e 1 para realizar a consulta na tabela. Você pode criar outras funções se achar conveniente."
      ]
    },
    {
      "cell_type": "code",
      "execution_count": 9,
      "metadata": {
        "id": "ACEPSpVGT6hr"
      },
      "outputs": [],
      "source": [
        "def entrada():\n",
        "  '''Solicita valores de entrada do empréstimo'''\n",
        "  valor_emprestimo = float(input('Informe o valor do empréstimo: '))\n",
        "  taxa_mes = float(input('Informe a taxa de juros em % ao mês: '))\n",
        "  tempo_meses = int(input('Informe quantos meses foi o empréstimo: '))\n",
        "  return valor_emprestimo,taxa_mes,tempo_meses\n",
        "\n",
        "def calcula_tabela_price(valor_emprestimo:float,i:float,n:int) -> list:\n",
        "  '''Calcula a tabela price em lista de meses, recebendo o valor do emprestimo,\n",
        "   a taxa de juros i e o tempo aplicado em meses n '''\n",
        "  i = i/100\n",
        "  prestacao = valor_emprestimo*((((1+i)**n)*i)/(((1+i)**n)-1))\n",
        "  saldo_devedor = valor_emprestimo\n",
        "  saldo_devedor_ant = valor_emprestimo\n",
        "  cont = 1 \n",
        "  tabela_price = []\n",
        "  while cont <= n:\n",
        "    juros = saldo_devedor*i\n",
        "    amort = prestacao-juros\n",
        "    saldo_devedor = saldo_devedor_ant-amort\n",
        "    saldo_devedor_ant = saldo_devedor\n",
        "    lista = [juros,amort,prestacao,saldo_devedor]\n",
        "    tabela_price.append(lista) \n",
        "    cont = cont +1 \n",
        "  \n",
        "  return tabela_price\n",
        "\n",
        "def consultar_juros_e_saldo (mes_consulta:int, tabela_price:list):\n",
        "  '''Recebe a tabela_price e um mês para consultar os dados do mês\n",
        "      Juros, Amortização, Prestação, Saldo devedor'''\n",
        "  while mes_consulta > 0:\n",
        "    if mes_consulta > len(tabela_price):\n",
        "      print('Esse mês não existe')\n",
        "      mes_consulta = int(input('Informe um mês para consultar: '))\n",
        "    else:\n",
        "      print(tabela_price[mes_consulta-1])\n",
        "      mes_consulta = int(input('Informe um mês para consultar: '))"
      ]
    },
    {
      "cell_type": "code",
      "execution_count": null,
      "metadata": {},
      "outputs": [],
      "source": [
        "valor_emprestimo,taxa_mes,tempo_meses = entrada()\n",
        "tabela_price = calcula_tabela_price(valor_emprestimo,taxa_mes,tempo_meses)\n",
        "consultar_juros_e_saldo(5, tabela_price)"
      ]
    }
  ],
  "metadata": {
    "colab": {
      "provenance": []
    },
    "kernelspec": {
      "display_name": "Python 3.10.5 64-bit",
      "language": "python",
      "name": "python3"
    },
    "language_info": {
      "codemirror_mode": {
        "name": "ipython",
        "version": 3
      },
      "file_extension": ".py",
      "mimetype": "text/x-python",
      "name": "python",
      "nbconvert_exporter": "python",
      "pygments_lexer": "ipython3",
      "version": "3.10.5"
    },
    "vscode": {
      "interpreter": {
        "hash": "75c7325c0caecc2d82c8a4e534cbb5ce82d278e087a13a7861173b66f0f67f74"
      }
    }
  },
  "nbformat": 4,
  "nbformat_minor": 0
}
