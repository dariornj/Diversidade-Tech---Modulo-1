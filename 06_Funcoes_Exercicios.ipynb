{
  "cells": [
    {
      "cell_type": "markdown",
      "metadata": {
        "id": "JLVg-HslLTOJ"
      },
      "source": [
        "# Funções"
      ]
    },
    {
      "cell_type": "markdown",
      "metadata": {
        "id": "T0rP7q_kOrY7"
      },
      "source": [
        "# Exercícios\n",
        "\n",
        "### Nenhum exercício cobrará isso especificamente, mas pratique o uso de type hints e docstrings em suas funções!\n",
        "### A maioria dos exercícios irá pedir apenas uma função. Para verificar se ela funciona, escreva também um pedacinho de programa que a chame e providencie os dados necessários para ela.\n",
        "### Muita atenção aos enunciados: \"recebe\" geralmente significa parâmetro, e \"retorna\" significa retorno. \n",
        "\n",
        "---\n",
        "\n",
        "\n",
        "Faça uma função que lê o nome do usuário do teclado e imprime \"Olá, [nome]\" na tela."
      ]
    },
    {
      "cell_type": "code",
      "execution_count": 1,
      "metadata": {
        "id": "LPhxZNtjP6ST"
      },
      "outputs": [
        {
          "name": "stdout",
          "output_type": "stream",
          "text": [
            "Olá, Dário\n"
          ]
        }
      ],
      "source": [
        "def saudacoes():\n",
        "    nome = input('Digite seu nome: ')\n",
        "    print(f'Olá, {nome}')\n",
        "\n",
        "saudacoes()"
      ]
    },
    {
      "cell_type": "markdown",
      "metadata": {
        "id": "apzQz1M3P9sL"
      },
      "source": [
        "Faça uma função que recebe um nome e imprime \"Olá, [nome]\" na tela."
      ]
    },
    {
      "cell_type": "code",
      "execution_count": 31,
      "metadata": {
        "id": "bKtTcN9gQBCQ"
      },
      "outputs": [
        {
          "name": "stdout",
          "output_type": "stream",
          "text": [
            "Olá, Dário\n"
          ]
        }
      ],
      "source": [
        "def saudacoes(nome: str) -> None:\n",
        "    print(f'Olá, {nome}')\n",
        "\n",
        "nome = input('Digite seu nome: ')\n",
        "saudacoes(nome)"
      ]
    },
    {
      "cell_type": "markdown",
      "metadata": {
        "id": "yNtgkGrxQBQT"
      },
      "source": [
        "Faça uma função que recebe um nome e retorna a string \"Olá, [nome]\"."
      ]
    },
    {
      "cell_type": "code",
      "execution_count": 34,
      "metadata": {
        "id": "6lhNot_tQF82"
      },
      "outputs": [
        {
          "name": "stdout",
          "output_type": "stream",
          "text": [
            "Olá, Dário\n"
          ]
        }
      ],
      "source": [
        "def saudacoes(nome: str) -> str:\n",
        "    string = f'Olá, {nome}'\n",
        "    return string\n",
        "\n",
        "resultado = saudacoes('Dário')\n",
        "print(resultado)"
      ]
    },
    {
      "cell_type": "markdown",
      "metadata": {
        "id": "41oTn2nNQGQE"
      },
      "source": [
        "Faça uma função que recebe um nome e um horário (considere apenas hora, sem minutos ou segundos). Sua função deverá retornar a string:\n",
        "\n",
        "* \"Bom dia, [nome]\" se a hora for inferior a 12.\n",
        "* \"Boa tarde, [nome]\" se a hora for pelo menos 12 e inferior a 18.\n",
        "* \"Boa noite, [nome]\" se a hora for igual ou superior a 18."
      ]
    },
    {
      "cell_type": "code",
      "execution_count": 7,
      "metadata": {
        "id": "nInKm2AQQnSJ"
      },
      "outputs": [
        {
          "name": "stdout",
          "output_type": "stream",
          "text": [
            "Boa noite, Dário\n"
          ]
        }
      ],
      "source": [
        "def saudar(nome:str, hora:int) -> str:\n",
        "    if hora <=12:\n",
        "        saudacao = f'Bom dia, {nome}'\n",
        "    elif hora >= 12 and hora < 18:\n",
        "        saudacao = f'Boa tarde, {nome}'\n",
        "    elif hora >= 18 and hora <= 23:\n",
        "        saudacao = f'Boa noite, {nome}'\n",
        "    return saudacao\n",
        "\n",
        "nome = input ('Digite o seu nome: ')\n",
        "hora = int(input('Digite a hora: '))\n",
        "print(saudar(nome, hora))"
      ]
    },
    {
      "cell_type": "markdown",
      "metadata": {
        "id": "CC1I-McRQnjh"
      },
      "source": [
        "Faça uma função que recebe uma temperatura em graus celsius e retorna a temperatura equivalente em fahrenheit."
      ]
    },
    {
      "cell_type": "code",
      "execution_count": 16,
      "metadata": {
        "id": "68emXWwpQt2q"
      },
      "outputs": [
        {
          "name": "stdout",
          "output_type": "stream",
          "text": [
            "A temperatura 0.0°C em Fahrenheit é 32.0°F\n"
          ]
        }
      ],
      "source": [
        "def celsius_fahrenheit (t_c: float) -> float:\n",
        "    return 9*t_c/5 + 32\n",
        "\n",
        "t_c = float(input('Digite uma temperatura em Celsius para converter em Fahrenheit: '))\n",
        "print(f'A temperatura {t_c}°C em Fahrenheit é {celsius_fahrenheit(t_c)}°F')\n"
      ]
    },
    {
      "cell_type": "markdown",
      "metadata": {
        "id": "gM-HBCNqQuEg"
      },
      "source": [
        "Modifique a função anterior adicionando um parâmetro booleano \"inverso\". Caso ele receba \"True\", a função irá considerar que a temperatura recebida já está em fahrenheit e deverá retorná-la convertida para celsius."
      ]
    },
    {
      "cell_type": "code",
      "execution_count": 18,
      "metadata": {
        "id": "SM-s6mmyQ4Lv"
      },
      "outputs": [
        {
          "name": "stdout",
          "output_type": "stream",
          "text": [
            "A temperatura 32.0°F em Celsius é 0.0°C\n"
          ]
        }
      ],
      "source": [
        "def celsius_fahrenheit (temp: float, inverse: bool = False) -> float:\n",
        "    \"\"\" Função que converte temperaturas entre escalas Celsius e Fahrenheit.\n",
        "        inverse = True, Entrada em Celsius retorna Fahrenheit\n",
        "        inverse = False, Entrada em Fahrenheit, retorno em Celsius \"\"\"\n",
        "    if inverse == True:\n",
        "        return 5*(temp-32)/9\n",
        "    else:\n",
        "        return 9*temp/5 + 32\n",
        "\n",
        "temp = float(input('Digite uma temperatura que deseja converter: '))\n",
        "aux = int(input('Deseja converter de Celsius para Fahrenheit (digite 1) ou de Fahrenheit para Celsius (digite 2)? '))\n",
        "\n",
        "if aux == 1:\n",
        "    print(f'A temperatura {temp}°C em Fahrenheit é {celsius_fahrenheit(temp)}°F')\n",
        "elif aux == 2:\n",
        "    print(f'A temperatura {temp}°F em Celsius é {celsius_fahrenheit(temp, True)}°C')\n",
        "else:\n",
        "    print('Conversão incorreta')\n"
      ]
    },
    {
      "cell_type": "markdown",
      "metadata": {
        "id": "1z8PqSrVQ4vL"
      },
      "source": [
        "Modifique a função anterior adicionando mais um parâmetro booleano \"absoluto\". Caso ele seja True:\n",
        "\n",
        "\n",
        "*   Se inverso for True, ele retornará a resposta em kelvin ao invés de celsius.\n",
        "*   Se inverso for False, ele irá considerar a temperatura passada como parâmetro como sendo kelvin ao invés de celsius. O retorno ainda será em fahrenheit.\n",
        "\n"
      ]
    },
    {
      "cell_type": "code",
      "execution_count": 8,
      "metadata": {
        "id": "fsKyERFGRSKT"
      },
      "outputs": [
        {
          "name": "stdout",
          "output_type": "stream",
          "text": [
            "161.66666666666666\n"
          ]
        }
      ],
      "source": [
        "def conversao_temperaturas (temp: float, inverse: bool = False, absoluto: bool = False) -> float:\n",
        "    \"\"\" Função que converte temperaturas entre escalas Celsius, Fahrenheit e Kelvin.\n",
        "        inverse = True, absoluto = True: Entrada em Fahrenheit retorna Kelvin\n",
        "        inverse = False, absoluto = True: Entrada em Kelvin, retorno em Fahrenheit\n",
        "        inverse = True, absoluto = False: Entrada em Fahrenheit, retorno em Celsius\n",
        "        inverse = False, absoluto = False: Entrada em Celsius, retorno em Fahrenheit \"\"\"\n",
        "\n",
        "    if absoluto == True:\n",
        "        if inverse:\n",
        "            return (temp-32)*5/9 + 273.15\n",
        "        else:\n",
        "            return (temp - 273.15)*1.8 + 32\n",
        "    else:\n",
        "        if inverse:\n",
        "            return 5*(temp-32)/9\n",
        "        else:\n",
        "            return 9*temp/5 + 32\n",
        "\n",
        "print(conversao_temperaturas(323, True, False))"
      ]
    },
    {
      "cell_type": "markdown",
      "metadata": {
        "id": "BnSEaVp_RSjB"
      },
      "source": [
        "Faça uma função que recebe um número \"n\" e retorna o fatorial de n utilizando loop."
      ]
    },
    {
      "cell_type": "code",
      "execution_count": 5,
      "metadata": {
        "id": "q5zbD5mPRqup"
      },
      "outputs": [
        {
          "name": "stdout",
          "output_type": "stream",
          "text": [
            "3628800\n"
          ]
        }
      ],
      "source": [
        "def fatorial (n: int) -> int | str:\n",
        "    if n >= 0:\n",
        "        fat = 1\n",
        "        if n == 0 or n == 1:\n",
        "            return 1 \n",
        "        else:\n",
        "            for i in range(n):\n",
        "                fat = fat*(i+1)\n",
        "            return fat\n",
        "    else:\n",
        "        return 'Fatorial de número negativo inválido'\n",
        "\n",
        "print(fatorial(10))          \n"
      ]
    },
    {
      "cell_type": "markdown",
      "metadata": {
        "id": "c84DeCSYRq_u"
      },
      "source": [
        "Faça uma função que recebe um número \"n\" e retorna o fatorial de n utilizando recursão."
      ]
    },
    {
      "cell_type": "code",
      "execution_count": 4,
      "metadata": {
        "id": "8VBjbi-tRuZP"
      },
      "outputs": [
        {
          "name": "stdout",
          "output_type": "stream",
          "text": [
            "3628800\n"
          ]
        }
      ],
      "source": [
        "def fatorial (n: int) -> int | str:\n",
        "    if n >= 0:\n",
        "        if n == 0 or n == 1:\n",
        "            return 1 \n",
        "        else:\n",
        "            return n*fatorial(n-1)\n",
        "    else:\n",
        "        return 'Fatorial de número negativo inválido'\n",
        "\n",
        "print(fatorial(10))"
      ]
    },
    {
      "cell_type": "markdown",
      "metadata": {
        "id": "iC_4g6a4RvBh"
      },
      "source": [
        "Algumas linguagens oferecem um recurso chamado de **tail recursion**, ou **recursão de cauda**. Nelas, o resultado de chamadas recursivas recentes é temporariamente armazenado e pode ser reutilizado em outras chamadas. O Python **NÃO** possui recursão de cauda nativamente, mas é possível manipularmos os parâmetros de nossas funções para obter esse tipo de recursão na prática.\n",
        "\n",
        "Isso é útil para evitar que valores já calculados previamente sejam recalculados (muitas vezes em uma mesma chamada inicial da função).\n",
        "\n",
        "Modifique sua função fatorial recursiva para incluir uma estrutura de dados conveniente que preserve os valores já calculados. Em chamadas futuras, ela deverá verificar se um valor já existe antes de calculá-lo.\n"
      ]
    },
    {
      "cell_type": "code",
      "execution_count": null,
      "metadata": {
        "id": "Xi6IyeG-SJPC"
      },
      "outputs": [],
      "source": []
    },
    {
      "cell_type": "markdown",
      "metadata": {
        "id": "O50SyrO3UAKn"
      },
      "source": [
        "Faça uma função que recebe 2 valores: uma base e um expoente. Sua função deverá calcular o resultado da exponenciação de maneira **recursiva**, sem utilizar o operador `**`."
      ]
    },
    {
      "cell_type": "code",
      "execution_count": null,
      "metadata": {
        "id": "7JCVjJJzUG6j"
      },
      "outputs": [],
      "source": []
    },
    {
      "cell_type": "markdown",
      "metadata": {
        "id": "HRX9lMalSJhC"
      },
      "source": [
        "Faça uma função que recebe um número n e retorna o n-ésimo termo de Fibonacci de maneira recursiva."
      ]
    },
    {
      "cell_type": "code",
      "execution_count": null,
      "metadata": {
        "id": "WK9Y1KtjSQM7"
      },
      "outputs": [],
      "source": []
    },
    {
      "cell_type": "markdown",
      "metadata": {
        "id": "Zq0mi7pZSQqI"
      },
      "source": [
        "Modifique sua função anterior para evitar que termos repetidos sejam recalculados. \n",
        "\n",
        "Ex: ao calcular F(6), a função será decomposta em F(5) + F(4). Porém, para calcular F(5), teremos F(4) + F(3), ou seja, F(4) aparece 2 vezes. Ele deverá ser *calculado* apenas uma vez."
      ]
    },
    {
      "cell_type": "code",
      "execution_count": null,
      "metadata": {
        "id": "O7x-7LrhSluD"
      },
      "outputs": [],
      "source": []
    },
    {
      "cell_type": "markdown",
      "metadata": {
        "id": "hMu9oBG1SmZr"
      },
      "source": [
        "Faça uma função que recebe uma lista de números. Sua função deverá calcular e retornar, nesta ordem:\n",
        "\n",
        "\n",
        "*   o valor mínimo\n",
        "*   a média\n",
        "*   a mediana\n",
        "*   a moda\n",
        "*   o desvio padrão\n",
        "*   o valor máximo\n",
        "\n",
        "De modo que ela possa ser chamada da seguinte maneira:\n",
        "\n",
        "`minimo, media, mediana, moda, dp, maximo = estatistica(numeros)`\n",
        "\n"
      ]
    },
    {
      "cell_type": "code",
      "execution_count": null,
      "metadata": {
        "id": "ohC8rsz-TJzE"
      },
      "outputs": [],
      "source": []
    },
    {
      "cell_type": "markdown",
      "metadata": {
        "id": "vawFINb-TPXR"
      },
      "source": [
        "Reescreva seu exercício de **validação de e-mail** da aula de strings. Você irá criar uma função chamada `valida_email`, que deverá retornar True ou False, onde True indica e-mail válido.\n",
        "\n",
        "Você pode, opcionalmente, criar outras funções que serão chamadas a partir dela. Aproveite as facilidades de função para escrever um código mais enxuto e sem diversos condicionais aninhados."
      ]
    },
    {
      "cell_type": "code",
      "execution_count": null,
      "metadata": {
        "id": "-2nwETwhTj8H"
      },
      "outputs": [],
      "source": []
    },
    {
      "cell_type": "markdown",
      "metadata": {
        "id": "OwhtKn4mTkcc"
      },
      "source": [
        "Reescreva seu exercício de **tabela Price** da aula de listas utilizando funções. \n",
        "\n",
        "Crie, pelo menos, 1 função para realizar a leitura (e validação) dos valores iniciais para calcular a tabela, 1 para montar a tabela, 1 para interagir com o usuário verificando quais meses consultar, 1 para formatar os dados que serão exibidos para o usuário e 1 para realizar a consulta na tabela. Você pode criar outras funções se achar conveniente."
      ]
    },
    {
      "cell_type": "code",
      "execution_count": null,
      "metadata": {
        "id": "ACEPSpVGT6hr"
      },
      "outputs": [],
      "source": []
    }
  ],
  "metadata": {
    "colab": {
      "provenance": []
    },
    "kernelspec": {
      "display_name": "Python 3.10.5 64-bit",
      "language": "python",
      "name": "python3"
    },
    "language_info": {
      "codemirror_mode": {
        "name": "ipython",
        "version": 3
      },
      "file_extension": ".py",
      "mimetype": "text/x-python",
      "name": "python",
      "nbconvert_exporter": "python",
      "pygments_lexer": "ipython3",
      "version": "3.10.5"
    },
    "vscode": {
      "interpreter": {
        "hash": "75c7325c0caecc2d82c8a4e534cbb5ce82d278e087a13a7861173b66f0f67f74"
      }
    }
  },
  "nbformat": 4,
  "nbformat_minor": 0
}
