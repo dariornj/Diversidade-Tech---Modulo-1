{
  "cells": [
    {
      "cell_type": "markdown",
      "metadata": {
        "id": "M1oib8-O7Bac"
      },
      "source": [
        "# Operações lógicas\n"
      ]
    },
    {
      "cell_type": "markdown",
      "metadata": {
        "id": "i1IB40kJAzWh"
      },
      "source": [
        "# Exercícios\n",
        "\n",
        "Faça um programa que pede para o usuário digitar um número e responde se o número é positivo ou negativo.\n",
        "\n"
      ]
    },
    {
      "cell_type": "code",
      "execution_count": null,
      "metadata": {
        "id": "xUb8JTuxA4CI"
      },
      "outputs": [],
      "source": [
        "numero = float(input('Digite um número: '))\n",
        "\n",
        "if numero >= 0:\n",
        "    print(f'O número {numero} é positivo.')\n",
        "else:\n",
        "    print(f'O número {numero} é negativo.')"
      ]
    },
    {
      "cell_type": "markdown",
      "metadata": {
        "id": "OkSL3yxZA4PZ"
      },
      "source": [
        "Faça um programa que pede para a usuária digitar um número e responde se o número é par ou ímpar.\n",
        "\n"
      ]
    },
    {
      "cell_type": "code",
      "execution_count": 4,
      "metadata": {
        "id": "ykf08TYbA7xG"
      },
      "outputs": [
        {
          "name": "stdout",
          "output_type": "stream",
          "text": [
            "O número -11 é ímpar.\n"
          ]
        }
      ],
      "source": [
        "numero = int(input('Digite um número inteiro: '))\n",
        "\n",
        "if numero % 2 == 0:\n",
        "    print (f'O número {numero} é par.')\n",
        "else:\n",
        "    print (f'O número {numero} é ímpar.')\n",
        "\n"
      ]
    },
    {
      "cell_type": "markdown",
      "metadata": {
        "id": "ZV7mFcz4A-Dk"
      },
      "source": [
        "Faça um programa que pergunta o nome do usuário e o horário do dia (apenas horas, sem os minutos). O programa deverá responder:\n",
        "\n",
        "* ```Bom dia, [nome]!``` caso o horário esteja entre 4 e 11.\n",
        "* ```Boa tarde, [nome]!``` caso o horário esteja entre 12 e 17.\n",
        "* ```Boa noite, [nome]!``` caso o horário esteja entre 18 e 23 ou 0 e 3.\n",
        "* ```Horário inválido``` caso o horário seja superior a 23 ou inferior a 0."
      ]
    },
    {
      "cell_type": "code",
      "execution_count": 9,
      "metadata": {
        "id": "MqMV_GGbBB91"
      },
      "outputs": [
        {
          "name": "stdout",
          "output_type": "stream",
          "text": [
            "Bom dia, Dário!\n"
          ]
        }
      ],
      "source": [
        "nome = input ('Digite o seu nome: ')\n",
        "hora = int(input('Digite a hora: '))\n",
        "\n",
        "if hora >=4 and hora <=11:\n",
        "    print(f'Bom dia, {nome}!')\n",
        "elif hora >= 12 and hora <= 17:\n",
        "    print(f'Boa tarde, {nome}')\n",
        "elif hora >= 18 and hora <= 23 or hora >= 0 and hora <= 3:\n",
        "    print(f'Boa noite, {nome}!')\n",
        "else:\n",
        "    print('Horário inválido!')\n"
      ]
    },
    {
      "cell_type": "markdown",
      "metadata": {
        "id": "BvB2cq8-BCr8"
      },
      "source": [
        "Faça um programa que pergunta o nome e o gênero da pessoa que está utilizando. O programa deverá responder:\n",
        "\n",
        "* ```Seja bem-vindo, [nome]!``` caso o gênero seja igual a 'M'\n",
        "* ```Seja bem-vinda, [nome]!``` caso o gênero seja igual a 'F'\n",
        "* ```Sej@ bem-vind@, [nome]!``` caso o gênero seja 'Neutro' ou 'Outro'\n",
        "* ```Opção inválida``` caso gênero não possua um dos 3 valores descritos acima."
      ]
    },
    {
      "cell_type": "code",
      "execution_count": 12,
      "metadata": {
        "id": "27-Xu2_xBOME"
      },
      "outputs": [
        {
          "name": "stdout",
          "output_type": "stream",
          "text": [
            "Sej@ bem vind@, Dário!\n"
          ]
        }
      ],
      "source": [
        "nome = input('Digite o seu nome: ')\n",
        "genero = input('Digite o seu gênero (M, F ou Outro): ')\n",
        "\n",
        "if genero == 'M':\n",
        "    print(f'Seja bem vindo, {nome}!')\n",
        "elif genero == 'F':\n",
        "    print(f'Seja bem vinda, {nome}!')\n",
        "elif genero == 'Outro':\n",
        "    print(f'Sej@ bem vind@, {nome}!')\n",
        "else:\n",
        "    print('Opção inválida')\n"
      ]
    },
    {
      "cell_type": "markdown",
      "metadata": {
        "id": "GifD2E6LBcmy"
      },
      "source": [
        "Faça um programa que deverá pedir as 2 notas de uma aluna e calcular sua média. Considere que as notas serão de 0 a 100.\n",
        "\n",
        "O programa deverá informar a média da aluna e seu status, obedecendo as regrinhas abaixo:\n",
        "\n",
        "* Aprovada, caso a média seja pelo menos 70.\n",
        "* Exame, caso a média seja pelo menos 30 e menor do que 70.\n",
        "* Reprovada caso a média seja inferior a 30."
      ]
    },
    {
      "cell_type": "code",
      "execution_count": 15,
      "metadata": {
        "id": "iDjI-71fBkw7"
      },
      "outputs": [
        {
          "name": "stdout",
          "output_type": "stream",
          "text": [
            "Exame com nota 55.0\n"
          ]
        }
      ],
      "source": [
        "notas = []\n",
        "\n",
        "for i in range(2):\n",
        "    notas.append(float(input(f'Digite a nota {i+1}(0 a 100): ')))\n",
        "\n",
        "media = sum(notas)/len(notas)\n",
        "\n",
        "if media >= 70:\n",
        "    print(f'Aprovada com nota {media}')\n",
        "elif media >= 30:\n",
        "    print(f'Exame com nota {media}')\n",
        "else:\n",
        "    print(f'Reprovada com nota {media}')"
      ]
    },
    {
      "cell_type": "markdown",
      "metadata": {
        "id": "jz8k6rr3Bk_M"
      },
      "source": [
        "Modifique o programa das médias do exercício anterior da seguinte maneira:\n",
        "\n",
        "Caso a aluna tenha ficado de exame, pergunte a nota do exame.\n",
        "\n",
        "Uma nova média deve ser calculada entre a média original e a nota do exame:\n",
        "\n",
        "media_exame = (media + exame)/2\n",
        "\n",
        "O programa deve exibir essa nova média junto do novo status:\n",
        "\n",
        "* Aprovada por exame caso a media_exame seja pelo menos 50.\n",
        "* Reprovada caso a media_exame seja inferior a 50."
      ]
    },
    {
      "cell_type": "code",
      "execution_count": 17,
      "metadata": {
        "id": "Hkf--Hp3BqOH"
      },
      "outputs": [
        {
          "name": "stdout",
          "output_type": "stream",
          "text": [
            "Aprovada por exame com 52.5\n"
          ]
        }
      ],
      "source": [
        "notas = []\n",
        "\n",
        "for i in range(2):\n",
        "    notas.append(float(input(f'Digite a nota {i+1}(0 a 100): ')))\n",
        "\n",
        "media = sum(notas)/len(notas)\n",
        "\n",
        "if media >= 70:\n",
        "    print(f'Aprovada com nota {media}')\n",
        "elif media >= 30:\n",
        "    nota_exame = float(input('Digite a nota do exame (0 a 100): '))\n",
        "    nova_media = (media + nota_exame)/2\n",
        "    if nova_media >= 50:\n",
        "        print(f'Aprovada por exame com {nova_media}')\n",
        "    else:\n",
        "        print(f'Reprovada por exame com {nova_media}')\n",
        "else:\n",
        "    print(f'Reprovada com nota {media}')"
      ]
    },
    {
      "cell_type": "markdown",
      "metadata": {
        "id": "tk5Wn9o9Bqbg"
      },
      "source": [
        "Faça um programa que pergunta o comprimento de cada um dos 3 lados de um triângulo.\n",
        "\n",
        "O programa deverá responder:\n",
        "\n",
        "* É triângulo, caso nenhum dos lados possua comprimento superior à soma dos outros dos lados.\n",
        "\n",
        "* Não é triângulo, caso um dos lados seja possua comprimento superior à soma dos outros dois lados.\n",
        "\n",
        "Exemplos:\n",
        "\n",
        "Se os lados forem 3, 4 e 5, o triângulo existe, pois:\n",
        "\n",
        "* 5 < 3 + 4\n",
        "* 4 < 3 + 5\n",
        "* 3 < 4 + 5\n",
        "\n",
        "Se os lados forem 6, 10 e 6, o triângulo também existe:\n",
        "\n",
        "* 6 < 10 + 6\n",
        "* 6 < 10 + 6\n",
        "* 10 < 6 + 6\n",
        "\n",
        "Já se os supostos lados forem 2, 5 e 2, o triângulo não existe, pois:\n",
        "\n",
        "* 5 > 2 + 2"
      ]
    },
    {
      "cell_type": "code",
      "execution_count": 23,
      "metadata": {
        "id": "6ERJJVrDB1Ab"
      },
      "outputs": [
        {
          "name": "stdout",
          "output_type": "stream",
          "text": [
            "O triângulo não existe\n"
          ]
        }
      ],
      "source": [
        "lados = []\n",
        "for i in range(3):\n",
        "    lados.append(float(input(f'Digite o lado {i+1} do triângulo. ')))\n",
        "\n",
        "if lados[0] < (lados[1] + lados[2]) and lados[1] < (lados[0] + lados[2]) and lados[2] < (lados[0] + lados[1]):\n",
        "    print ('O triângulo existe.')\n",
        "else:\n",
        "    print('O triângulo não existe')\n",
        "\n"
      ]
    },
    {
      "cell_type": "markdown",
      "metadata": {
        "id": "aNb-sM6AB93z"
      },
      "source": [
        "Modifique o programa dos triângulos do exercício anterior da seguinte maneira:\n",
        "\n",
        "Caso o programa tenha determinado que o triângulo existe, informe também o seu tipo:\n",
        "\n",
        "* Equilátero, caso os 3 lados sejam iguais\n",
        "* Isósceles, caso apenas 2 lados sejam iguais\n",
        "* Escaleno, caso todos os lados sejam diferentes entre si"
      ]
    },
    {
      "cell_type": "code",
      "execution_count": 28,
      "metadata": {
        "id": "MiJjoe92CAeb"
      },
      "outputs": [
        {
          "name": "stdout",
          "output_type": "stream",
          "text": [
            "O triângulo é escaleno.\n"
          ]
        }
      ],
      "source": [
        "lados = []\n",
        "for i in range(3):\n",
        "    lados.append(float(input(f'Digite o lado {i+1} do triângulo. ')))\n",
        "\n",
        "if lados[0] < (lados[1] + lados[2]) and lados[1] < (lados[0] + lados[2]) and lados[2] < (lados[0] + lados[1]):\n",
        "    if lados[0] == lados[1] and lados[1] == lados[2]:\n",
        "        print('O triângulo é equilátero.')\n",
        "    elif lados[0] != lados[1] and lados[1] != lados[2] and lados[2] != lados[0]:\n",
        "        print('O triângulo é escaleno.')\n",
        "    else:\n",
        "        print('O triângulo é isósceles')\n",
        "else:\n",
        "    print('O triângulo não existe')"
      ]
    },
    {
      "cell_type": "markdown",
      "metadata": {
        "id": "NRSL5HT0CBA_"
      },
      "source": [
        "Faça um programa que pede para a usuária digitar, separadamente, os coeficientes a, b e c de uma equação de segundo grau.\n",
        "\n",
        "O programa deverá calcular o valor do discriminante (delta) e:\n",
        "\n",
        "* Caso seja positivo, o programa deverá calcular e exibir na tela os valores de suas duas raizes reais e distintas.\n",
        "\n",
        "* Caso seja zero, o programa deverá calcular e exibir na tela a sua única raiz.\n",
        "\n",
        "* Caso seja negativo, o programa deverá exibir a mensagem Não possui raizes reais.\n",
        "\n",
        "Dica 1: caso precise refrescar a memória com as fórmulas, este site pode ser útil.\n",
        "\n",
        "Dica 2: elevar um número ao expoente meio (1/2 ou 0.5) equivale a calcular sua raiz quadrada. 4 elevado a (1/2) dá 2. 9 elevado a (1/2) dá 3."
      ]
    },
    {
      "cell_type": "code",
      "execution_count": 37,
      "metadata": {
        "id": "-2W_1tHvCFph"
      },
      "outputs": [
        {
          "name": "stdout",
          "output_type": "stream",
          "text": [
            "As raízes são 1.0 e -3.0\n"
          ]
        }
      ],
      "source": [
        "a = float(input('Digite o termo a: '))\n",
        "b = float(input('Digite o termo b: '))\n",
        "c = float(input('Digite o termo c: '))\n",
        "\n",
        "delta = b**2 - 4*a*c\n",
        "\n",
        "if delta > 0:\n",
        "    x1 = (-b + delta**(1/2))/(2*a)\n",
        "    x2 = (-b - delta**(1/2))/(2*a)\n",
        "    print(f'As raízes são {x1} e {x2}')\n",
        "elif delta == 0:\n",
        "    x = -b/(2*a)\n",
        "else:\n",
        "    print('Não possui raízes reais.')"
      ]
    },
    {
      "cell_type": "markdown",
      "metadata": {
        "id": "GAE4NmFkCFzQ"
      },
      "source": [
        "Faça um programa que pergunta um ano para a usuária e responde se ele é bissexto ou não.\n",
        "\n",
        "A regra geral para determinar se um ano é bissexto é: todo ano divisível por 4, a princípio, é bissexto: 2016, 2020, 2024...\n",
        "\n",
        "Porém existe uma exceção: anos divisíveis por 100 não são bissextos. O ano 2100, por exemplo, é divisível por 4, mas como também é divisível por 100, ele não pode ser bissexto.\n",
        "\n",
        "A exceção possui uma exceção: anos divisíveis por 400 são bissextos. O ano 2000, por exemplo, é divisível por 100. Porém, como ele também é divisível por 400, ele torna-se bissexto."
      ]
    },
    {
      "cell_type": "code",
      "execution_count": 44,
      "metadata": {
        "id": "XJfuJkmWDrn-"
      },
      "outputs": [
        {
          "name": "stdout",
          "output_type": "stream",
          "text": [
            "3 não é bissexto.\n"
          ]
        }
      ],
      "source": [
        "ano = int(input('Digite um ano: '))\n",
        "\n",
        "\n",
        "if ano%400 == 0:\n",
        "    print(f'{ano} é bissexto.')\n",
        "elif ano%100 == 0:\n",
        "    print(f'{ano} não é bissexto.')\n",
        "elif ano%4 == 0:\n",
        "    print(f'{ano} é bissexto.')\n",
        "else:\n",
        "    print(f'{ano} não é bissexto.')\n"
      ]
    },
    {
      "cell_type": "code",
      "execution_count": 48,
      "metadata": {},
      "outputs": [
        {
          "name": "stdout",
          "output_type": "stream",
          "text": [
            "300 não é bissexto.\n"
          ]
        }
      ],
      "source": [
        "ano = int(input('Digite um ano: '))\n",
        "\n",
        "\n",
        "if ano%4 == 0:\n",
        "    if ano%100 == 0:\n",
        "        if ano%400 == 0:\n",
        "            print(f'{ano} é bissexto.')\n",
        "        else:\n",
        "            print(f'{ano} não é bissexto.')\n",
        "    else:\n",
        "        print(f'{ano} é bissexto.')\n",
        "else:\n",
        "    print(f'{ano} não é bissexto')"
      ]
    },
    {
      "cell_type": "markdown",
      "metadata": {
        "id": "9cPG1rK1Dr5V"
      },
      "source": [
        "Um banco oferece as seguintes opções de aplicação de renda fixa:\n",
        "\n",
        "* Fundo A: aceita aplicações a partir de 50 reais, não possui tempo mínimo de aplicação e rende 10% ao ano.\n",
        "\n",
        "* Fundo B: aceita aplicações a partir de 100 reais, possui tempo mínimo de aplicação de 1 ano e rende 12% ao ano.\n",
        "\n",
        "* Fundo C: aceita aplicações a partir de 500 reais, possui tempo mínimo de aplicação de 2 anos e rende 13% ao ano.\n",
        "\n",
        "* Fundo D: aceita aplicações a partir de 1000 reais, possui tempo mínimo de aplicação de 3 anos e rende 15% ao ano.\n",
        "\n",
        "* Fundo E: aceita aplicações a partir de 3000 reais, possui tempo mínimo de aplicação de 5 anos e rende 18% ao ano.\n",
        "\n",
        "Faça um programa que pergunta para a usuária em qual fundo ela deseja aplicar seu dinheiro, quanto dinheiro ela possui e o tempo que ela pretende deixar o dinheiro aplicado (em anos).\n",
        "\n",
        "Caso o valor e o tempo estejam adequados às regras do fundo selecionado, utilize a fórmula dos juros compostos para informar para ela o valor total que ela irá sacar ao final do período informado por ela.\n",
        "\n",
        "Caso contrário, exiba a mensagem Não é possível realizar essa aplicação."
      ]
    },
    {
      "cell_type": "code",
      "execution_count": 54,
      "metadata": {
        "id": "xNJpc7tZDxpC"
      },
      "outputs": [
        {
          "name": "stdout",
          "output_type": "stream",
          "text": [
            "Poderá sacar R$2739303.46\n"
          ]
        }
      ],
      "source": [
        "fundo = input('Digite o fundo que deseja investir (A, B, C, D ou E: ')\n",
        "capital = float(input('Digite o dinheiro que possui: '))\n",
        "tempo = float(input('Digite o tempo de aplicação (anos): '))\n",
        "\n",
        "if fundo == 'A':\n",
        "    if capital < 50:\n",
        "        print('Não é possível realizar essa aplicação.')\n",
        "    else:\n",
        "        montante = capital*(1+0.1)**tempo\n",
        "        print(f'Poderá sacar R${round(montante, 2)}')\n",
        "elif fundo == 'B':\n",
        "    if capital < 100 or tempo < 1:\n",
        "        print('Não é possível realizar essa aplicação.')\n",
        "    else:\n",
        "        montante = capital*(1+0.12)**tempo\n",
        "        print(f'Poderá sacar R${round(montante, 2)}')\n",
        "\n",
        "elif fundo == 'C':\n",
        "    if capital < 500 or tempo < 2:\n",
        "        print('Não é possível realizar essa aplicação.')\n",
        "    else:\n",
        "        montante = capital*(1+0.13)**tempo\n",
        "        print(f'Poderá sacar R${round(montante, 2)}')\n",
        "\n",
        "elif fundo == 'D':\n",
        "    if capital < 1000 or tempo < 3:\n",
        "        print('Não é possível realizar essa aplicação.')\n",
        "    else:\n",
        "        montante = capital*(1+0.15)**tempo\n",
        "        print(f'Poderá sacar R${round(montante, 2)}')\n",
        "\n",
        "elif fundo == 'E':\n",
        "    if capital < 3000 or tempo < 5:\n",
        "        print('Não é possível realizar essa aplicação.')\n",
        "    else:\n",
        "        montante = capital*(1+0.18)**tempo\n",
        "        print(f'Poderá sacar R${round(montante, 2)}')"
      ]
    }
  ],
  "metadata": {
    "colab": {
      "provenance": []
    },
    "kernelspec": {
      "display_name": "Python 3.10.5 64-bit",
      "language": "python",
      "name": "python3"
    },
    "language_info": {
      "codemirror_mode": {
        "name": "ipython",
        "version": 3
      },
      "file_extension": ".py",
      "mimetype": "text/x-python",
      "name": "python",
      "nbconvert_exporter": "python",
      "pygments_lexer": "ipython3",
      "version": "3.10.5"
    },
    "vscode": {
      "interpreter": {
        "hash": "75c7325c0caecc2d82c8a4e534cbb5ce82d278e087a13a7861173b66f0f67f74"
      }
    }
  },
  "nbformat": 4,
  "nbformat_minor": 0
}
