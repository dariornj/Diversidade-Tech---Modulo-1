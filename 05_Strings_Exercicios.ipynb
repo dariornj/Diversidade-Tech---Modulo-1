{
  "nbformat": 4,
  "nbformat_minor": 0,
  "metadata": {
    "colab": {
      "provenance": []
    },
    "kernelspec": {
      "name": "python3",
      "display_name": "Python 3"
    },
    "language_info": {
      "name": "python"
    }
  },
  "cells": [
    {
      "cell_type": "markdown",
      "source": [
        "# Strings\n",
        "\n",
        "No primeiro capítulo mencionamos quatro tipos primitivos de dados: inteiro, real, lógico e texto/literal (string). Na verdade, o quarto tipo básico seria um caractere. Uma string é uma coleção de caracteres - como se fosse uma lista, mas aceitando apenas elementos textuais. Vamos verificar algumas propriedades das strings!\n",
        "\n",
        "## Acessando elementos em uma string\n",
        "No capítulo sobre Listas, vimos que podemos acessar elementos individuais de uma lista utilizando um índice entre colchetes. Vamos testar a mesma lógica com strings?"
      ],
      "metadata": {
        "id": "6JN3rPrbtHy8"
      }
    },
    {
      "cell_type": "code",
      "source": [
        "frase = \"Let's Code\"\n",
        "print(frase[0])\n",
        "print(frase[1])\n",
        "print(frase[2])\n",
        "print(frase[3])\n",
        "print(frase[4])"
      ],
      "metadata": {
        "id": "QCb3OwJTtJcY"
      },
      "execution_count": null,
      "outputs": []
    },
    {
      "cell_type": "markdown",
      "source": [
        "Note que o programa acima imprime \"Let's\", com um caractere por linha. Ou seja, ele considerou frase[0] como \"L\", frase[1] como \"e\", e assim sucessivamente. Uma string é, de fato, uma coleção de caracteres.\n",
        "\n",
        "Porém, ao contrário de uma lista, dizemos que uma string é imutável. Isso significa que não podemos alterar um elemento individual da string. O programa abaixo produz um erro:"
      ],
      "metadata": {
        "id": "Ql9FAx8qtNdg"
      }
    },
    {
      "cell_type": "code",
      "source": [
        "frase = \"let's code\"\n",
        "frase[0] = 'L'"
      ],
      "metadata": {
        "id": "v6HAKrtctR30"
      },
      "execution_count": null,
      "outputs": []
    },
    {
      "cell_type": "markdown",
      "source": [
        "Para alterar uma string, é necessário redefini-la, de modo que a string original será descartada e a nova (alterada) será escrita por cima da original. Ou, alternativamente, podemos gerar uma cópia da string com alterações. Veremos mais detalhes adiante.\n",
        "\n",
        "## Operações entre strings\n",
        "### Operadores aritméticos\n",
        "Alguns operadores aritméticos funcionam com strings também. Naturalmente, eles não servem para fazer contas, mas nos permitem fazer de forma intuitiva algumas operações bastante úteis.\n",
        "\n",
        "O operador + serve como um operador de concatenação de strings: unir duas strings. Observe o exemplo abaixo:"
      ],
      "metadata": {
        "id": "3LP5vzQStUXA"
      }
    },
    {
      "cell_type": "code",
      "source": [
        "string1 = 'Olá'\n",
        "string2 = 'Mundo'\n",
        "resultado = string1 + string2\n",
        "print(resultado) # Na tela: 'OláMundo'"
      ],
      "metadata": {
        "id": "7L8djdM8tZ7b"
      },
      "execution_count": null,
      "outputs": []
    },
    {
      "cell_type": "markdown",
      "source": [
        "Outro operador que funciona é o operador *. Este operador não é usado entre duas strings, mas entre uma string e um int. Ele repetirá a string o número de vezes dado pelo int."
      ],
      "metadata": {
        "id": "0O9DPrMVtczG"
      }
    },
    {
      "cell_type": "code",
      "source": [
        "string = 'Olá mundo!'\n",
        "multi = string * 3\n",
        "print(multi) # Na tela: 'Olá mundo!Olá mundo!Olá mundo!'"
      ],
      "metadata": {
        "id": "glWrrnnltglF"
      },
      "execution_count": null,
      "outputs": []
    },
    {
      "cell_type": "markdown",
      "source": [
        "Operadores lógicos\n",
        "Os operadores lógicos (<, >, <=, =>, != e ==) também funcionam com strings. Esses operadores são case sensitive, ou seja, diferenciam maiúsculas de minúsculas.\n",
        "\n",
        "De maneira muito simplificada e desconsiderando diferenças entre maiúsculas e minúsculas, podemos dizer que eles consideram ordem alfabética: 'banana' é maior do que 'abacaxi'.\n",
        "\n",
        "A explicação mais completa é a seguinte: internamente, cada caractere é armazenado como um número. Quando utilizamos qualquer tipo de aplicação que irá exibir um texto (um editor de textos, navegador de internet, ou mesmo os nossos programinhas em Python rodando no terminal), a aplicação usa esses números como índices em uma tabela de codificação de caracteres.\n",
        "\n",
        "Temos diversos esquemas diferentes de codificação de caracteres em uso pelo mundo, e quando você está usando um programa ou navegando por um site e você nota símbolos estranhos no texto (frequentemente onde teríamos caracteres especiais, como letras com acento), é provável que o autor do texto tenha utilizado uma tabela e o seu computador esteja usando outra.\n",
        "\n",
        "Vários programas permitem a conversão entre essas tabelas, e você já deve ter visto essa \"sopa de letrinhas\" em alguma aba ou janela de configuração em algum editor de textos: utf-8, utf-16, windows-1252 (ou cp-2152), e até mesmo alguns padrões ISO.\n",
        "\n",
        "Para ilustrar a ideia, vamos colocar aqui uma das tabelas mais simples, a tabela ASCII:\n",
        "\n",
        "![](https://upload.wikimedia.org/wikipedia/commons/thumb/1/1b/ASCII-Table-wide.svg/1200px-ASCII-Table-wide.svg.png)\n",
        "\n",
        "Fonte: https://upload.wikimedia.org/wikipedia/commons/thumb/1/1b/ASCII-Table-wide.svg/1200px-ASCII-Table-wide.svg.png\n",
        "\n",
        "Note que o caractere 'A' está no índice 65, o 'B' está no índice 66, e assim sucessivamente. Por isso, 'Abacate' < 'Banana' é verdadeiro: a primeira string começa com uma letra no índice 65 da tabela, a segunda com uma letra no índice 66.\n",
        "\n",
        "No caso de 'Abacate' e 'Abacaxi', temos um \"empate\" das 5 primeiras letras. Então é a sexta letra que vai mandar: 'x' é maior do que 't', por estar em uma posição superior na tabela.\n",
        "\n",
        "Note que a ordem não é exatamente alfabética: entre os caracteres maiúsculos, seguimos ordem alfabética. Entre os minúsculos, idem. E entre os dígitos numéricos, também temos ordem crescente correspondente aos valores. Mas todos os minúsculos são \"maiores\" do que qualquer maiúsculo, que por sua vez são \"maiores\" do que qualquer dígito numérico. Símbolos, operadores e sinais de pontuação estão em posições diversas.\n",
        "\n",
        "### Copiando uma string através de concatenação\n",
        "Caso você já tenha resolvido problemas de somatório (a essa altura, espera-se que tenha resolvido vários!), você já deve estar acostumado a utilizar um loop onde novos valores são somados em uma mesma variável. Somar os números de uma lista, por exemplo, tem mais ou menos essa carinha:"
      ],
      "metadata": {
        "id": "rX3Za8I2ti2G"
      }
    },
    {
      "cell_type": "code",
      "source": [
        "soma = 0\n",
        "for numero in lista:\n",
        "    soma = soma + numero"
      ],
      "metadata": {
        "id": "GtojIuFdtjOd"
      },
      "execution_count": null,
      "outputs": []
    },
    {
      "cell_type": "markdown",
      "source": [
        "A mesma lógica pode ser aplicada a uma string:\n",
        "\n"
      ],
      "metadata": {
        "id": "adK-PH_NuBA0"
      }
    },
    {
      "cell_type": "code",
      "source": [
        "string_inicial = 'Olá Mundo'\n",
        "string_final = '' # cria uma string vazia\n",
        "for letra in string_inicial:\n",
        "    string_final = string_final + letra\n",
        "print(string_final)"
      ],
      "metadata": {
        "id": "bvO4RKf9uC7W"
      },
      "execution_count": null,
      "outputs": []
    },
    {
      "cell_type": "markdown",
      "source": [
        "Isso é útil porque antes de \"somar\" cada letra à string final podemos fazer alterações (como transformar em maiúscula ou minúscula, acrescentar caracteres entre 2 letras etc.). É um jeito de fazer tratamento de strings. Veremos mais sobre tratamento de strings no capítulo de funções de strings.\n",
        "\n",
        "## Transformando uma string em lista\n",
        "Strings são imutáveis, e isso pode nos dar um pouco de trabalho quando queremos fazer pequenas alterações, como forçar um caractere a ser maiúsculo ou acrescentar um caractere à string. Uma das formas de fazer envolve a \"soma cumulativa\" apresentada acima. Outra forma envolve transformar a nossa string em lista, que é uma estrutura mutável. Execute o programa abaixo:\n",
        "\n"
      ],
      "metadata": {
        "id": "V-MuaTWOuE9U"
      }
    },
    {
      "cell_type": "code",
      "source": [
        "string = \"let's Code\"\n",
        "lista = list(string)\n",
        "lista[0] = 'L'\n",
        "lista.append('!')\n",
        "print(lista)\n",
        "# resultado:\n",
        "# ['L', 'e', 't', \"'\", 's', ' ', 'C', 'o', 'd', 'e', '!']"
      ],
      "metadata": {
        "id": "DJt7wILkuMlX"
      },
      "execution_count": null,
      "outputs": []
    },
    {
      "cell_type": "markdown",
      "source": [
        "Como a lista é mutável, nela conseguimos alterar uma letra e adicionar um símbolo ao final sem dificuldades! Porém, infelizmente nosso resultado é uma lista, o que não ficou muito legível para o usuário. Podemos resolver isso utilizando a função join. Veremos em breve como ele realmente funciona, mas por hora podemos utilizá-lo da seguinte maneira para transformar lista em string:\n",
        "\n"
      ],
      "metadata": {
        "id": "DX32242EuOO1"
      }
    },
    {
      "cell_type": "code",
      "source": [
        "string_original = \"let's Code\"\n",
        "lista = list(string_original)\n",
        "lista[0] = 'L'\n",
        "lista.append('!')\n",
        "string_final = ''.join(lista) # antes do . temos uma string vazia\n",
        "print(string_final)\n",
        "# resultado: \"Let's Code!\""
      ],
      "metadata": {
        "id": "3v5QzYTauQKr"
      },
      "execution_count": null,
      "outputs": []
    },
    {
      "cell_type": "markdown",
      "source": [
        "Para as modificações mais comuns, temos algumas funções prontas que poderão ser bastante úteis!\n",
        "\n",
        "## Símbolos especiais\n",
        "Além de letras, números, sinais de pontuação, símbolos matemáticos etc., uma string pode conter alguns operadores especiais de controle. Esses operadores podem indicar, por exemplo, uma quebra de linha ou uma tabulação. Vejamos os mais comuns:\n",
        "\n",
        "### Quebra de linha\n",
        "Uma quebra de linha indica que o programa exibindo a string deverá quebrar a linha atual e exibir o restante da string na linha seguinte, e é representada na maioria dos sistemas e na web pelo símbolo \\n. Execute o programa abaixo e veja o resultado na tela:"
      ],
      "metadata": {
        "id": "dNaeZ555uSPf"
      }
    },
    {
      "cell_type": "code",
      "source": [
        "print('Olá\\nMundo')\n"
      ],
      "metadata": {
        "id": "0y_VIJs6uYpR"
      },
      "execution_count": null,
      "outputs": []
    },
    {
      "cell_type": "markdown",
      "source": [
        "### Tabulação\n",
        "A tabulação indica um recuo equivalente ao da tecla Tab - um recuo de início de parágrafo, ou o recuo que usamos para aninhar linhas de código em Python. Ela é representada pelo símbolo \\t. Verifique o resultado do exemplo abaixo:"
      ],
      "metadata": {
        "id": "vzb92Yt0ubFF"
      }
    },
    {
      "cell_type": "code",
      "source": [
        "aprovados = ['Mario', 'Peach', 'Luigi']\n",
        "reprovados = ['Wario', 'Bowser']\n",
        "\n",
        "print('Candidatos aprovados:')\n",
        "for nome in aprovados:\n",
        "    print('\\t', nome)\n",
        "\n",
        "print('Candidatos reprovados:')\n",
        "for nome in reprovados:\n",
        "    print('\\t', nome)"
      ],
      "metadata": {
        "id": "l0LZ4n5XufXq"
      },
      "execution_count": null,
      "outputs": []
    },
    {
      "cell_type": "markdown",
      "source": [
        "### Barra\n",
        "E se nós quiséssemos representar uma string que explica o significado de \\n, por exemplo, como proceder? Afinal, ao ver o símbolo \\n o programa entenderá que é uma quebra de linha e fará isso ao invés de escrever \\n na tela.\n",
        "\n",
        "Podemos utilizar 2 barras: `\\\\`. Ao fazermos isso, o programa entende que é para representar a barra na tela ao invés de interpretá-la como início de outro símbolo especial."
      ],
      "metadata": {
        "id": "QQwGG9lwujaV"
      }
    },
    {
      "cell_type": "code",
      "source": [
        "print('Utilizamos o \\\\n para quebrar linhas.')\n"
      ],
      "metadata": {
        "id": "itk0BnvZum3T"
      },
      "execution_count": null,
      "outputs": []
    },
    {
      "cell_type": "markdown",
      "source": [
        "### Aspas\n",
        "Um problema que você deve ter se deparado é que parece impossível representar o símbolo ' em uma string que foi aberta por esse símbolo, já que a segunda ocorrência dele fechará a string. Idem para o símbolo \". Podemos resolver isso da mesma forma que fizemos com a barra: `\\'` irá sempre representar o símbolo ' e `\\\"` irá sempre representar o símbolo \" ao invés de fechar uma string."
      ],
      "metadata": {
        "id": "gv79Lk1eupEQ"
      }
    },
    {
      "cell_type": "code",
      "source": [
        "print('Imprimindo uma aspa simples(\\') dentro de uma string sem problemas')\n",
        "print(\"Imprimindo aspas duplas(\\\") dentro de uma string sem problemas\")\n"
      ],
      "metadata": {
        "id": "pmeS5rOdu9-w"
      },
      "execution_count": null,
      "outputs": []
    },
    {
      "cell_type": "markdown",
      "source": [
        "## Funções de strings\n",
        "\n",
        "É possível fazer várias operações com strings utilizando técnicas como concatenação ou converter em listas. Porém, certas operações são muito comuns e podem ser muito trabalhosas de fazer na mão. Por isso, temos diversas funções prontas para nos ajudar.\n",
        "\n",
        "Note que como strings são imutáveis, nenhuma dessas funções irá alterar a string original. Elas sempre retornarão uma string nova com as modificações desejadas.\n",
        "\n",
        "Vejamos algumas das mais usadas.\n",
        "\n",
        "### Maiúsculas e minúsculas\n",
        "Temos algumas funções prontas para alterar a capitalização das letras. Uma delas é a função upper, que transforma todas as letras da string original em maiúsculas:"
      ],
      "metadata": {
        "id": "cGDVtw4KvAZS"
      }
    },
    {
      "cell_type": "code",
      "source": [
        "frase = 'vAmOs PrOgRaMaR'\n",
        "maiuscula = frase.upper()\n",
        "print(maiuscula) # resultado: 'VAMOS PROGRAMAR'"
      ],
      "metadata": {
        "id": "f3ZZHJSuwQFc"
      },
      "execution_count": null,
      "outputs": []
    },
    {
      "cell_type": "markdown",
      "source": [
        "Analogamente, temos a função lower para transformar todas as letras em minúsculas:\n",
        "\n"
      ],
      "metadata": {
        "id": "YP1lDmjXwQfh"
      }
    },
    {
      "cell_type": "code",
      "source": [
        "frase = 'vAmOs PrOgRaMaR'\n",
        "minuscula = frase.lower()\n",
        "print(minuscula) # resultado: 'vamos programar'"
      ],
      "metadata": {
        "id": "-lUuAsdUxa0X"
      },
      "execution_count": null,
      "outputs": []
    },
    {
      "cell_type": "markdown",
      "source": [
        "Também é possível formatar a string inteira como um nome próprio: primeira letra de cada palavra maiúscula, todo o restante em minúscula. Para isso temos a função title:\n",
        "\n"
      ],
      "metadata": {
        "id": "8Lf0PYSCxbyG"
      }
    },
    {
      "cell_type": "code",
      "source": [
        "frase = 'vAmOs PrOgRaMaR'\n",
        "titulo = frase.title()\n",
        "print(titulo) # resultado: 'Vamos Programar'\n"
      ],
      "metadata": {
        "id": "TvzEAXQAxf8g"
      },
      "execution_count": null,
      "outputs": []
    },
    {
      "cell_type": "markdown",
      "source": [
        "E, por fim, é possível tratar nossa string como uma frase gramaticalmente correta: primeira letra maiúscula, todo o resto minúsculo. Essa função é a capitalize:\n",
        "\n"
      ],
      "metadata": {
        "id": "GLApDgvbxjI9"
      }
    },
    {
      "cell_type": "code",
      "source": [
        "frase = 'vAmOs PrOgRaMaR'\n",
        "correta = frase.capitalize()\n",
        "print(correta) # resultado: 'Vamos programar'"
      ],
      "metadata": {
        "id": "osjNLl0Bx2XE"
      },
      "execution_count": null,
      "outputs": []
    },
    {
      "cell_type": "markdown",
      "source": [
        "Uma utilidade para essas funções é padronizar entrada de usuário. Quando pedimos para o usuário digitar 'sim' caso ele deseje fazer algo, ele pode digitar 'SIM', 'sim', 'Sim', 'sIm', 'siM', 'SIm', 'sIM' ou 'SiM'. Prever todas essas condições em uma condicional pode ser bastante trabalhoso, ou mesmo impossível. Imagine se fosse uma string de várias letras... Porém, podemos forçar um padrão para a entrada do usuário e comparar com esse padrão:"
      ],
      "metadata": {
        "id": "Vcm2IFw_x8m7"
      }
    },
    {
      "cell_type": "code",
      "source": [
        "usuario = input('Digite \"sim\" se aceita os termos de uso: ')\n",
        "if usuario.upper() == 'SIM':\n",
        "  print('Seja bem-vindo!')\n",
        "else:\n",
        "  print('Que pena.')"
      ],
      "metadata": {
        "id": "Nr73iipCyABi"
      },
      "execution_count": null,
      "outputs": []
    },
    {
      "cell_type": "markdown",
      "source": [
        "## Quebrando uma string\n",
        "É possível separar uma string em uma lista de substrings. Isso pode ser particularmente útil quando precisamos separar um texto em palavras individuais. A função que realiza essa quebra é o split:"
      ],
      "metadata": {
        "id": "yZTZhTJXyB5K"
      }
    },
    {
      "cell_type": "code",
      "source": [
        "texto = 'uma frase qualquer'\n",
        "palavras = texto.split()\n",
        "print(palavras) # resultado: ['uma', 'frase', 'qualquer']"
      ],
      "metadata": {
        "id": "ZVRyubEIyF6q"
      },
      "execution_count": null,
      "outputs": []
    },
    {
      "cell_type": "markdown",
      "source": [
        "O split é mais do que apenas uma função para separar palavras. Podemos opcionalmente passar como parâmetro uma string para ser usada como critério de separação: ao invés de quebrar no espaço em branco, a string principal será quebrada nos pontos onde o parâmetro aparece (e ele será apagado do resultado).\n",
        "\n",
        "Uma utilidade interessante para isso seria quando estamos interessados em ler dados formatados do teclado ou de um arquivo e pegar as informações que nos interessam. Imagine, por exemplo, que você queira que o usuário digite uma data no formato 'dd/mm/aaaa' e em seguida você precise separar dia, mês e ano em três variáveis do tipo int. Isso é possível com o split:"
      ],
      "metadata": {
        "id": "YOFpHHOTyIjR"
      }
    },
    {
      "cell_type": "code",
      "source": [
        "data = input('Digite uma data: ')\n",
        "lista_data = data.split('/')\n",
        "dia = int(lista_data[0])\n",
        "mes = int(lista_data[1])\n",
        "ano = int(lista_data[2])\n",
        "print('Dia: ', dia)\n",
        "print('Mês: ', mes)\n",
        "print('Ano: ', ano)"
      ],
      "metadata": {
        "id": "e_Lbj94yyM9d"
      },
      "execution_count": null,
      "outputs": []
    },
    {
      "cell_type": "markdown",
      "source": [
        "## Substituindo elementos na string\n",
        "Uma das ferramentas mais úteis em qualquer editor de texto é o localizar e substituir, onde podemos buscar por todas as ocorrências de uma expressão no texto e trocar por outra expressão. Em Python temos uma função análoga, o replace. Ele recebe 2 parâmetros: a expressão a ser substituída e a expressão que a substituirá. Veja o exemplo:"
      ],
      "metadata": {
        "id": "u7wC2vs0yQzi"
      }
    },
    {
      "cell_type": "code",
      "source": [
        "frase = 'Python é difícil. Por ser difícil, devemos estudar.'\n",
        "corrigida = frase.replace('difícil', 'fácil')\n",
        "print(corrigida)\n",
        "# resultado: 'Python é fácil. Por ser fácil, devemos estudar.'"
      ],
      "metadata": {
        "id": "1ImxX9ZgyTfp"
      },
      "execution_count": null,
      "outputs": []
    },
    {
      "cell_type": "markdown",
      "source": [
        "Em Python não existe uma função para deletar um pedaço de uma string. Porém, podemos usar o replace para substituir uma expressão por uma string vazia, o que tem o mesmo resultado:\n",
        "\n"
      ],
      "metadata": {
        "id": "I50yIXASyWQW"
      }
    },
    {
      "cell_type": "code",
      "source": [
        "palavra = 'batata'\n",
        "consoantes = palavra.replace('a', '')\n",
        "print(consoantes)\n",
        "# resultado: 'btt'"
      ],
      "metadata": {
        "id": "DD-K1iL2yYYD"
      },
      "execution_count": null,
      "outputs": []
    },
    {
      "cell_type": "markdown",
      "source": [
        "## Concatenando strings em uma coleção\n",
        "Imagine que você tem uma coleção (por exemplo, uma lista) de strings e precisa unir todas elas utilizando algum símbolo padrão como separador entre elas. Para isso temos o join. Ele soa pouco intuitivo no começo, então convém executar o exemplo e observar com atenção seu resultado:"
      ],
      "metadata": {
        "id": "uAryhDh8yaei"
      }
    },
    {
      "cell_type": "code",
      "source": [
        "lista = ['a', 'b', 'c']\n",
        "separador = '123'\n",
        "resultado = separador.join(lista)\n",
        "print(resultado) # resultado: 'a123b123c'"
      ],
      "metadata": {
        "id": "8v587plpydhe"
      },
      "execution_count": null,
      "outputs": []
    },
    {
      "cell_type": "markdown",
      "source": [
        "Já vimos o join antes sendo usado para converter uma lista de volta em string. Para isso, utilizávamos uma string vazia como separador. Assim, os elementos da lista eram concatenados sem separador.\n",
        "\n",
        "Dica: um jeito de memorizar facilmente como o join funciona é pensar que o separador entrará no lugar das vírgulas na visualização da lista.\n",
        "\n",
        "## Formatando strings\n",
        "### A função format\n",
        "Todo mundo que já preencheu um contrato ou uma ficha de cadastro está familiar com textos nesse estilo:\n",
        "\n",
        "` Eu, ______, portador do CPF ________, residente no endereço _____ autorizo o procedimento.`\n",
        "\n",
        "Esse é o texto genérico que vale para todos, e cada um de nós em particular entende que deve preencher os campos em brancos com dados específicos (nome, CPF e endereço, no exemplo acima).\n",
        "\n",
        "Existe uma função em Python para realizar esse tipo de preenchimento de texto: o format. Suponha que você tenha dados em diferentes variáveis e precisa que todos eles apareçam em uma string. Basta criar uma string com os \"espaços em branco\" para serem preenchidos e passar as variáveis para a função. Os espaços em branco são representados por chaves ({})."
      ],
      "metadata": {
        "id": "44VXUaFNylzz"
      }
    },
    {
      "cell_type": "code",
      "source": [
        "nome = input('Digite seu nome: ')\n",
        "cpf = input('Digite seu cpf: ')\n",
        "endereco = input('Digite seu endereço: ')\n",
        "contrato = 'Eu, {}, portador do CPF {}, residente no endereço {} autorizo o procedimento.'\n",
        "contrato_preenchido = contrato.format(nome, cpf, endereco)\n",
        "print(contrato_preenchido)"
      ],
      "metadata": {
        "id": "jYmKIzREy8ND"
      },
      "execution_count": null,
      "outputs": []
    },
    {
      "cell_type": "markdown",
      "source": [
        "Porém, o grande charme não está apenas em preencher - isso poderia ser feito concatenando com o operador +. Nós podemos colocar opções de formatação nos nossos dados, como número de casas em um número.\n",
        "\n",
        "Imagine que você queira exibir uma data no formato dd/mm/aaaa. Em situações normais, dias e meses inferiores a 10 apareceriam com apenas 1 casa (int não é representado com zeros à esquerda). Porém, podemos especificar no format que gostaríamos de representar um inteiro com 2 casas, preenchendo com zero casas em branco."
      ],
      "metadata": {
        "id": "8JocxNHsy8oi"
      }
    },
    {
      "cell_type": "code",
      "source": [
        "dia = 1\n",
        "mes = 2\n",
        "ano = 2020\n",
        "data = '{:02d}/{:02d}/{:04d}'.format(dia, mes, ano)\n",
        "print(data) # resultado: 01/02/2020"
      ],
      "metadata": {
        "id": "xLUSJLZGzANW"
      },
      "execution_count": null,
      "outputs": []
    },
    {
      "cell_type": "markdown",
      "source": [
        "Vamos entender o que está dentro das chaves: o símbolo : indica que passaremos opções. O símbolo 'd' indica que estamos representando números inteiros em base decimal (dígitos de 0 a 9). Os símbolos '2' e '4' indicam, respectivamente, 2 casas ou 4 casas. E o símbolo '0' indica que se faltar dígitos, os espaços devem ser preenchidos com zero.\n",
        "\n",
        "Vejamos outro exemplo, dessa vez com casas decimais. É normal postos de gasolina mostrarem o preço do litro com 3 casas decimais. Mas o preço final a ser cobrado deverá ter 2 casas. Porém, ao multiplicar o preço por litro pelo valor em litros, é provável que o total dê várias casas decimais. Usaremos o format para representar com apenas 2 casas."
      ],
      "metadata": {
        "id": "Y9PFhhVPzCaN"
      }
    },
    {
      "cell_type": "code",
      "source": [
        "preco_litro = 5.234\n",
        "litros = 29.5\n",
        "total = preco_litro * litros\n",
        "print(total) # resultado: 154.403\n",
        "\n",
        "preco_final = 'R$ {:.2f}'.format(total)\n",
        "print(preco_final) # resultado: R$ 154.40"
      ],
      "metadata": {
        "id": "s5GVxA0RzE79"
      },
      "execution_count": null,
      "outputs": []
    },
    {
      "cell_type": "markdown",
      "source": [
        "Neste caso, o 'f' indica que o número é float. Já o '.2' indica que queremos 2 casas após o ponto decimal. Note que ele não apenas descarta as casas excedentes, e sim arredonda corretamente o número.\n",
        "\n",
        "O format possui tantas opções diferentes que existe um site inteiro dedicado a explicar e dar exemplos: https://pyformat.info/\n",
        "\n",
        "### f-strings\n",
        "A função format já se mostrou bastante poderosa, e vimos como ela facilita muito nossa vida. Ela não apenas diminui nosso trabalho para concatenar múltiplas informações em uma única string, como ainda aceita opções diversas de formatação para cada uma das informações. Mas dá para ir um passo além.\n",
        "\n",
        "Ao colocarmos o caractere f imediatamente antes de abrir aspas para criar uma string, essa string irá se comportar de maneira muito semelhante à máscara de um format, e não será necessário chamar o format. Podemos colocar o nome de variáveis entre chaves para inseri-las automaticamente na string:"
      ],
      "metadata": {
        "id": "8AGwep3_zHg9"
      }
    },
    {
      "cell_type": "code",
      "source": [
        "nome = input('Digite seu nome: ')\n",
        "cpf = input('Digite seu cpf: ')\n",
        "endereco = input('Digite seu endereço: ')\n",
        "contrato = f'Eu, {nome}, portador do CPF {cpf}, residente no endereço {endereco} autorizo o procedimento.'\n",
        "print(contrato)"
      ],
      "metadata": {
        "id": "R51gpIgbzLT0"
      },
      "execution_count": null,
      "outputs": []
    },
    {
      "cell_type": "markdown",
      "source": [
        "Inclusive podemos utilizar as mesmas opções de formatação do format diretamente nas f-strings:\n",
        "\n"
      ],
      "metadata": {
        "id": "tLejrR2tzPen"
      }
    },
    {
      "cell_type": "code",
      "source": [
        "preco_litro = 5.234\n",
        "litros = 29.5\n",
        "total = preco_litro * litros\n",
        "print(total) # resultado: 154.403\n",
        "\n",
        "preco_final = f'R$ {total:.2f}'\n",
        "print(preco_final) # resultado: R$ 154.40"
      ],
      "metadata": {
        "id": "0M3HAWqAzRoW"
      },
      "execution_count": null,
      "outputs": []
    },
    {
      "cell_type": "markdown",
      "source": [
        "Desde o seu lançamento, as f-strings vem se tornando cada vez mais populares, tornando o uso do format menos comum.\n",
        "\n",
        "# Exercícios\n",
        "\n",
        "Faça um programa que copia cada caractere de uma string para uma nova string utilizando sucessivas concatenações (operador `+`)."
      ],
      "metadata": {
        "id": "BTYmg-6tzUU6"
      }
    },
    {
      "cell_type": "code",
      "source": [],
      "metadata": {
        "id": "xCtsBoVCzgY9"
      },
      "execution_count": null,
      "outputs": []
    },
    {
      "cell_type": "markdown",
      "source": [
        "Refaça o exercício anterior utilizando uma lista para auxiliar na cópia ao invés do operador `+`."
      ],
      "metadata": {
        "id": "-AJffBpqzgqA"
      }
    },
    {
      "cell_type": "code",
      "source": [],
      "metadata": {
        "id": "7IP6vKIjzn7k"
      },
      "execution_count": null,
      "outputs": []
    },
    {
      "cell_type": "markdown",
      "source": [
        "Refaça mais uma vez a cópia de strings, mas utilizando slices."
      ],
      "metadata": {
        "id": "jQC1qA1fzoIL"
      }
    },
    {
      "cell_type": "code",
      "source": [],
      "metadata": {
        "id": "iKInXAhVzrqS"
      },
      "execution_count": null,
      "outputs": []
    },
    {
      "cell_type": "markdown",
      "source": [
        "Faça um programa que lê uma string do teclado e a imprime na tela intercalando maiúsculas e minúsculas.\n",
        "\n",
        "Ex: se a entrada for \"diversidade tech\", a saída será \"DiVeRsIdAdE TeCh\"."
      ],
      "metadata": {
        "id": "cbYOIAP0zsIZ"
      }
    },
    {
      "cell_type": "code",
      "source": [],
      "metadata": {
        "id": "ZuknFqpH0BqQ"
      },
      "execution_count": null,
      "outputs": []
    },
    {
      "cell_type": "markdown",
      "source": [
        "Faça um programa que irá ler uma frase e uma palavra do teclado. O programa deverá responder:\n",
        "\n",
        "* se a palavra existe ou não na frase\n",
        "* * caso exista, quantas vezes ela existe\n",
        "* * caso exista, em quais posições dentro da string da frase cada ocorrência da palavra se inicia\n",
        "\n",
        "O programa não deve ser sensível a maiúsculas e minúsculas, ou seja, a palavra \"code\" **deve** ser encontrada na string \"Let's Code\", idem para a palavra \"CODE\"."
      ],
      "metadata": {
        "id": "dMli1iqb0CxV"
      }
    },
    {
      "cell_type": "code",
      "source": [],
      "metadata": {
        "id": "OXn7rBdE0Vbw"
      },
      "execution_count": null,
      "outputs": []
    },
    {
      "cell_type": "markdown",
      "source": [
        "Faça um programa que lê uma string do teclado. Ele deverá exibir duas strings na tela: uma contendo apenas as *letras* da string original, e outra contendo apenas os *números* da string original. Outros caracteres podem ser desprezados.\n",
        "\n",
        "Ex: \n",
        "* Entrada: \"Eu tenho 30 anos. Sou adulto.\"\n",
        "* Saída: \n",
        "* * Letras: \"EutenhoanosSouadulto\"\n",
        "* * Números: \"30\""
      ],
      "metadata": {
        "id": "Rwqnsk2l0VuK"
      }
    },
    {
      "cell_type": "code",
      "source": [],
      "metadata": {
        "id": "OkjvLsmY0-JS"
      },
      "execution_count": null,
      "outputs": []
    },
    {
      "cell_type": "markdown",
      "source": [
        "Faça um programa que lê uma string do teclado e a exibe invertida na tela.\n",
        "\n",
        "Exemplo: a string \"batata\" vira \"atatab\"."
      ],
      "metadata": {
        "id": "ysJxw4yf0-ZB"
      }
    },
    {
      "cell_type": "code",
      "source": [],
      "metadata": {
        "id": "NqbbLzU91N8K"
      },
      "execution_count": null,
      "outputs": []
    },
    {
      "cell_type": "markdown",
      "source": [
        "Faça um programa que substitui uma string digitada pelo usuário por _leetspeak_:\n",
        "\n",
        "\n",
        "* \"a\" vira \"4\"\n",
        "* \"e\" vira \"3\"\n",
        "* \"i\" vira \"1\"\n",
        "* \"o\" vira \"0\"\n",
        "* \"s\" vira \"5\"\n",
        "* \"t\" vira \"7\"  \n",
        "\n",
        "Exemplo: \"hoje a noite tem aula de Python\" vira \"h0j3 4 n0173 73m 4ul4 d3 Py7h0n\"\n"
      ],
      "metadata": {
        "id": "NE3Mden25YPm"
      }
    },
    {
      "cell_type": "code",
      "source": [],
      "metadata": {
        "id": "LFL_vbdH6LgD"
      },
      "execution_count": null,
      "outputs": []
    },
    {
      "cell_type": "markdown",
      "source": [
        "Faça um programa que pede para o usuário digitar 2 palavras. O seu programa deverá responder se elas são palíndromos uma da outra, ou seja, se ao inverter uma delas, temos a outra. \n",
        "\n",
        "Exemplo: as palavras \"roma\" e \"amor\" são palíndromos."
      ],
      "metadata": {
        "id": "pWz2qyVb1OJP"
      }
    },
    {
      "cell_type": "code",
      "source": [],
      "metadata": {
        "id": "DVXd2_nd1oYu"
      },
      "execution_count": null,
      "outputs": []
    },
    {
      "cell_type": "markdown",
      "source": [
        "Faça um programa que lê duas palavras do teclado e responde se elas são **anagramas** uma da outra, isto é, se podemos escrever uma delas apenas mudando a ordem das letras da outra.\n",
        "\n",
        "Exemplo: \"ator\" e \"rota\", \"rota\" e \"tora\", \"lama\" e \"mala\". "
      ],
      "metadata": {
        "id": "NVyvRKFs1ooO"
      }
    },
    {
      "cell_type": "code",
      "source": [],
      "metadata": {
        "id": "36IV_E562A_V"
      },
      "execution_count": null,
      "outputs": []
    },
    {
      "cell_type": "markdown",
      "source": [
        "**Cifra de César**\n",
        "\n",
        "A cifra de César é uma forma rudimentar de criptografia onde todas as letras são deslocadas uma quantidade pré-determinada de vezes no alfabeto. Por exemplo, a frase \"Abra a porta\" com 3 deslocamentos vira \"Deud d sruwd\". \n",
        "\n",
        "Caso os deslocamentos estourem o tamanho do alfabeto, eles \"dão a volta\": no caso anterior, com 3 deslocamentos, se alguma palavra tivesse a letra \"z\", ela se tornaria \"c\".\n",
        "\n",
        "Faça um programa que pergunta para o usuário uma frase para ser criptografada e a quantidade de deslocamentos desejada. Seu programa irá mostrar a mensagem cifrada na tela.\n",
        "\n"
      ],
      "metadata": {
        "id": "XLLRUYKJ2Dit"
      }
    },
    {
      "cell_type": "markdown",
      "source": [
        "**Desafio** \n",
        "\n",
        "Suponha que um sistema permite endereços de e-mail no seguinte formato:\n",
        "\n",
        "* Primeira parte: **pelo menos** 2 caracteres, podendo ser qualquer letra maiúscula ou minúscula, dígito numérico, ponto ou underscore (`_`). Não pode começar por número nem por ponto.\n",
        "* Arroba: exatamente uma.\n",
        "* Segunda parte: **pelo menos** 2 caracteres, podendo ser letra maiúscula ou minúscula, seguidos de ponto\n",
        "* Resto: **pelo menos** 2 caracteres, podendo ser letra maiúscula ou minúscula. Opcionalmente, pode ter ponto, desde que cada ponto esteja cercado por pelo menos 2 caracteres de cada lado.\n",
        "\n",
        "> Obs: essa não é a regra **padrão** para um e-mail, apenas uma simplificação para o exercício.\n",
        "\n",
        "Exemplos:\n",
        "\n",
        "*   Válidos:\n",
        "* * rafael@ada.tech\n",
        "* * prof_r4f43l@letscode.com.br\n",
        "*   Inválidos:\n",
        "* * 123@ada.tech\n",
        "* * 1doistres@ada.tech\n",
        "* * a@ada.tech\n",
        "* * rafael@ada@tech.com\n",
        "* * rafael.ada.tech\n",
        "* * rafael@ada\n",
        "* * rafael@ada.\n",
        "* * rafael@ada.tech.\n",
        "\n"
      ],
      "metadata": {
        "id": "70sJ8QX-23qy"
      }
    },
    {
      "cell_type": "code",
      "source": [],
      "metadata": {
        "id": "sqozvHqF6PNO"
      },
      "execution_count": null,
      "outputs": []
    }
  ]
}