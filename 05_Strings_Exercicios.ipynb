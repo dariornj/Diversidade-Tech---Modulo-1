{
  "cells": [
    {
      "cell_type": "markdown",
      "metadata": {
        "id": "6JN3rPrbtHy8"
      },
      "source": [
        "# Strings"
      ]
    },
    {
      "cell_type": "markdown",
      "metadata": {
        "id": "BTYmg-6tzUU6"
      },
      "source": [
        "# Exercícios\n",
        "\n",
        "Faça um programa que copia cada caractere de uma string para uma nova string utilizando sucessivas concatenações (operador `+`)."
      ]
    },
    {
      "cell_type": "code",
      "execution_count": 2,
      "metadata": {},
      "outputs": [
        {
          "name": "stdout",
          "output_type": "stream",
          "text": [
            "Teste\n",
            "Teste\n"
          ]
        }
      ],
      "source": [
        "string_original = 'Teste'\n",
        "string_nova = ''\n",
        "\n",
        "for letra in string_original:\n",
        "    string_nova += letra\n",
        "\n",
        "print(string_original)\n",
        "print(string_nova)"
      ]
    },
    {
      "cell_type": "markdown",
      "metadata": {
        "id": "-AJffBpqzgqA"
      },
      "source": [
        "Refaça o exercício anterior utilizando uma lista para auxiliar na cópia ao invés do operador `+`."
      ]
    },
    {
      "cell_type": "code",
      "execution_count": 5,
      "metadata": {
        "id": "7IP6vKIjzn7k"
      },
      "outputs": [
        {
          "name": "stdout",
          "output_type": "stream",
          "text": [
            "Teste\n",
            "Teste\n"
          ]
        }
      ],
      "source": [
        "string_original = 'Teste'\n",
        "lista_string_nova = []\n",
        "\n",
        "for letra in string_original:\n",
        "    lista_string_nova.append(letra)\n",
        "\n",
        "string_nova = ''.join(lista_string_nova)\n",
        "\n",
        "print(string_original)\n",
        "print(string_nova)\n"
      ]
    },
    {
      "cell_type": "markdown",
      "metadata": {
        "id": "jQC1qA1fzoIL"
      },
      "source": [
        "Refaça mais uma vez a cópia de strings, mas utilizando slices."
      ]
    },
    {
      "cell_type": "code",
      "execution_count": 11,
      "metadata": {
        "id": "iKInXAhVzrqS"
      },
      "outputs": [
        {
          "name": "stdout",
          "output_type": "stream",
          "text": [
            "teste\n",
            "teste\n"
          ]
        }
      ],
      "source": [
        "string_original = input('Digite uma frase: ')\n",
        "lista_string_nova = []\n",
        "\n",
        "for indice in range(len(string_original)):\n",
        "    lista_string_nova.append(string_original[indice])\n",
        "\n",
        "string_nova = ''.join(lista_string_nova)\n",
        "\n",
        "print(string_original)\n",
        "print(string_nova)"
      ]
    },
    {
      "cell_type": "markdown",
      "metadata": {
        "id": "cbYOIAP0zsIZ"
      },
      "source": [
        "Faça um programa que lê uma string do teclado e a imprime na tela intercalando maiúsculas e minúsculas.\n",
        "\n",
        "Ex: se a entrada for \"diversidade tech\", a saída será \"DiVeRsIdAdE TeCh\"."
      ]
    },
    {
      "cell_type": "code",
      "execution_count": 12,
      "metadata": {
        "id": "ZuknFqpH0BqQ"
      },
      "outputs": [
        {
          "name": "stdout",
          "output_type": "stream",
          "text": [
            "teste\n",
            "TeStE\n"
          ]
        }
      ],
      "source": [
        "string_original = input('Digite uma frase: ')\n",
        "lista_string_nova = []\n",
        "\n",
        "for indice in range(len(string_original)):\n",
        "    if indice % 2 == 0:\n",
        "        lista_string_nova.append(string_original[indice].upper())\n",
        "    else:\n",
        "        lista_string_nova.append(string_original[indice].lower())\n",
        "\n",
        "string_nova = ''.join(lista_string_nova)\n",
        "\n",
        "print(string_original)\n",
        "print(string_nova)"
      ]
    },
    {
      "cell_type": "markdown",
      "metadata": {
        "id": "dMli1iqb0CxV"
      },
      "source": [
        "Faça um programa que irá ler uma frase e uma palavra do teclado. O programa deverá responder:\n",
        "\n",
        "* se a palavra existe ou não na frase\n",
        "* * caso exista, quantas vezes ela existe\n",
        "* * caso exista, em quais posições dentro da string da frase cada ocorrência da palavra se inicia\n",
        "\n",
        "O programa não deve ser sensível a maiúsculas e minúsculas, ou seja, a palavra \"code\" **deve** ser encontrada na string \"Let's Code\", idem para a palavra \"CODE\"."
      ]
    },
    {
      "cell_type": "code",
      "execution_count": 18,
      "metadata": {
        "id": "OXn7rBdE0Vbw"
      },
      "outputs": [
        {
          "name": "stdout",
          "output_type": "stream",
          "text": [
            "A palavra casa foi encontrada 3 vezes em \"a Casa da caSa com a casA\".\n"
          ]
        }
      ],
      "source": [
        "frase = input('Digite a frase: ')\n",
        "palavra = input('Digite a palavra: ')\n",
        "\n",
        "lista_frase = frase.split()\n",
        "contagem = 0\n",
        "\n",
        "for elemento in lista_frase:\n",
        "    if elemento.lower() == palavra.lower():\n",
        "        contagem += 1\n",
        "\n",
        "\n",
        "if contagem != 0:\n",
        "    if contagem == 1:\n",
        "        print(f'A palavra {palavra} foi encontrada {contagem} vez em \"{frase}\".')\n",
        "    else:\n",
        "        print(f'A palavra {palavra} foi encontrada {contagem} vezes em \"{frase}\".')   \n",
        "else:\n",
        "    print(f'A palavra {palavra} não foi encontrada na frase \"{frase}\"')\n",
        "        "
      ]
    },
    {
      "cell_type": "markdown",
      "metadata": {
        "id": "Rwqnsk2l0VuK"
      },
      "source": [
        "Faça um programa que lê uma string do teclado. Ele deverá exibir duas strings na tela: uma contendo apenas as *letras* da string original, e outra contendo apenas os *números* da string original. Outros caracteres podem ser desprezados.\n",
        "\n",
        "Ex: \n",
        "* Entrada: \"Eu tenho 30 anos. Sou adulto.\"\n",
        "* Saída: \n",
        "* * Letras: \"EutenhoanosSouadulto\"\n",
        "* * Números: \"30\""
      ]
    },
    {
      "cell_type": "code",
      "execution_count": 21,
      "metadata": {
        "id": "OkjvLsmY0-JS"
      },
      "outputs": [
        {
          "name": "stdout",
          "output_type": "stream",
          "text": [
            "EutenhoanosSouadulto\n",
            "30\n"
          ]
        }
      ],
      "source": [
        "entrada = input('Digite a frase: ')\n",
        "\n",
        "lista_entrada = list(entrada)\n",
        "letras = ['a', 'b', 'c', 'd', 'e', 'f', 'g', 'h', 'i', 'j', 'k', 'l', 'm', 'n', 'o', 'p', 'q', 'r', 's', 't', 'u', 'v', 'w', 'x', 'y', 'z']\n",
        "numeros = [\"0\", \"1\", \"2\", \"3\", \"4\", \"5\", \"6\", \"7\", \"8\", \"9\"]\n",
        "\n",
        "lista_letras = []\n",
        "lista_numeros = []\n",
        "\n",
        "for elemento in lista_entrada:\n",
        "    for letra_da_lista in letras:\n",
        "        if elemento.lower() == letra_da_lista:\n",
        "            lista_letras.append(elemento)\n",
        "    for numero_da_lista in numeros:\n",
        "        if elemento == numero_da_lista:\n",
        "            lista_numeros.append(elemento)\n",
        "\n",
        "string_letras = ''.join(lista_letras)\n",
        "string_numeros = ''.join(lista_numeros)\n",
        "\n",
        "print(string_letras)\n",
        "print(string_numeros)"
      ]
    },
    {
      "cell_type": "code",
      "execution_count": null,
      "metadata": {},
      "outputs": [],
      "source": [
        "# verificar letras e numeros\n",
        "\n",
        "if letra>= 'a' and letra <= 'z':\n",
        "# com certeza é letra minúscula\n",
        "elif letra >= 'A' and letra <= 'Z':\n",
        "# com certeza é letra minúscula\n",
        "elif letra >= '0' and letra <= '9':\n",
        "# com certeza é dígito numérico\n",
        "else:\n",
        "# com certeza é outra coisa"
      ]
    },
    {
      "cell_type": "markdown",
      "metadata": {
        "id": "ysJxw4yf0-ZB"
      },
      "source": [
        "Faça um programa que lê uma string do teclado e a exibe invertida na tela.\n",
        "\n",
        "Exemplo: a string \"batata\" vira \"atatab\"."
      ]
    },
    {
      "cell_type": "code",
      "execution_count": 32,
      "metadata": {
        "id": "NqbbLzU91N8K"
      },
      "outputs": [
        {
          "name": "stdout",
          "output_type": "stream",
          "text": [
            "atatab\n"
          ]
        }
      ],
      "source": [
        "string_entrada = input('Digite uma frase ou palavra: ')\n",
        "\n",
        "lista_string_entrada = list(string_entrada)\n",
        "lista_string_inversa = []\n",
        "\n",
        "for indice in range(len(string_entrada)):\n",
        "    lista_string_inversa.append(lista_string_entrada[-(indice+1)])\n",
        "\n",
        "string_inversa = ''.join(lista_string_inversa)\n",
        "\n",
        "print(string_inversa)"
      ]
    },
    {
      "cell_type": "markdown",
      "metadata": {
        "id": "NE3Mden25YPm"
      },
      "source": [
        "Faça um programa que substitui uma string digitada pelo usuário por _leetspeak_:\n",
        "\n",
        "\n",
        "* \"a\" vira \"4\"\n",
        "* \"e\" vira \"3\"\n",
        "* \"i\" vira \"1\"\n",
        "* \"o\" vira \"0\"\n",
        "* \"s\" vira \"5\"\n",
        "* \"t\" vira \"7\"  \n",
        "\n",
        "Exemplo: \"hoje a noite tem aula de Python\" vira \"h0j3 4 n0173 73m 4ul4 d3 Py7h0n\"\n"
      ]
    },
    {
      "cell_type": "code",
      "execution_count": 34,
      "metadata": {
        "id": "LFL_vbdH6LgD"
      },
      "outputs": [
        {
          "name": "stdout",
          "output_type": "stream",
          "text": [
            "h0j3 4 n0173 73m 4ul4 d3 Py7h0n\n"
          ]
        }
      ],
      "source": [
        "string_usuario = input('Digite uma frase ou palavra: ')\n",
        "\n",
        "lista_string_usuario = list(string_usuario)\n",
        "nova_lista_string = []\n",
        "\n",
        "for elemento in lista_string_usuario:\n",
        "    if elemento == \"a\":\n",
        "        nova_lista_string.append('4')\n",
        "    elif elemento == \"e\":\n",
        "        nova_lista_string.append('3')\n",
        "    elif elemento == \"i\":\n",
        "        nova_lista_string.append('1')\n",
        "    elif elemento == \"o\":\n",
        "        nova_lista_string.append('0')\n",
        "    elif elemento == \"s\":\n",
        "        nova_lista_string.append('5')\n",
        "    elif elemento == \"t\":\n",
        "        nova_lista_string.append('7')\n",
        "    else:\n",
        "        nova_lista_string.append(elemento)\n",
        "\n",
        "nova_string = ''.join(nova_lista_string)\n",
        "\n",
        "print(nova_string)"
      ]
    },
    {
      "cell_type": "code",
      "execution_count": 2,
      "metadata": {},
      "outputs": [
        {
          "name": "stdout",
          "output_type": "stream",
          "text": [
            "casaaaa\n"
          ]
        }
      ],
      "source": [
        "# Maneira alternativa\n",
        "\n",
        "string = input('Informe uma string: ')\n",
        "\n",
        "string_nova = string.replace('a', '4')\n",
        "string_nova = string.replace('e', '3')\n",
        "string_nova = string.replace('i', '1')\n",
        "string_nova = string.replace('o', '0')\n",
        "string_nova = string.replace('s', '5')\n",
        "string_nova = string.replace('t', '7')\n",
        "\n",
        "print(string_nova)"
      ]
    },
    {
      "cell_type": "markdown",
      "metadata": {
        "id": "pWz2qyVb1OJP"
      },
      "source": [
        "Faça um programa que pede para o usuário digitar 2 palavras. O seu programa deverá responder se elas são palíndromos uma da outra, ou seja, se ao inverter uma delas, temos a outra. \n",
        "\n",
        "Exemplo: as palavras \"roma\" e \"amor\" são palíndromos."
      ]
    },
    {
      "cell_type": "code",
      "execution_count": 38,
      "metadata": {
        "id": "DVXd2_nd1oYu"
      },
      "outputs": [
        {
          "name": "stdout",
          "output_type": "stream",
          "text": [
            "casA e asac são palíndromos.\n"
          ]
        }
      ],
      "source": [
        "string_entrada1 = input('Digite a primeira palavra: ')\n",
        "string_entrada2 = input('Digite a segunda palavra: ')\n",
        "\n",
        "lista_string_entrada1 = list(string_entrada1)\n",
        "lista_string_inversa1 = []\n",
        "\n",
        "for indice in range(len(string_entrada1)):\n",
        "    lista_string_inversa1.append(lista_string_entrada1[-(indice+1)])\n",
        "\n",
        "string_inversa1 = ''.join(lista_string_inversa1)\n",
        "\n",
        "if string_entrada2.lower() == string_inversa1.lower():\n",
        "    print(f'{string_entrada1} e {string_entrada2} são palíndromos.')\n",
        "else:\n",
        "    print(f'{string_entrada1} e {string_entrada2} não são palíndromos.')\n"
      ]
    },
    {
      "cell_type": "markdown",
      "metadata": {
        "id": "NVyvRKFs1ooO"
      },
      "source": [
        "Faça um programa que lê duas palavras do teclado e responde se elas são **anagramas** uma da outra, isto é, se podemos escrever uma delas apenas mudando a ordem das letras da outra.\n",
        "\n",
        "Exemplo: \"ator\" e \"rota\", \"rota\" e \"tora\", \"lama\" e \"mala\". "
      ]
    },
    {
      "cell_type": "code",
      "execution_count": 66,
      "metadata": {
        "id": "36IV_E562A_V"
      },
      "outputs": [
        {
          "name": "stdout",
          "output_type": "stream",
          "text": [
            "game e mega são anagramas.\n"
          ]
        }
      ],
      "source": [
        "palavra1 = input('Digite a primeira palavra: ')\n",
        "palavra2 = input('Digite a segunda palavra: ')\n",
        "\n",
        "while len(palavra1) != len(palavra2):\n",
        "    palavra1 = input('Palavras com tamanho diferentes. Digite a primeira palavra: ')\n",
        "    palavra2 = input('Digite a segunda palavra: ')\n",
        "\n",
        "else:\n",
        "    lista1 = list(palavra1)\n",
        "    lista2 = list(palavra2)\n",
        "\n",
        "    if lista1.sort() == lista2.sort():\n",
        "        print(f'{palavra1} e {palavra2} são anagramas.')\n",
        "    else:\n",
        "        print(f'{palavra1} e {palavra2} não são anagramas.')\n"
      ]
    },
    {
      "cell_type": "markdown",
      "metadata": {
        "id": "XLLRUYKJ2Dit"
      },
      "source": [
        "**Cifra de César**\n",
        "\n",
        "A cifra de César é uma forma rudimentar de criptografia onde todas as letras são deslocadas uma quantidade pré-determinada de vezes no alfabeto. Por exemplo, a frase \"Abra a porta\" com 3 deslocamentos vira \"Deud d sruwd\". \n",
        "\n",
        "Caso os deslocamentos estourem o tamanho do alfabeto, eles \"dão a volta\": no caso anterior, com 3 deslocamentos, se alguma palavra tivesse a letra \"z\", ela se tornaria \"c\".\n",
        "\n",
        "Faça um programa que pergunta para o usuário uma frase para ser criptografada e a quantidade de deslocamentos desejada. Seu programa irá mostrar a mensagem cifrada na tela.\n",
        "\n"
      ]
    },
    {
      "cell_type": "code",
      "execution_count": 5,
      "metadata": {},
      "outputs": [
        {
          "name": "stdout",
          "output_type": "stream",
          "text": [
            "Sua mensagem \n",
            "c\n"
          ]
        }
      ],
      "source": [
        "base = 'abcdefghijklmnopqrstuvwxyz'\n",
        "\n",
        "texto = input('Informe o texto a ser criptografado: ').lower()\n",
        "\n",
        "deslocamento = int(input('Informe o deslocamento (ate 26): '))\n",
        "\n",
        "cripto = ''\n",
        "\n",
        "for word in texto:\n",
        "    posicao = base.find(word)\n",
        "    posicao += deslocamento\n",
        "\n",
        "\n",
        "if word == ' ':\n",
        "    cripto = cripto + ' '\n",
        "else:\n",
        "    if (posicao > len(base)):\n",
        "        posicao = posicao - len(base)\n",
        "    cripto = cripto + base[posicao]\n",
        "\n",
        "print (\"Sua mensagem \\n\" + cripto)"
      ]
    },
    {
      "cell_type": "markdown",
      "metadata": {
        "id": "70sJ8QX-23qy"
      },
      "source": [
        "**Desafio** \n",
        "\n",
        "Suponha que um sistema permite endereços de e-mail no seguinte formato:\n",
        "\n",
        "* Primeira parte: **pelo menos** 2 caracteres, podendo ser qualquer letra maiúscula ou minúscula, dígito numérico, ponto ou underscore (`_`). Não pode começar por número nem por ponto.\n",
        "* Arroba: exatamente uma.\n",
        "* Segunda parte: **pelo menos** 2 caracteres, podendo ser letra maiúscula ou minúscula, seguidos de ponto\n",
        "* Resto: **pelo menos** 2 caracteres, podendo ser letra maiúscula ou minúscula. Opcionalmente, pode ter ponto, desde que cada ponto esteja cercado por pelo menos 2 caracteres de cada lado.\n",
        "\n",
        "> Obs: essa não é a regra **padrão** para um e-mail, apenas uma simplificação para o exercício.\n",
        "\n",
        "Exemplos:\n",
        "\n",
        "*   Válidos:\n",
        "* * rafael@ada.tech\n",
        "* * prof_r4f43l@letscode.com.br\n",
        "*   Inválidos:\n",
        "* * 123@ada.tech\n",
        "* * 1doistres@ada.tech\n",
        "* * a@ada.tech\n",
        "* * rafael@ada@tech.com\n",
        "* * rafael.ada.tech\n",
        "* * rafael@ada\n",
        "* * rafael@ada.\n",
        "* * rafael@ada.tech.\n",
        "\n"
      ]
    },
    {
      "cell_type": "code",
      "execution_count": null,
      "metadata": {
        "id": "sqozvHqF6PNO"
      },
      "outputs": [],
      "source": []
    }
  ],
  "metadata": {
    "colab": {
      "provenance": []
    },
    "kernelspec": {
      "display_name": "Python 3.10.5 64-bit",
      "language": "python",
      "name": "python3"
    },
    "language_info": {
      "codemirror_mode": {
        "name": "ipython",
        "version": 3
      },
      "file_extension": ".py",
      "mimetype": "text/x-python",
      "name": "python",
      "nbconvert_exporter": "python",
      "pygments_lexer": "ipython3",
      "version": "3.10.5"
    },
    "vscode": {
      "interpreter": {
        "hash": "75c7325c0caecc2d82c8a4e534cbb5ce82d278e087a13a7861173b66f0f67f74"
      }
    }
  },
  "nbformat": 4,
  "nbformat_minor": 0
}
