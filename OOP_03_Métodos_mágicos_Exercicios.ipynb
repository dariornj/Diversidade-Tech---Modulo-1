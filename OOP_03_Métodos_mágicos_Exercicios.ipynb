{
  "cells": [
    {
      "cell_type": "markdown",
      "id": "f66194a9",
      "metadata": {
        "id": "f66194a9"
      },
      "source": [
        "# Aula 04 - Métodos Mágicos"
      ]
    },
    {
      "cell_type": "markdown",
      "id": "nYfv-bVbDI8q",
      "metadata": {
        "id": "nYfv-bVbDI8q"
      },
      "source": [
        "# Exercícios\n",
        "\n",
        "Atenção: tente aproveitar ao máximo o conteúdo \"acumulado\", ou seja, ao implementar as classes dos exercícios de hoje, explore os conteúdos anteriores, como modificadores de acesso e propriedades.\n",
        "\n",
        "---\n",
        "\n",
        "Implemente um método mágico para \"representação imprimível\" para *alguns* exercícios da aula passada. Você decide o formato adequado para representá-los em tela!\n",
        "\n",
        "Quando estiver confortável com a sintaxe, siga para os próximos exercícios!"
      ]
    },
    {
      "cell_type": "code",
      "execution_count": null,
      "id": "64dkySelEGjH",
      "metadata": {
        "id": "64dkySelEGjH"
      },
      "outputs": [],
      "source": []
    },
    {
      "cell_type": "markdown",
      "id": "km2GD9I9EG07",
      "metadata": {
        "id": "km2GD9I9EG07"
      },
      "source": [
        "Expanda a classe `Fracao` utilizada de exemplo neste notebook para incluir métodos mágicos para:\n",
        "\n",
        "\n",
        "*   Adição, subtração, multiplicação e, pelo menos, divisão real - outras operações seriam bem-vindas\n",
        "*   Todas as comparações (>, >=, <, <=, == e !=)\n",
        "*   De tipos: \"representação imprimível\" (string) e conversões para números real e inteiro\n",
        "\n",
        "Adicione também métodos \"comuns\" para:\n",
        "*   Calcular o MDC entre o numerador e o denominador\n",
        "*   Simplificar uma fração (ou seja, se ela for 4/6, após o método ela se tornará 2/3)\n",
        "*   Retornar uma fração simplificada (ou seja, se ela for 4/6, continuará sendo, mas o método retornará uma nova fração 2/3)\n",
        "\n"
      ]
    },
    {
      "cell_type": "code",
      "execution_count": null,
      "id": "vrpGMZomElgN",
      "metadata": {
        "id": "vrpGMZomElgN"
      },
      "outputs": [],
      "source": []
    },
    {
      "cell_type": "markdown",
      "id": "Tp2Jy8r9FfxW",
      "metadata": {
        "id": "Tp2Jy8r9FfxW"
      },
      "source": [
        "**Números complexos** são números que possuem 2 componentes: uma parte real e uma parte imaginária. A parte imaginária consiste em um número real multiplicando a constante imaginária \"i\", que corresponde à raiz quadrada de -1.\n",
        "\n",
        "Dizemos que números complexos possuem a seguinte forma:\n",
        "\n",
        "c = a + bi\n",
        "\n",
        "Onde \"a\" e \"b\" são números reais.\n",
        "\n",
        "Números complexos podem ser interpretados como \"números de 2 dimensões\" (de forma análoga a um vetor bidimensional). A forma exibida acima é chamada de \"coordenadas retangulares\" ou \"forma trigonométrica\".\n",
        "\n",
        "Uma representação alternativa para eles, baseada em suas propriedades \"bidimensionais\", é a chamada forma polar. Ela vem do fato de que podemos representar um número imaginário como um \"vetor\" em um plano cartesiano formado pela parte real (eixo x) e a parte imaginária (eixo y). Na representação polar, ao invés de um par de coordenadas retangulares, também temos dois números, mas um deles é a magnitude (comprimento) desse \"vetor\" (dada por seu módulo) e pelo ângulo formado entre o vetor e o eixo real.\n",
        "\n",
        "Crie uma classe para representar números complexos. Ela deve ter, no mínimo:\n",
        "\n",
        "\n",
        "\n",
        "*   Métodos mágicos para soma, subtração, multiplicação e divisão\n",
        "*   Métodos mágicos para comparação (ATENÇÃO: se dois números complexos formam um par **conjugado**, não podemos afirmar que um deles é maior do que o outro, portanto, tanto > quanto < devem ser falsos. Porém, eles são DIFERENTES, portanto, == também será falso, e apenas != será diferente).\n",
        "* Método mágico para \"representação imprimível\".\n",
        "* Métodos convencionais para retornar seu módulo, seu ângulo, seu par complexo conjugado, uma tupla de 2 elementos contendo suas coordenadas retangulares: (a,b) e suas coordenadas polares: (mag, ang).\n",
        "\n",
        "\n",
        "Você pode encontrar mais explicações sobre todos os conceitos pertinentes, bem como fórmulas neste link: https://brasilescola.uol.com.br/matematica/numeros-complexos.htm"
      ]
    },
    {
      "cell_type": "code",
      "execution_count": null,
      "id": "wZS1FLbvFfOn",
      "metadata": {
        "id": "wZS1FLbvFfOn"
      },
      "outputs": [],
      "source": []
    }
  ],
  "metadata": {
    "colab": {
      "provenance": []
    },
    "kernelspec": {
      "display_name": "Python 3 (ipykernel)",
      "language": "python",
      "name": "python3"
    },
    "language_info": {
      "codemirror_mode": {
        "name": "ipython",
        "version": 3
      },
      "file_extension": ".py",
      "mimetype": "text/x-python",
      "name": "python",
      "nbconvert_exporter": "python",
      "pygments_lexer": "ipython3",
      "version": "3.9.7"
    }
  },
  "nbformat": 4,
  "nbformat_minor": 5
}
