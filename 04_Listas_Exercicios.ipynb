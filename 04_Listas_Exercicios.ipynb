{
  "cells": [
    {
      "cell_type": "markdown",
      "metadata": {
        "id": "T8jBDHjIsiwu"
      },
      "source": [
        "# Listas\n"
      ]
    },
    {
      "cell_type": "markdown",
      "metadata": {
        "id": "6t7MOGVlwvSG"
      },
      "source": [
        "# Exercícios\n",
        "\n",
        "Faça um programa que pede para a usuária digitar dois números, inicio e fim.\n",
        "\n",
        "O seu programa deverá preencher uma lista com todos os números no intervalo (inclusive os valores inicial e final) e exibi-la na tela."
      ]
    },
    {
      "cell_type": "code",
      "execution_count": null,
      "metadata": {
        "id": "n-yLFdPywxYq"
      },
      "outputs": [],
      "source": []
    },
    {
      "cell_type": "markdown",
      "metadata": {
        "id": "hCBvAKZNwxn6"
      },
      "source": [
        "Faça um programa que preenche uma lista inicialmente vazia com 20 números aleatórios entre 0 e 100.\n",
        "\n",
        "Você pode utilizar a biblioteca random para isso. Comece importando-a no início de seu código:\n",
        "\n",
        "import random\n",
        "\n",
        "Para sortear um número, você pode usar a linha abaixo:\n",
        "\n",
        "sorteio = random.randint(0, 100)\n",
        "\n",
        "DICA: em todos os programas desta lista de exercícios onde você tiver que trabalhar com uma lista numérica onde os números não serão digitados pela usuária, você pode replicar o código deste exercício para partir de uma lista já preenchida com valores aleatórios. Isso facilitará os seus testes!"
      ]
    },
    {
      "cell_type": "code",
      "execution_count": null,
      "metadata": {
        "id": "Brf-pusKw1uC"
      },
      "outputs": [],
      "source": []
    },
    {
      "cell_type": "markdown",
      "metadata": {
        "id": "qoBEPmudw13s"
      },
      "source": [
        "Faça um programa que percorre uma lista de números aleatórios (ver exercício 2) e exibe na tela apenas os números pares.\n",
        "\n"
      ]
    },
    {
      "cell_type": "code",
      "execution_count": null,
      "metadata": {
        "id": "7krfNlYSw3kY"
      },
      "outputs": [],
      "source": []
    },
    {
      "cell_type": "markdown",
      "metadata": {
        "id": "WUEtHEU1w3rs"
      },
      "source": [
        "Faça um programa que calcula a média dos números de uma lista numérica.\n",
        "\n"
      ]
    },
    {
      "cell_type": "code",
      "execution_count": null,
      "metadata": {
        "id": "MXAf69XCw5iK"
      },
      "outputs": [],
      "source": []
    },
    {
      "cell_type": "markdown",
      "metadata": {
        "id": "jSskWj4uw7yj"
      },
      "source": [
        "Faça um programa que percorre uma lista de números. Os números abaixo da média dos valores deverão ser inseridos em uma lista, e os valores acima da média deverão ser inseridos em outra lista.\n",
        "\n"
      ]
    },
    {
      "cell_type": "code",
      "execution_count": null,
      "metadata": {
        "id": "sGejndaow7Iy"
      },
      "outputs": [],
      "source": []
    },
    {
      "cell_type": "markdown",
      "metadata": {
        "id": "YHptpvDnw9PI"
      },
      "source": [
        "Faça um programa que pergunta o número de atividades avaliativas realizadas pela usuária (no mínimo 4).\n",
        "\n",
        "O programa deverá exibir:\n",
        "\n",
        "* a menor nota\n",
        "* a maior nota\n",
        "* a média calculada desconsiderando a maior e a menor nota"
      ]
    },
    {
      "cell_type": "code",
      "execution_count": 3,
      "metadata": {
        "id": "vMrXvBSqxTvv"
      },
      "outputs": [
        {
          "name": "stdout",
          "output_type": "stream",
          "text": [
            "A maior nota foi: 10.0\n",
            "A menor nota foi: 5.0\n",
            "A média é de 6.5\n"
          ]
        }
      ],
      "source": [
        "notas = []\n",
        "media = 0\n",
        "qtd_notas = int(input('Digite o número de notas (no mínimo 4): '))\n",
        "\n",
        "while qtd_notas < 4:\n",
        "    qtd_notas = int(input('Digite o número de notas (no mínimo 4): '))\n",
        "\n",
        "\n",
        "for i in range (qtd_notas):\n",
        "    nota = float(input(f'Digite a nota {i+1}'))\n",
        "    notas.append(nota)\n",
        "\n",
        "notas.sort\n",
        "\n",
        "for nota in notas[1:-1]:\n",
        "    media += nota\n",
        "\n",
        "media /= (len(notas) - 2)\n",
        "\n",
        "print(f'A maior nota foi: {max(notas)}')\n",
        "print(f'A menor nota foi: {min(notas)}')\n",
        "print(f'A média é de {media}')\n",
        "\n",
        "\n"
      ]
    },
    {
      "cell_type": "markdown",
      "metadata": {
        "id": "tDSD-fHlxVau"
      },
      "source": [
        "Faça um programa que leia as coordenadas de dois vetores a partir do teclado e armazene-as em listas. Exemplo:\n",
        "\n",
        "```\n",
        "vetor1 = [1, 4, 7]\n",
        "vetor2 = [2, 3, 4]\n",
        "```\n",
        "\n",
        "O seu programa deverá realizar a soma vetorial. No exemplo acima, ela é dada por:\n",
        "\n",
        "`soma = [1+2, 4+3, 7+4] = [3, 7, 11]`\n",
        "\n",
        "Dica: note que os valores a serem somados entre si possuem o mesmo índice em listas diferentes."
      ]
    },
    {
      "cell_type": "code",
      "execution_count": 7,
      "metadata": {
        "id": "vmyEilTwxbFX"
      },
      "outputs": [
        {
          "name": "stdout",
          "output_type": "stream",
          "text": [
            "[3, 7, 11]\n"
          ]
        }
      ],
      "source": [
        "vetor1 = []\n",
        "vetor2 = []\n",
        "soma = []\n",
        "\n",
        "for i in range(3):\n",
        "    vetor1.append(int(input(f'Digite a {i+1} coordenada')))\n",
        "\n",
        "for i in range(3):\n",
        "    vetor2.append(int(input(f'Digite a {i+1} coordenada')))\n",
        "\n",
        "\n",
        "for coord1, coord2 in zip(vetor1, vetor2):\n",
        "    soma.append(coord1 + coord2)\n",
        "\n",
        "print(soma)\n",
        "\n"
      ]
    },
    {
      "cell_type": "markdown",
      "metadata": {
        "id": "8gWPsq8exbQY"
      },
      "source": [
        "Faça um programa que leia as coordenadas de dois vetores a partir do teclado e armazene-as em listas. Exemplo:\n",
        "\n",
        "```\n",
        "vetor1 = [1, 4, 7]\n",
        "vetor2 = [2, 3, 4]\n",
        "```\n",
        "\n",
        "O seu programa deverá realizar o produto escalar. No exemplo acima, ele é dado por:\n",
        "\n",
        "`produto = 1*2 + 4*3 + 7*4 = 42`\n",
        "\n",
        "Atenção: note que o produto escalar, apesar de ser uma operação entre vetores, possui como resultado um único número."
      ]
    },
    {
      "cell_type": "code",
      "execution_count": 8,
      "metadata": {
        "id": "-yWtFTQVxpZl"
      },
      "outputs": [
        {
          "name": "stdout",
          "output_type": "stream",
          "text": [
            "42\n"
          ]
        }
      ],
      "source": [
        "vetor1 = []\n",
        "vetor2 = []\n",
        "produto_escalar = 0\n",
        "\n",
        "for i in range(3):\n",
        "    vetor1.append(int(input(f'Digite a {i+1} coordenada')))\n",
        "\n",
        "for i in range(3):\n",
        "    vetor2.append(int(input(f'Digite a {i+1} coordenada')))\n",
        "\n",
        "\n",
        "for coord1, coord2 in zip(vetor1, vetor2):\n",
        "    produto_escalar += (coord1*coord2)\n",
        "\n",
        "print(produto_escalar)\n"
      ]
    },
    {
      "cell_type": "markdown",
      "metadata": {
        "id": "5FejNfE7xpiY"
      },
      "source": [
        "Crie uma tabela de preços (pode ser fixa no seu código) usando lista de listas.\n",
        "\n",
        "Ela pode ser implementada da seguinte maneira: cada \"lista interna\" é uma lista de 2 elementos: na posição 0 temos o nome do produto, na posição 1 temos o preço.\n",
        "\n",
        "Ex:\n",
        "```\n",
        "produtos = [\n",
        "    ['Chocolate', 5.12],\n",
        "    ['Doritos', 15.25],\n",
        "    ['Fandangos', 7.54],\n",
        "]\n",
        "```\n",
        "\n",
        "Faça um programa que permita consultar valores na lista.\n",
        "\n",
        "Ele deverá perguntar para a usuária o nome do produto que ela deseja consultar. Caso o produto exista na lista, seu preço será exibido. Caso contrário, a mensagem \"produto não encontrado\" será exibida.\n",
        "\n",
        "O programa deverá repetir a pergunta após mostrar o resultado, até que a usuária digite \"sair\"."
      ]
    },
    {
      "cell_type": "code",
      "execution_count": 4,
      "metadata": {
        "id": "UOk-sv6yxtDd"
      },
      "outputs": [
        {
          "name": "stdout",
          "output_type": "stream",
          "text": [
            "Chocolate: R$5.12\n",
            "Doritos: R$15.25\n",
            "Doritos: R$15.25\n",
            "Fandangos: R$7.54\n"
          ]
        }
      ],
      "source": [
        "produtos = [\n",
        "    ['Chocolate', 5.12],\n",
        "    ['Doritos', 15.25],\n",
        "    ['Fandangos', 7.54],\n",
        "]\n",
        "\n",
        "procura = input('Digite o nome do produto a ser consultado (sair para sair)')\n",
        "\n",
        "while procura != 'sair':\n",
        "\n",
        "    for produto, preco in produtos:\n",
        "        if produto.lower() == procura.lower():\n",
        "            print (f'{produto}: R${preco}')\n",
        "            break\n",
        "    else:\n",
        "        print('Produto não encontrado.')\n",
        "    procura = input('Digite o nome do produto a ser consultado (sair para sair)')\n"
      ]
    },
    {
      "cell_type": "markdown",
      "metadata": {
        "id": "0AMHl6QAxtR4"
      },
      "source": [
        "Vamos fazer um programa para representar uma aluna em formato amigável para salvar em uma tabela ou banco de dados.\n",
        "\n",
        "Peça para a usuária digitar:\n",
        "\n",
        "* o nome da aluna\n",
        "* o número de matrícula\n",
        "* a quantidade de provas realizadas\n",
        "* a nota de cada uma das provas\n",
        "* o percentual de presenças\n",
        "\n",
        "A aluna deverá ser representada em uma lista obedecendo a seguinte estrutura:\n",
        "\n",
        "* índice 0: número de matrícula\n",
        "* índice 1: nome\n",
        "* índice 2: uma lista com todas as suas notas\n",
        "* índice 3: sua média\n",
        "* índice 4: seu percentual de presenças\n",
        "* índice 5: um booleano indicando se a aluna foi aprovada ou reprovada\n",
        "\n",
        "Considere como critério de aprovação nota maior ou igual a 6.0 e presença igual ou superior a 70%.\n",
        "\n",
        "Ex:\n",
        "\n",
        "`aluna = [22042022, 'Brenda', [10.0, 9.0, 9.0, 10.0], 9.5, 80, True]`"
      ]
    },
    {
      "cell_type": "code",
      "execution_count": 21,
      "metadata": {
        "id": "QFepQl4AyNlc"
      },
      "outputs": [
        {
          "name": "stdout",
          "output_type": "stream",
          "text": [
            "[22042022, 'Brenda', [10.0, 9.0, 9.0, 10.0], 9.5, 80.0, True]\n"
          ]
        }
      ],
      "source": [
        "matricula = int(input('Digite o número da matricula: '))\n",
        "nome = input('Digite o nome: ')\n",
        "n_notas = int(input('Digite o número de notas): '))\n",
        "\n",
        "notas = []\n",
        "media = 0\n",
        "\n",
        "for i in range(n_notas):\n",
        "    notas.append(float(input(f'Digite a nota {i+1}')))\n",
        "    media += notas[i]\n",
        "media /= n_notas\n",
        "\n",
        "presenca = float(input('Digite o percentual de presença (%): '))\n",
        "\n",
        "\n",
        "aluna = []\n",
        "aluna.append(matricula)\n",
        "aluna.append(nome)\n",
        "aluna.append(notas)\n",
        "aluna.append(media)\n",
        "aluna.append(presenca)\n",
        "aluna.append(media >= 6 and presenca >= 70)\n",
        "\n",
        "print(aluna)"
      ]
    },
    {
      "cell_type": "markdown",
      "metadata": {
        "id": "sNhKz6sNyNv8"
      },
      "source": [
        "Nesta questão, reaproveite o código da questão avaliada da lista de exercícios anterior!\n",
        "\n",
        "Modifique seu código para, ao invés de exibir a tabela Price na tela, armazenar a tabela utilizando uma lista de listas.\n",
        "\n",
        "Cada \"lista interna\" deve conter juros daquele mês, amortização daquele mês, valor da prestação e saldo devedor.\n",
        "\n",
        "Todas essas listas deverão ser adicionadas, na ordem correta, em uma lista geral, que será nossa tabela.\n",
        "\n",
        "Uma vez criada e calculada toda a tabela, pergunte (em loop) para a usuária qual mês ela deseja consultar e mostre para ela quanto de juros serão pagos, quanto será amortizado e qual será o seu saldo devedor naquele mês. Caso ela digite um mês inválido, informe para ela que aquele mês não existe. Caso ela digite um mês negativo, encerre o programa."
      ]
    },
    {
      "cell_type": "code",
      "execution_count": 36,
      "metadata": {
        "id": "ua_viT8lyl3c"
      },
      "outputs": [],
      "source": [
        "capital = float(input('Digite o valor do empréstimo: '))\n",
        "taxa = float(input('Digite o valor da taxa, em %: '))\n",
        "tempo = int(input('Digite o tempo, em meses: '))\n",
        "\n",
        "parcela = capital*((1+taxa/100)**tempo)*(taxa/100)/((1+taxa/100)**tempo - 1)\n",
        "saldo_devedor = capital\n",
        "\n",
        "i = 1\n",
        "price_mes = []\n",
        "price = []\n",
        "\n",
        "while i <= tempo:\n",
        "    juros = saldo_devedor*(taxa/100)\n",
        "    amortizacao = parcela - juros\n",
        "    saldo_devedor = saldo_devedor - amortizacao\n",
        "    price_mes.append(juros)\n",
        "    price_mes.append(amortizacao)\n",
        "    price_mes.append(parcela)\n",
        "    price_mes.append(saldo_devedor)\n",
        "    price.append(price_mes)\n",
        "    price_mes = []\n",
        "    i += 1\n",
        "\n",
        "mes_consulta = int(input('Digite o mês de consulta (entre 1 e {tempo}): '))\n",
        "\n",
        "while mes_consulta > 0:\n",
        "    if mes_consulta > tempo:\n",
        "        mes_consulta = int(input(f'Mês inválido. Digite o mês de consulta (entre 1 e {tempo}): '))\n",
        "    continue\n",
        "\n",
        "    print (f'Parcela {mes_consulta} | J: {price[(mes_consulta-1)[0]]:.2f} | A: {price[(mes_consulta-1)[1]]:.2f} | Pgto: {price[(mes_consulta-1)[2]]:.2f} | Deve: {price[(mes_consulta-1)[3]]:.2f}')\n",
        "    break\n",
        "\n",
        "\n",
        "else:\n",
        "    print('Programa encerrado.')\n",
        "\n",
        "\n",
        "\n",
        "\n",
        "\n",
        "        \n",
        "    \n",
        "\n"
      ]
    }
  ],
  "metadata": {
    "colab": {
      "provenance": []
    },
    "kernelspec": {
      "display_name": "Python 3.10.5 64-bit",
      "language": "python",
      "name": "python3"
    },
    "language_info": {
      "codemirror_mode": {
        "name": "ipython",
        "version": 3
      },
      "file_extension": ".py",
      "mimetype": "text/x-python",
      "name": "python",
      "nbconvert_exporter": "python",
      "pygments_lexer": "ipython3",
      "version": "3.10.5"
    },
    "vscode": {
      "interpreter": {
        "hash": "75c7325c0caecc2d82c8a4e534cbb5ce82d278e087a13a7861173b66f0f67f74"
      }
    }
  },
  "nbformat": 4,
  "nbformat_minor": 0
}
