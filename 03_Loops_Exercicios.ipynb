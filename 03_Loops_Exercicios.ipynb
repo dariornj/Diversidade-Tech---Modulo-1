{
  "cells": [
    {
      "cell_type": "markdown",
      "metadata": {
        "id": "F-Y_jHR2OUPs"
      },
      "source": [
        "# Malhas de repetição (loops)\n",
        "\n",
        "## Malhas de repetição condicionais\n",
        "\n",
        "Imagine que você queira fazer um programa que exibe os números de 1 até 5, em ordem crescente. Uma possibilidade seria:\n",
        "\n"
      ]
    },
    {
      "cell_type": "code",
      "execution_count": 2,
      "metadata": {
        "id": "-b-KjspaOaFO"
      },
      "outputs": [
        {
          "name": "stdout",
          "output_type": "stream",
          "text": [
            "1\n",
            "2\n",
            "3\n",
            "4\n",
            "5\n"
          ]
        }
      ],
      "source": [
        "print(1)\n",
        "print(2)\n",
        "print(3)\n",
        "print(4)\n",
        "print(5)"
      ]
    },
    {
      "cell_type": "markdown",
      "metadata": {
        "id": "b8VMBEbVOcmj"
      },
      "source": [
        "Porém, imagine que os requisitos do programa acabam sendo alterados, e agora o seu programa deverá ir até 1000. Ou, pior, imagine que o usuário irá digitar um valor e seu programa deverá contar apenas até o valor digitado. Note como fica difícil resolver esses problemas apenas copiando e colando linhas de código.\n",
        "\n",
        "Vamos pensar em outro tipo de problema. Na aula passada, fizemos um exercício onde precisávamos validar algumas entradas do usuário. Uma dessas entradas era a idade, e gostaríamos de aceitar apenas valores entre 0 e 150. Sua solução provavelmente foi parecida com o código abaixo:"
      ]
    },
    {
      "cell_type": "code",
      "execution_count": null,
      "metadata": {
        "id": "NB6cY2IdOdDG"
      },
      "outputs": [],
      "source": [
        "idade = int(input('Digite a idade: '))\n",
        "\n",
        "if idade < 0 or idade > 150:\n",
        "  print('Erro')"
      ]
    },
    {
      "cell_type": "markdown",
      "metadata": {
        "id": "eRFO_rbjOgNq"
      },
      "source": [
        "Mas imagine que, ao invés de apenas mostrar uma mensagem de erro, nós devêssemos obrigar o usuário a continuar digitando valores novos para idade até que ele digite um valor válido (entre 0 e 150). Isso não seria possível utilizando apenas if, elif e else.\n",
        "\n",
        "### Enquanto\n",
        "Os problemas enunciados acima podem ser resolvidos utilizando estruturas do tipo \"enquanto\". Em Python, a instrução while é bastante parecida com o if: ela possui uma expressão lógica, e seu conteúdo só será executado se a expressão for verdadeira. Porém, após chegar ao final, ela retorna ao início e testa novamente a condição.\n",
        "\n",
        "Se ela for verdadeira, seu conteúdo será executado de novo. Ao final da nova execução, a condição é testada novamente, e assim sucessivamente. A execução só será interrompida quando o teste se tornar falso. Vejamos como resolver o problema da idade utilizando o while:"
      ]
    },
    {
      "cell_type": "code",
      "execution_count": 3,
      "metadata": {
        "id": "T8sq-7kXOipW"
      },
      "outputs": [
        {
          "name": "stdout",
          "output_type": "stream",
          "text": [
            "Erro! Idade deve estar entre 0 e 150!\n",
            "Obrigado!\n"
          ]
        }
      ],
      "source": [
        "idade = int(input('Digite a idade: '))\n",
        "\n",
        "while idade < 0 or idade > 150:\n",
        "  print('Erro! Idade deve estar entre 0 e 150!')\n",
        "  idade = int(input('Digite a idade: '))\n",
        "\n",
        "print('Obrigado!')"
      ]
    },
    {
      "cell_type": "markdown",
      "metadata": {
        "id": "YSXq6NrGOmRQ"
      },
      "source": [
        "Faça alguns testes com o programa acima. Note que se você digitar uma idade válida desde o início, ele nunca chega a mostrar erro: o while é como um if e será ignorado se sua condição for falsa. Porém, caso você digite valores inválidos, a condição será verdadeira e ele irá executar enquanto você estiver digitando valores falsos.\n",
        "\n",
        "Estruturas do tipo \"enquanto\" são conhecidas como malhas de repetição ou loops.\n",
        "\n",
        "### Condição de parada\n",
        "No exemplo anterior, o que determina se o loop prossegue ou não é o valor de idade. Esse valor, por sua vez, pode mudar em cada execução do loop, já que temos um input lá dentro. Experimente rodar o programa sem aquele input e verifique o que ocorre."
      ]
    },
    {
      "cell_type": "code",
      "execution_count": null,
      "metadata": {
        "id": "mOZ-SFfoOm1S"
      },
      "outputs": [],
      "source": [
        "idade = int(input('Digite a idade: '))\n",
        "\n",
        "while idade < 0 or idade > 150:\n",
        "  print('Erro! Idade deve estar entre 0 e 150!')  \n",
        "print('Obrigado!')"
      ]
    },
    {
      "cell_type": "markdown",
      "metadata": {
        "id": "txZvR-RxOtJx"
      },
      "source": [
        "O que ocorreu é o que chamamos de loop infinito: se a condição for verdadeira uma vez, ela será para sempre, já que nunca mais alteramos o valor da variável envolvida no teste lógico. É importante criar caminhos para que a condição possa se tornar falsa em algum momento. Isso é o que chamamos de condição de parada do nosso loop.\n",
        "\n",
        "### Sequências numéricas\n",
        "Iniciamos essa aula enunciando um problema onde gostaríamos de exibir números sequencialmente na tela. Isso é possível de resolver utilizando loops. Primeiro, observe o exemplo abaixo e responda: qual valor aparecerá na tela?"
      ]
    },
    {
      "cell_type": "code",
      "execution_count": null,
      "metadata": {
        "id": "X2po04q6Oww7"
      },
      "outputs": [],
      "source": [
        "x = 5\n",
        "x = x + 1\n",
        "print(x)"
      ]
    },
    {
      "cell_type": "markdown",
      "metadata": {
        "id": "lgI9tQmiOxI2"
      },
      "source": [
        "Essa construção parece pouco intuitiva porque na matemática o operador = é bidirecional: a expressão \"a = b\" significa que a é igual a b e b é igual a a. Ao vermos x aparecendo em ambos os lados, parece que podemos simplesmente cortar dos dois lados, resultando em 0 = 1, o que é uma inverdade.\n",
        "\n",
        "Em Python o operador = na verdade não é o operador de igualdade da matemática, e sim o operador de atribuição de valores. Ou seja, o que ele diz é \"pegue o resultado da expressão à direita e guarde na variável à esquerda\". Portanto, o exemplo acima pega primeiro o valor antigo de x, que era 5, adiciona 1, resultando em 6, e guarda este novo resultado na variável x, substituindo o valor antigo. Logo, a resposta na tela é 6.\n",
        "\n",
        "Se colocarmos uma expressão desse tipo dentro de um loop, podemos gerar sequências numéricas:"
      ]
    },
    {
      "cell_type": "code",
      "execution_count": null,
      "metadata": {
        "id": "BTYUhc9pO1E0"
      },
      "outputs": [],
      "source": [
        "final = int(input('Digite o valor final da sequência: '))\n",
        "numero = 1\n",
        "\n",
        "while numero <= final:\n",
        "  print(numero)\n",
        "  numero = numero + 1"
      ]
    },
    {
      "cell_type": "markdown",
      "metadata": {
        "id": "UizQ0_r2O1wB"
      },
      "source": [
        "O programa acima pede para o usuário digitar um número, que será o valor final da sequência. Então ele irá imprimir a variável numero, que vale 1, e somar +1 nela. Em seguida imprimirá de novo a variável, agora valendo 2, e somará +1 nela. E assim sucessivamente até que ela ultrapasse o valor final, quando o loop deixará de ser executado.\n",
        "\n",
        "Você consegue modificar o programa acima para fazer uma sequência decrescente? E para gerar a tabuada de um número dado pelo usuário? Você precisará mexer na expressão lógica do loop e no incremento de numero.\n",
        "\n",
        "> Em expressões onde uma variável aparece de ambos os lados, podemos utilizar uma abreviação. Por exemplo, a expressão x = x + 5 Pode ser reescrita como: x += 5 Isso vale para todas as outras expressões aritméticas (subtração, multiplicação, divisão etc.).\n",
        "\n",
        "## Comandos de manipulação de fluxo\n",
        "É possível manipular de algumas maneiras a forma como uma malha de repetição se comporta: nós podemos interromper sua execução sem que sua condição de parada tenha sido atingida e podemos saltar para o próximo passo sem finalizar o atual.\n",
        "\n",
        "### Break\n",
        "Vamos montar um exemplo simples: imagine que você irá fazer um joguinho onde o usuário terá 10 tentativas para adivinhar um número secreto. Um bom primeiro passo seria criar um loop que conta as 10 tentativas:"
      ]
    },
    {
      "cell_type": "code",
      "execution_count": null,
      "metadata": {
        "id": "AcQfMmAKO-RC"
      },
      "outputs": [],
      "source": [
        "numero_secreto = 42\n",
        "\n",
        "contador = 0\n",
        "\n",
        "while contador < 10:\n",
        "  tentativa = int(input('Adivinhe o número secreto: '))\n",
        "  if tentativa == numero_secreto:\n",
        "    print('Acertou')\n",
        "  else:\n",
        "    print('Errou')\n",
        "  contador += 1"
      ]
    },
    {
      "cell_type": "markdown",
      "metadata": {
        "id": "KTRwnb_AO-z0"
      },
      "source": [
        "No momento, mesmo que o usuário acerte, ele irá contar até a décima tentativa. Com o que já aprendemos até o momento, poderíamos consertar isso colocando uma segunda condição de parada:"
      ]
    },
    {
      "cell_type": "code",
      "execution_count": null,
      "metadata": {
        "id": "fq2Kd8hXPAYc"
      },
      "outputs": [],
      "source": [
        "numero_secreto = 42\n",
        "\n",
        "contador = 0\n",
        "\n",
        "tentativa = 0\n",
        "\n",
        "while contador < 10 and tentativa != numero_secreto:\n",
        "  tentativa = int(input('Adivinhe o número secreto: '))\n",
        "  if tentativa == numero_secreto:\n",
        "    print('Acertou')\n",
        "  else:\n",
        "    print('Errou')\n",
        "  contador += 1"
      ]
    },
    {
      "cell_type": "markdown",
      "metadata": {
        "id": "nL4yYy3gPC9u"
      },
      "source": [
        "Se você executar o programa, verá que ele funciona: caso o usuário acerte ou 10 tentativas sejam feitas, o programa encerra sua execução. Mas note que o código ficou um pouquinho mais bagunçado: estamos testando duas vezes o valor de tentativa: na condição do while e na condição do if. Não seria mais prático dentro do próprio if, logo após informar para o usuário que ele acertou, se a gente já pudesse falar para o loop parar de ser executado?\n",
        "\n",
        "É aí que entra o break: quando estamos em uma malha de repetição e encontramos o comando break, a malha é interrompida imediatamente. Podemos reescrever o programa acima utilizando esse comando:"
      ]
    },
    {
      "cell_type": "code",
      "execution_count": 6,
      "metadata": {
        "id": "nvnAXHEPPFZX"
      },
      "outputs": [
        {
          "name": "stdout",
          "output_type": "stream",
          "text": [
            "Acertou\n"
          ]
        }
      ],
      "source": [
        "numero_secreto = 42\n",
        "\n",
        "contador = 0\n",
        "\n",
        "while contador < 10:\n",
        "  tentativa = int(input('Adivinhe o número secreto: '))\n",
        "  if tentativa == numero_secreto:\n",
        "    print('Acertou')\n",
        "    break\n",
        "  print('Errou')\n",
        "  contador += 1"
      ]
    },
    {
      "cell_type": "markdown",
      "metadata": {
        "id": "Bz0tW8I6PGKG"
      },
      "source": [
        "> Alguns programadores utilizam while True: (ou seja, um loop a princípio infinito) e no corpo do loop espalham combinações de if + break. Exceto em situações muito específicas e raras, isso é uma má prática e deve ser evitada, pois compromete bastante a legibilidade do código, e consequentemente sua manutenção no futuro.\n",
        "\n",
        "### Else\n",
        "Você pode observar que no programa acima, respondemos \"Errou\" para cada chute errado do usuário. Mas o programa ainda não informou para ele que as tentativas dele se esgotaram. Temos algumas possibilidades aqui!\n",
        "\n",
        "Uma delas seria testar o valor do contador no final do loop:"
      ]
    },
    {
      "cell_type": "code",
      "execution_count": null,
      "metadata": {
        "id": "6aoaDLT8PP7U"
      },
      "outputs": [],
      "source": [
        "numero_secreto = 42\n",
        "\n",
        "contador = 0\n",
        "\n",
        "while contador < 10:\n",
        "  tentativa = int(input('Adivinhe o número secreto: '))\n",
        "  if tentativa == numero_secreto:\n",
        "    print('Acertou')\n",
        "    break\n",
        "  print('Errou')\n",
        "  contador += 1\n",
        "  if contador == 10:\n",
        "    print('Acabaram as tentativas. Você perdeu.')"
      ]
    },
    {
      "cell_type": "markdown",
      "metadata": {
        "id": "7lWbafCUPRDV"
      },
      "source": [
        "Outra seria utilizar uma flag: uma variável booleana que indica se entramos no if ou não:\n",
        "\n"
      ]
    },
    {
      "cell_type": "code",
      "execution_count": null,
      "metadata": {
        "id": "MuGHjw8BPRbK"
      },
      "outputs": [],
      "source": [
        "numero_secreto = 42\n",
        "\n",
        "contador = 0\n",
        "\n",
        "acertou = False\n",
        "\n",
        "while contador < 10:\n",
        "  tentativa = int(input('Adivinhe o número secreto: '))\n",
        "  if tentativa == numero_secreto:\n",
        "    acertou = True\n",
        "    break\n",
        "  print('Errou')\n",
        "  contador += 1\n",
        "\n",
        "if acertou:\n",
        "  print('Acertou!')\n",
        "else:\n",
        "  print('Acabaram as tentativas. Você perdeu.')"
      ]
    },
    {
      "cell_type": "markdown",
      "metadata": {
        "id": "X4YhOWZcPVkD"
      },
      "source": [
        "Na maioria das linguagens de programação, teríamos que optar por uma dessas alternativas. Comandos que estudamos aqui em Python são comuns a várias linguagens diferentes, incluindo o par if/else, o while e o break.\n",
        "\n",
        "Mas o Python possui uma ferramenta adicional bastante incomum, mas que pode simplificar problemas desse tipo. Ele permite a utilização de um else para um loop. A estrutura deve ser a seguinte:\n",
        "\n",
        "```python\n",
        "while (condicao_principal):\n",
        "  ...\n",
        "  ...\n",
        "  if (condicao_secundaria):\n",
        "    break\n",
        "  ...\n",
        "  ...\n",
        "else:\n",
        "  ...\n",
        "```\n",
        "\n",
        "Esse código funcionará da seguinte maneira: se o loop parar pela condição principal (ou seja, executou a quantidade \"correta\" de repetições), o else será executado. Se o loop parar pela condição secundária (ou seja, por conta de um break), o else será ignorado.\n",
        "\n",
        "Sendo assim, podemos reescrever nosso programa principal de maneira mais pythonica utilizando esse recurso:"
      ]
    },
    {
      "cell_type": "code",
      "execution_count": 7,
      "metadata": {
        "id": "-7d5NAfDPeHY"
      },
      "outputs": [
        {
          "name": "stdout",
          "output_type": "stream",
          "text": [
            "Errou\n",
            "Errou\n",
            "Errou\n",
            "Errou\n",
            "Errou\n",
            "Errou\n",
            "Errou\n",
            "Errou\n",
            "Errou\n",
            "Errou\n",
            "Acabaram as tentativas. Você perdeu.\n"
          ]
        }
      ],
      "source": [
        "numero_secreto = 42\n",
        "\n",
        "contador = 0\n",
        "\n",
        "while contador < 10:\n",
        "  tentativa = int(input('Adivinhe o número secreto: '))\n",
        "  if tentativa == numero_secreto:\n",
        "    print('Acertou!')\n",
        "    break\n",
        "  print('Errou')\n",
        "  contador += 1\n",
        "else:\n",
        "  print('Acabaram as tentativas. Você perdeu.')"
      ]
    },
    {
      "cell_type": "markdown",
      "metadata": {
        "id": "WQOQT_WJPi1Y"
      },
      "source": [
        "Execute o programa e veja que ele só irá mostrar a mensagem de derrota quando as 10 tentativas forem concluídas.\n",
        "\n",
        "### Continue\n",
        "Existe outro comando de desvio de fluxo de malhas de repetição: o continue. A diferença entre ele e o break é que o continue encerra apenas o passo atual de repetição, mas ele não encerra o loop como um todo. Quando executamos esse comando, o loop irá voltar para o topo, testar novamente sua condição de parada, e caso ela não tenha sido atingida, ele iniciará uma nova iteração (ou seja, um novo passo em um loop).\n",
        "\n",
        "Vamos reescrever nosso programa anterior invertendo a verificação para vermos o continue em ação."
      ]
    },
    {
      "cell_type": "code",
      "execution_count": null,
      "metadata": {
        "id": "z13iR1Q3Pl4F"
      },
      "outputs": [],
      "source": [
        "numero_secreto = 42\n",
        "\n",
        "contador = 0\n",
        "\n",
        "while contador < 10:\n",
        "  tentativa = int(input('Adivinhe o número secreto: '))\n",
        "  contador += 1\n",
        "  if tentativa != numero_secreto:\n",
        "    print('Errou!')\n",
        "    continue\n",
        "  print('Acertou!')\n",
        "  break\n",
        "else:\n",
        "  print('Acabaram as tentativas. Você perdeu.')"
      ]
    },
    {
      "cell_type": "markdown",
      "metadata": {
        "id": "8tvRUKQlPnrC"
      },
      "source": [
        "Sempre que o usuário errar o chute, o continue irá desviar o fluxo de execução de volta para o início do loop, impedindo que as duas últimas linhas do loop sejam executadas. Ou seja, ele não irá dizer \"acertou\", tampouco executar o break.\n",
        "\n",
        "> Atenção: todos os desvios estudados aqui podem ser utilizados, caso contrário, não existiriam. Porém, em certas situações eles podem tornar o código mais confuso. Por exemplo, quando temos diversos loops aninhados, pode não ficar claro para alguém lendo o código qual dos loops está sendo encerrado. Sempre que for utilizar esses recursos, verifiquem se eles estão melhorando ou piorando a legibilidade do código.\n",
        "\n",
        "## Malhas de repetição com contador\n",
        "No capítulo de malhas de repetição vimos casos em que precisamos contar quantas vezes o loop se repete, e parar quando a contagem atinge um certo valor. Em outras ocasiões, apenas precisamos de algum tipo de sequência numérica. Nestes casos, era normal utilizar uma variável de contador, incrementá-la em cada passo e utilizar seu valor como condição de parada. O exemplo abaixo imprime todos os números pares entre 0 e 100:"
      ]
    },
    {
      "cell_type": "code",
      "execution_count": null,
      "metadata": {
        "id": "SddOpfMNPuxT"
      },
      "outputs": [],
      "source": [
        "contador = 0\n",
        "while contador < 100:\n",
        "    print(contador)\n",
        "    contador = contador + 2"
      ]
    },
    {
      "cell_type": "markdown",
      "metadata": {
        "id": "hh-ysvzZPwYa"
      },
      "source": [
        "Existe um meio de automatizar todas as operações envolvidas: atribuir um valor inicial, atribuir um valor final e realizar o incremento.\n",
        "\n",
        "### Loops do tipo \"para\"\n",
        "Dizemos que o exemplo acima é um loop do tipo \"para\": para contador de 0 até 100 com passo 2 faça: imprima contador. Em Python, podemos criar esse tipo de loop utilizando os comandos for e range. O exemplo abaixo imprime os números de 0 até 9 na tela:"
      ]
    },
    {
      "cell_type": "code",
      "execution_count": null,
      "metadata": {
        "id": "RWKZKsA-P0Ux"
      },
      "outputs": [],
      "source": [
        "for contador in range(10):\n",
        "    print(contador)"
      ]
    },
    {
      "cell_type": "markdown",
      "metadata": {
        "id": "uOE4V3dQQXCy"
      },
      "source": [
        "O código acima é equivalente ao seguinte código utilizando while:\n",
        "\n"
      ]
    },
    {
      "cell_type": "code",
      "execution_count": null,
      "metadata": {
        "id": "vofg0pwgQXeY"
      },
      "outputs": [],
      "source": [
        "contador = 0\n",
        "while contador < 10:\n",
        "    print(contador)\n",
        "    contador += 1"
      ]
    },
    {
      "cell_type": "markdown",
      "metadata": {
        "id": "vPV3nK9tQaHx"
      },
      "source": [
        "A palavra \"contador\" é apenas uma variável. Ela não precisa ser criada previamente: qualquer nome utilizado nesta construção será automaticamente inicializado pelo for.\n",
        "\n",
        "O programa acima atribui o valor inicial 0 à variável. Em seguida, ele executa tudo que vier dentro do loop, e ao chegar ao final, ele retorna ao início, soma 1 na variável e testa se o seu valor atingiu o número entre parênteses. Caso não tenha atingido, ele repete a execução. Dizemos que aquele número é o valor final exclusivo (pois o loop exclui esse valor).\n",
        "\n",
        "De forma geral, tudo que vier dentro de um for contador in range(x) irá executar \"x\" vezes. É o jeito fácil de dizer \"repita essas linhas x vezes\" em Python.\n",
        "\n",
        "### Parâmetros do range\n",
        "Foi dito que loops do tipo \"para\" seguem a forma \"para contador de X até Y passo Z faça:\". No exemplo acima, os valores iniciais (0) e passo (1) foram atribuídos de forma automática. Caso eles sejam omitidos, 0 e 1 são os valores padrão, respectivamente. Porém, podemos determiná-los, se necessário. O exemplo abaixo inicia a impressão dos números em 1 ao invés de 0:"
      ]
    },
    {
      "cell_type": "code",
      "execution_count": null,
      "metadata": {
        "id": "IklzeTlvQcsN"
      },
      "outputs": [],
      "source": [
        "for contador in range(1, 10):\n",
        "    print(contador)"
      ]
    },
    {
      "cell_type": "markdown",
      "metadata": {
        "id": "gQyCApG9Qe93"
      },
      "source": [
        "Dizemos que esse loop possui valor inicial 1, valor final (exclusivo) 10 e passo 1.\n",
        "\n",
        "O código acima é equivalente ao seguinte código utilizando while:"
      ]
    },
    {
      "cell_type": "code",
      "execution_count": null,
      "metadata": {
        "id": "NN3aJBVdQfTL"
      },
      "outputs": [],
      "source": [
        "contador = 1\n",
        "while contador < 10:\n",
        "    print(contador)\n",
        "    contador += 1"
      ]
    },
    {
      "cell_type": "markdown",
      "metadata": {
        "id": "gsDcMYY1QhYf"
      },
      "source": [
        "Assim como manipulamos o valor inicial e o final, podemos manipular também o passo. Veja o exemplo abaixo:\n",
        "\n"
      ]
    },
    {
      "cell_type": "code",
      "execution_count": 7,
      "metadata": {
        "id": "xzKuo-sSQh5b"
      },
      "outputs": [
        {
          "name": "stdout",
          "output_type": "stream",
          "text": [
            "0\n",
            "2\n",
            "4\n",
            "6\n",
            "8\n",
            "10\n",
            "12\n",
            "14\n",
            "16\n",
            "18\n",
            "20\n",
            "22\n",
            "24\n",
            "26\n",
            "28\n",
            "30\n",
            "32\n",
            "34\n",
            "36\n",
            "38\n",
            "40\n",
            "42\n",
            "44\n",
            "46\n",
            "48\n",
            "50\n",
            "52\n",
            "54\n",
            "56\n",
            "58\n",
            "60\n",
            "62\n",
            "64\n",
            "66\n",
            "68\n",
            "70\n",
            "72\n",
            "74\n",
            "76\n",
            "78\n",
            "80\n",
            "82\n",
            "84\n",
            "86\n",
            "88\n",
            "90\n",
            "92\n",
            "94\n",
            "96\n",
            "98\n"
          ]
        }
      ],
      "source": [
        "for contador in range(0, 100, 2):\n",
        "    print(contador)"
      ]
    },
    {
      "cell_type": "markdown",
      "metadata": {
        "id": "6Pc4HYcZQkrp"
      },
      "source": [
        "O código acima é equivalente ao seguinte código utilizando while:\n",
        "\n"
      ]
    },
    {
      "cell_type": "code",
      "execution_count": null,
      "metadata": {
        "id": "jRmTMnzlQlFJ"
      },
      "outputs": [],
      "source": [
        "contador = 0\n",
        "while contador < 100:\n",
        "    print(contador)\n",
        "    contador += 2"
      ]
    },
    {
      "cell_type": "markdown",
      "metadata": {
        "id": "sRVgsOZgQqVt"
      },
      "source": [
        "Note que o resultado dele na tela é exatamente o mesmo do exemplo com while do início deste capítulo! Valor inicial 0, valor final (exclusivo) 100 e passo 2. Porém, não precisamos nos preocupar em criar o contador, atribuir valor inicial, incrementar e criar uma condição de parada. Apenas colocamos os números dentro do range e ele fez a mágica por nós.\n",
        "\n",
        "Antes de finalizar, vamos reforçar: o comportamento de cada parâmetro passado para o range depende de quantos parâmetros foram passados e da ordem que eles foram passados:\n",
        "\n",
        "* 1 parâmetro = valor final exclusivo\n",
        "* 2 parâmetros = valor inicial, valor final exclusivo\n",
        "* 3 parâmetros = valor inicial, valor final exclusivo, passo\n",
        "\n",
        "Quantos exercícios de while você fez que podem ser resolvidos de maneira mais fácil com o for?\n",
        "\n",
        ">Dica: é possível utilizar o for para gerar sequências numéricas decrescentes também. Basta adotar valor final menor do que o inicial e incremento negativo.\n",
        "\n"
      ]
    },
    {
      "cell_type": "code",
      "execution_count": 8,
      "metadata": {
        "id": "eovGi8y_QyeF"
      },
      "outputs": [
        {
          "name": "stdout",
          "output_type": "stream",
          "text": [
            "20\n",
            "19\n",
            "18\n",
            "17\n",
            "16\n",
            "15\n",
            "14\n",
            "13\n",
            "12\n",
            "11\n",
            "10\n",
            "9\n",
            "8\n",
            "7\n",
            "6\n",
            "5\n",
            "4\n",
            "3\n",
            "2\n",
            "1\n"
          ]
        }
      ],
      "source": [
        "for contador in range(20, 0, -1):\n",
        "  print(contador)"
      ]
    },
    {
      "cell_type": "markdown",
      "metadata": {
        "id": "tzmHH0q3Qy4O"
      },
      "source": [
        "> Qual valor será excluído da sequência: o 20 ou o 0? Tente deduzir e execute o programa para ver se acertou!\n",
        "\n",
        "### Comandos de desvio de fluxo\n",
        "Os comandos de desvio de fluxo que estudamos junto do while (break, continue e else) também funcionam da mesma maneira com o for. Algumas observações sobre eles:\n",
        "\n",
        "* break: irá encerrar o loop antes de atingir o fim da sequência\n",
        "* else: será executado caso um break seja executado e ignorado caso o loop chegue ao final da sequência\n",
        "* continue: encerra o passo atual e passa para o próximo avançando na sequência automaticamente"
      ]
    },
    {
      "cell_type": "markdown",
      "metadata": {
        "id": "wgq7x2x0RZHr"
      },
      "source": [
        "# Exercícios\n",
        "\n",
        "Faça um programa que pede para o usuário digitar um número inteiro positivo. O programa deve exibir todos os números inteiros de 0 até o número digitado.\n",
        "\n",
        "Ex: se o número for 5, será exibido:\n",
        "```\n",
        "0\n",
        "1\n",
        "2\n",
        "3\n",
        "4\n",
        "5\n",
        "```\n",
        "\n",
        "Faça usando while e depois repita usando for."
      ]
    },
    {
      "cell_type": "code",
      "execution_count": 1,
      "metadata": {
        "id": "LFxdw8jYRsGX"
      },
      "outputs": [
        {
          "name": "stdout",
          "output_type": "stream",
          "text": [
            "0\n",
            "1\n",
            "2\n",
            "3\n",
            "4\n"
          ]
        }
      ],
      "source": [
        "num = int(input('Digite um número inteiro positivo: '))\n",
        "\n",
        "contador = 0\n",
        "while contador <= num:\n",
        "    print(contador)\n",
        "    contador +=1"
      ]
    },
    {
      "cell_type": "code",
      "execution_count": 9,
      "metadata": {
        "id": "NlKSFinUSCDF"
      },
      "outputs": [
        {
          "name": "stdout",
          "output_type": "stream",
          "text": [
            "0\n",
            "1\n",
            "2\n",
            "3\n",
            "4\n",
            "5\n"
          ]
        }
      ],
      "source": [
        "num = int(input('Digite um número inteiro positivo: '))\n",
        "\n",
        "for i in range (0, num+1):\n",
        "    print(i)\n"
      ]
    },
    {
      "cell_type": "markdown",
      "metadata": {
        "id": "h9UY5FLRRspC"
      },
      "source": [
        "Modifique os programas anteriores para, além de ler o valor final pelo teclado, ler também o valor inicial.\n",
        "\n",
        "Ex: se os números digitados forem 5 e 10, será exibido:\n",
        "```\n",
        "5\n",
        "6\n",
        "7\n",
        "8\n",
        "9\n",
        "10\n",
        "```"
      ]
    },
    {
      "cell_type": "code",
      "execution_count": 10,
      "metadata": {
        "id": "CpPxfMgTSH8C"
      },
      "outputs": [
        {
          "name": "stdout",
          "output_type": "stream",
          "text": [
            "3\n",
            "4\n",
            "5\n",
            "6\n",
            "7\n",
            "8\n"
          ]
        }
      ],
      "source": [
        "valor_inicial = int(input('Digite o valor inteiro positivo inicial '))\n",
        "valor_final = int(input('Digite o valor inteiro positivo final: '))\n",
        "\n",
        "iterador = valor_inicial\n",
        "while iterador <= valor_final:\n",
        "    print(iterador)\n",
        "    iterador +=1"
      ]
    },
    {
      "cell_type": "code",
      "execution_count": 11,
      "metadata": {},
      "outputs": [
        {
          "name": "stdout",
          "output_type": "stream",
          "text": [
            "3\n",
            "4\n",
            "5\n",
            "6\n",
            "7\n",
            "8\n",
            "9\n"
          ]
        }
      ],
      "source": [
        "valor_inicial = int(input('Digite o valor inteiro positivo inicial '))\n",
        "valor_final = int(input('Digite o valor inteiro positivo final: '))\n",
        "\n",
        "for i in range(valor_inicial, valor_final+1):\n",
        "    print(i)\n"
      ]
    },
    {
      "cell_type": "markdown",
      "metadata": {
        "id": "Sb2PQcq5SHUi"
      },
      "source": [
        "Modifique o programa anterior para perguntar também o \"passo\", ou seja, de quantas em quantas unidades a contagem irá saltar.\n",
        "\n",
        "Ex: se forem digitados o valor inicial 5, o valor final 20 e o passo 3, serão exibidos:\n",
        "\n",
        "```\n",
        "5\n",
        "8\n",
        "11\n",
        "14\n",
        "17\n",
        "20\n",
        "```"
      ]
    },
    {
      "cell_type": "code",
      "execution_count": 12,
      "metadata": {
        "id": "fLKxocWLSRw2"
      },
      "outputs": [
        {
          "name": "stdout",
          "output_type": "stream",
          "text": [
            "2\n",
            "4\n",
            "6\n",
            "8\n",
            "10\n"
          ]
        }
      ],
      "source": [
        "valor_inicial = int(input('Digite o valor inteiro positivo inicial '))\n",
        "valor_final = int(input('Digite o valor inteiro positivo final: '))\n",
        "passo = int(input('Digite o passo desejado: '))\n",
        "\n",
        "for i in range(valor_inicial, valor_final+1, passo):\n",
        "    print(i)"
      ]
    },
    {
      "cell_type": "code",
      "execution_count": 13,
      "metadata": {},
      "outputs": [
        {
          "name": "stdout",
          "output_type": "stream",
          "text": [
            "2\n",
            "4\n",
            "6\n",
            "8\n",
            "10\n"
          ]
        }
      ],
      "source": [
        "valor_inicial = int(input('Digite o valor inteiro positivo inicial '))\n",
        "valor_final = int(input('Digite o valor inteiro positivo final: '))\n",
        "passo = int(input('Digite o passo desejado: '))\n",
        "\n",
        "\n",
        "for i in range(valor_inicial, valor_final+1, passo):\n",
        "    print(i)"
      ]
    },
    {
      "cell_type": "markdown",
      "metadata": {
        "id": "yUwEL_73SL7-"
      },
      "source": [
        "Faça um programa que pede para a usuária digitar um número. O programa deverá exibir a tabuada daquele número.\n",
        "\n",
        "Ex: se o número digitado for 5, a saída será:\n",
        "\n",
        "```\n",
        "5 x 1 = 5\n",
        "5 x 2 = 10\n",
        "5 x 3 = 15\n",
        "5 x 4 = 20\n",
        "5 x 5 = 25\n",
        "5 x 6 = 30\n",
        "5 x 7 = 35\n",
        "5 x 8 = 40\n",
        "5 x 9 = 45\n",
        "5 x 10 = 50\n",
        "```"
      ]
    },
    {
      "cell_type": "code",
      "execution_count": 15,
      "metadata": {
        "id": "ib9YFxpvSSF9"
      },
      "outputs": [
        {
          "name": "stdout",
          "output_type": "stream",
          "text": [
            "4 x 1 = 4\n",
            "4 x 2 = 8\n",
            "4 x 3 = 12\n",
            "4 x 4 = 16\n",
            "4 x 5 = 20\n",
            "4 x 6 = 24\n",
            "4 x 7 = 28\n",
            "4 x 8 = 32\n",
            "4 x 9 = 36\n",
            "4 x 10 = 40\n"
          ]
        }
      ],
      "source": [
        "num = int(input('Digite o número que deseja consultar a tabuada: '))\n",
        "\n",
        "for i in range(10):\n",
        "    print(f'{num} x {i+1} = {num*(i+1)}')\n"
      ]
    },
    {
      "cell_type": "markdown",
      "metadata": {
        "id": "5fBgG3l9SSip"
      },
      "source": [
        "Faça um programa que pede para a usuária digitar um número inteiro positivo. Seu programa deverá responder a soma de do número com todos os seus antecessores positivos.\n",
        "\n",
        "Ex: se o número digitado for 5, a conta a ser realizada será 5 + 4 + 3 + 2 + 1, e o resultado na tela será \"15\"."
      ]
    },
    {
      "cell_type": "code",
      "execution_count": 19,
      "metadata": {
        "id": "0o2mCzHsST9t"
      },
      "outputs": [
        {
          "name": "stdout",
          "output_type": "stream",
          "text": [
            "15\n"
          ]
        }
      ],
      "source": [
        "num = int(input('Digite o número: '))\n",
        "\n",
        "while num > 0:\n",
        "    \n",
        "soma = 0\n",
        "for i in range(num+1):\n",
        "    soma = soma + i\n",
        "print(soma)"
      ]
    },
    {
      "cell_type": "markdown",
      "metadata": {
        "id": "Ym7jO0UISUMQ"
      },
      "source": [
        "Faça um programa que pede para a usuária digitar um número inteiro positivo. O programa deverá calcular e exibir na tela o fatorial do número digitado.\n",
        "\n",
        "Lembrete: o fatorial de um número \"n\", denotado por \"n!\", é o produto dele com todos os seus antecessores inteiros positivos.\n",
        "\n",
        "Ex: 5! = 1 x 2 x 3 x 4 x 5"
      ]
    },
    {
      "cell_type": "code",
      "execution_count": 25,
      "metadata": {
        "id": "OCV3Dvw_SWrh"
      },
      "outputs": [
        {
          "name": "stdout",
          "output_type": "stream",
          "text": [
            "120\n"
          ]
        }
      ],
      "source": [
        "num = int(input('Digite o número: '))\n",
        "\n",
        "fatorial = 1\n",
        "for i in range(num):\n",
        "    fatorial = fatorial * (i+1)\n",
        "print(fatorial)"
      ]
    },
    {
      "cell_type": "markdown",
      "metadata": {
        "id": "RsKzm9RWSY00"
      },
      "source": [
        "Faça um programa que pergunta quantas provas o usuário fez. Em seguida, o programa deverá ler cada uma de suas notas pelo teclado e informar sua média.\n",
        "\n"
      ]
    },
    {
      "cell_type": "code",
      "execution_count": null,
      "metadata": {
        "id": "9G3Ew3o9Sbe7"
      },
      "outputs": [
        {
          "name": "stdout",
          "output_type": "stream",
          "text": [
            "A média é: 7.33\n"
          ]
        }
      ],
      "source": [
        "num_provas = int(input('Digite o número de provas realizadas: '))\n",
        "\n",
        "notas = []\n",
        "for i in range(num_provas):\n",
        "    nota = float(input(f'Digite a nova da prova {i+1}: '))\n",
        "    notas.append(nota)\n",
        "\n",
        "media = sum(notas)/num_provas\n",
        "print(f'A média é: {media:.2f}')"
      ]
    },
    {
      "cell_type": "markdown",
      "metadata": {
        "id": "qMDBam6TSddY"
      },
      "source": [
        "Iremos novamente fazer o programa da média do exercício anterior, mas com uma diferença: agora não iremos perguntar a quantidade de notas. O usuário deverá digitar uma nota negativa quando desejar parar de digitar mais notas.\n",
        "\n",
        "Atenção: o número negativo não deve ser considerado uma nota (portanto, não deve interferir na média)."
      ]
    },
    {
      "cell_type": "code",
      "execution_count": 43,
      "metadata": {
        "id": "CiO-qOvkSf6L"
      },
      "outputs": [
        {
          "ename": "TypeError",
          "evalue": "'>=' not supported between instances of 'NoneType' and 'int'",
          "output_type": "error",
          "traceback": [
            "\u001b[1;31m---------------------------------------------------------------------------\u001b[0m",
            "\u001b[1;31mTypeError\u001b[0m                                 Traceback (most recent call last)",
            "\u001b[1;32mc:\\Users\\dario\\OneDrive\\Área de Trabalho\\Dario\\Datascience\\Suzano-Ada\\Aulas Curso\\03_loops.ipynb Célula: 62\u001b[0m in \u001b[0;36m<cell line: 3>\u001b[1;34m()\u001b[0m\n\u001b[0;32m      <a href='vscode-notebook-cell:/c%3A/Users/dario/OneDrive/%C3%81rea%20de%20Trabalho/Dario/Datascience/Suzano-Ada/Aulas%20Curso/03_loops.ipynb#Y113sZmlsZQ%3D%3D?line=0'>1</a>\u001b[0m i \u001b[39m=\u001b[39m \u001b[39m0\u001b[39m\n\u001b[0;32m      <a href='vscode-notebook-cell:/c%3A/Users/dario/OneDrive/%C3%81rea%20de%20Trabalho/Dario/Datascience/Suzano-Ada/Aulas%20Curso/03_loops.ipynb#Y113sZmlsZQ%3D%3D?line=1'>2</a>\u001b[0m notas \u001b[39m=\u001b[39m []\n\u001b[1;32m----> <a href='vscode-notebook-cell:/c%3A/Users/dario/OneDrive/%C3%81rea%20de%20Trabalho/Dario/Datascience/Suzano-Ada/Aulas%20Curso/03_loops.ipynb#Y113sZmlsZQ%3D%3D?line=2'>3</a>\u001b[0m \u001b[39mwhile\u001b[39;00m nota \u001b[39m>\u001b[39;49m\u001b[39m=\u001b[39;49m \u001b[39m0\u001b[39;49m:\n\u001b[0;32m      <a href='vscode-notebook-cell:/c%3A/Users/dario/OneDrive/%C3%81rea%20de%20Trabalho/Dario/Datascience/Suzano-Ada/Aulas%20Curso/03_loops.ipynb#Y113sZmlsZQ%3D%3D?line=3'>4</a>\u001b[0m     nota \u001b[39m=\u001b[39m \u001b[39mfloat\u001b[39m(\u001b[39minput\u001b[39m(\u001b[39mf\u001b[39m\u001b[39m'\u001b[39m\u001b[39mDigite a nova da prova \u001b[39m\u001b[39m{\u001b[39;00mi\u001b[39m+\u001b[39m\u001b[39m1\u001b[39m\u001b[39m}\u001b[39;00m\u001b[39m: \u001b[39m\u001b[39m'\u001b[39m))\n\u001b[0;32m      <a href='vscode-notebook-cell:/c%3A/Users/dario/OneDrive/%C3%81rea%20de%20Trabalho/Dario/Datascience/Suzano-Ada/Aulas%20Curso/03_loops.ipynb#Y113sZmlsZQ%3D%3D?line=4'>5</a>\u001b[0m     notas\u001b[39m.\u001b[39mappend(nota)\n",
            "\u001b[1;31mTypeError\u001b[0m: '>=' not supported between instances of 'NoneType' and 'int'"
          ]
        }
      ],
      "source": [
        "i = 0\n",
        "notas = []\n",
        "while nota >= 0:\n",
        "    nota = float(input(f'Digite a nova da prova {i+1}: '))\n",
        "    notas.append(nota)\n",
        "    i = i + 1\n",
        "else:\n",
        "    media = sum(notas)/num_provas\n",
        "    print(f'A média é: {media:.2f}')\n",
        "\n"
      ]
    },
    {
      "cell_type": "code",
      "execution_count": 44,
      "metadata": {},
      "outputs": [
        {
          "name": "stdout",
          "output_type": "stream",
          "text": [
            "A média do aluno foi de 5.50\n"
          ]
        }
      ],
      "source": [
        "media = 0.0\n",
        "notas_digitadas = 0\n",
        "\n",
        "while True:\n",
        "    nota = float(input('Digite a nota (nota negativa para parar):'))\n",
        "\n",
        "    if nota < 0:\n",
        "        break\n",
        "\n",
        "    media += nota\n",
        "    notas_digitadas += 1\n",
        "\n",
        "media /= notas_digitadas\n",
        "\n",
        "print(f'A média do aluno foi de {media:.2f}')"
      ]
    },
    {
      "cell_type": "code",
      "execution_count": null,
      "metadata": {},
      "outputs": [],
      "source": [
        "while True:\n",
        "    nota = float(input(''))"
      ]
    },
    {
      "cell_type": "markdown",
      "metadata": {
        "id": "FLNUGdP7TzB4"
      },
      "source": [
        "Notas e média, de novo - mas com algo a mais:\n",
        "\n",
        "Faça um programa que pergunta a quantidade de provas realizadas pelo aluno.\n",
        "\n",
        "O seu programa deverá ler as notas das provas pelo teclado e responder:\n",
        "\n",
        "* a média das provas\n",
        "* a maior nota\n",
        "* a menor nota"
      ]
    },
    {
      "cell_type": "code",
      "execution_count": null,
      "metadata": {
        "id": "eMKS9v-zTyS_"
      },
      "outputs": [],
      "source": []
    },
    {
      "cell_type": "markdown",
      "metadata": {
        "id": "fo4XneFZT_7j"
      },
      "source": [
        "Faça um programa que pede para a usuária digitar uma base e um expoente.\n",
        "\n",
        "O seu programa deverá responder o resultado da operação de potência entre os números digitados sem utilizar o operador ** do Python."
      ]
    },
    {
      "cell_type": "code",
      "execution_count": null,
      "metadata": {
        "id": "BZ26XC98UAlL"
      },
      "outputs": [],
      "source": []
    },
    {
      "cell_type": "markdown",
      "metadata": {
        "id": "gDfRQkr6SiZ0"
      },
      "source": [
        "Faça um programa que pergunta o nome e o gênero da pessoa que está utilizando. O programa deverá responder:\n",
        "\n",
        "* `Seja bem-vindo, [nome]!` caso o gênero seja igual a 'M'\n",
        "* `Seja bem-vinda, [nome]!` caso o gênero seja igual a 'F'\n",
        "* `Sej@ bem-vind@, [nome]!` caso o gênero seja 'Neutro' ou 'Outro'\n",
        "\n",
        "Caso uma opção diferente das listadas acima seja digitada, o programa deverá repetir a pergunta até que uma das opções válidas seja digitada."
      ]
    },
    {
      "cell_type": "code",
      "execution_count": null,
      "metadata": {
        "id": "JDvx0sgqSowb"
      },
      "outputs": [],
      "source": []
    },
    {
      "cell_type": "markdown",
      "metadata": {
        "id": "IAncncjXTABT"
      },
      "source": [
        "Uma progressão aritmética (PA) possui uma razão e um termo inicial.\n",
        "\n",
        "Podemos chamar o termo inicial de termo 0.\n",
        "\n",
        "Um termo \"n\" qualquer pode ser obtido somando a razão \"n\" vezes ao termo inicial.\n",
        "\n",
        "Por exemplo, a PA com razão = 4 e termo inicial = 1 terá os seguintes termos:\n",
        "\n",
        "1, 5, 9, 13, 17, 21, 25...\n",
        "\n",
        "onde 1 é o termo 0, 5 é o termo 1, 9 é o termo 2, e assim sucessivamente.\n",
        "\n",
        "Faça um programa que pergunta para a usuária:\n",
        "\n",
        "* a razão de uma PA\n",
        "* o termo inicial da PA\n",
        "* quantos termos ela gostaria de ver na tela\n",
        "\n",
        "O seu programa deverá calcular e exibir os \"n\" termos solicitados pela usuária."
      ]
    },
    {
      "cell_type": "code",
      "execution_count": null,
      "metadata": {
        "id": "kESyezsXTCNM"
      },
      "outputs": [],
      "source": []
    },
    {
      "cell_type": "markdown",
      "metadata": {
        "id": "p3CYo_rYTHOy"
      },
      "source": [
        "Uma progressão geométrica (PG) possui uma razão e um termo inicial.\n",
        "\n",
        "Podemos chamar o termo inicial de termo 0.\n",
        "\n",
        "Um termo \"n\" qualquer pode ser obtido multiplicando a razão \"n\" vezes ao termo inicial.\n",
        "\n",
        "Por exemplo, a PA com razão = 2 e termo inicial = 3 terá os seguintes termos:\n",
        "\n",
        "3, 6, 12, 24, 48, 96...\n",
        "\n",
        "onde 3 é o termo 0, 6 é o termo 1, 12 é o termo 2, e assim sucessivamente.\n",
        "\n",
        "Faça um programa que pergunta para a usuária:\n",
        "\n",
        "* a razão de uma PG\n",
        "* o termo inicial da PG\n",
        "* quantos termos ela gostaria de ver na tela\n",
        "\n",
        "O seu programa deverá calcular e exibir os \"n\" termos solicitados pela usuária."
      ]
    },
    {
      "cell_type": "code",
      "execution_count": null,
      "metadata": {
        "id": "ZHALbuARTQ79"
      },
      "outputs": [],
      "source": []
    },
    {
      "cell_type": "markdown",
      "metadata": {
        "id": "GQcNvxlITTS9"
      },
      "source": [
        "A sequência de Fibonacci é definida da seguinte maneira:\n",
        "\n",
        "* Termo(0) = 1\n",
        "* Termo(1) = 1\n",
        "* Termo(n) = Termo(n-1) + Termo(n-2)\n",
        "\n",
        "Ou seja, temos 2 termos iniciais que valem 1, e o restante dos termos é definido pela soma dos dois antecessores. Os primeiros termos da sequência são:\n",
        "\n",
        "`1, 1, 2, 3, 5, 8, 13, 21, 34, 55, 89, 144...`\n",
        "\n",
        "Note que qualquer termo da sequência equivale à soma dos dois antecessores.\n",
        "\n",
        "Faça um programa que pergunta para a usuária quantos termos da sequência de Fibonacci ela gostaria de ver. O seu programa deverá calcular e exibir a quantidade de termos desejada por ela."
      ]
    },
    {
      "cell_type": "code",
      "execution_count": null,
      "metadata": {
        "id": "s9asslu2TTt5"
      },
      "outputs": [],
      "source": []
    },
    {
      "cell_type": "markdown",
      "metadata": {
        "id": "ksxXgegCTZTm"
      },
      "source": [
        "A constante π (leia \"pi\"), que representa a relação entre o comprimento de uma circunferência e o seu diâmetro, possui valor aproximado de 3.14159265.\n",
        "\n",
        "Acredita-se que ele possui infinitas casas após o ponto decimal, sem repetição. Isso nos impede de determinar seu valor exato, mas há várias técnicas diferentes para calcular aproximações arbitrariamente boas.\n",
        "\n",
        "Muitas dessas técnicas envolvem calcular a soma de sequências convergentes, isto é, sequências onde conforme somamos mais termos seguindo alguma regra, mais ela se aproxima de um valor específico.\n",
        "\n",
        "Uma dessas técnicas é a Fórmula de Leibniz:\n",
        "\n",
        "![leibniz.svg](data:image/svg+xml;base64,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)\n",
        "\n",
        "Note que existe uma regra fácil de deduzir para quais seriam os próximos denominadores e sinais. Quanto mais termos forem acrescentados, mais a soma se aproxima de π/4. Portanto, ao calcularmos essa soma com milhares ou milhões de termos e multiplicarmos o resultado por 4, devemos ter uma boa aproximação de π.\n",
        "\n",
        "Faça um programa que pergunta para a usuária com quantos termos ela gostaria de fazer a conta. Seu programa deverá calcular π utilizando a fórmula de Leibniz com a quantidade de termos especificada pela usuária.\n",
        "\n",
        "Desafio: quando seu programa estiver pronto, experimente alguns valores e veja quantos termos são necessários para determinar o valor de π com uma precisão que você considere satisfatória."
      ]
    },
    {
      "cell_type": "code",
      "execution_count": null,
      "metadata": {
        "id": "zWo63VNbTqgh"
      },
      "outputs": [],
      "source": []
    },
    {
      "cell_type": "markdown",
      "metadata": {
        "id": "xSLGaIknSo-N"
      },
      "source": [
        "Bibliotecas ou módulos são arquivos contendo algumas funções e outros componentes de código já prontos para serem reutilizados. A linguagem Python já possui diversos módulos pré-instalados, e podemos utilizá-los através do comando import.\n",
        "\n",
        "Ao incluir a linha abaixo (preferencialmente no topo do programa) podemos acessar as funções do módulo random, que permitem lidar com números aleatórios:\n",
        "\n",
        "`import random`\n",
        "\n",
        "Tendo importado esse módulo em nosso programa, é possível sortear números aleatórios através da função randint. No exemplo abaixo, um número aleatório entre 1 e 100 é salvo na variável \"sorteio\":\n",
        "\n",
        "`sorteio = random.randint(1, 100)`\n",
        "\n",
        "Faça um programa que sorteia um número aleatório entre 1 e 100. Ele deve pedir para o jogador adivinhar o número até que ele acerte.\n",
        "\n",
        "Quando o jogador finalmente acertar, exiba a mensagem \"Você venceu!\" e pergunte se ele gostaria de jogar novamente. Caso ele digite \"sim\", sorteie um novo número e torne a pedir que ele adivinhe."
      ]
    },
    {
      "cell_type": "code",
      "execution_count": null,
      "metadata": {
        "id": "Pwlon2cGS0J4"
      },
      "outputs": [],
      "source": []
    },
    {
      "cell_type": "markdown",
      "metadata": {
        "id": "C3PpSZyRSzq5"
      },
      "source": [
        "\n",
        "\n",
        "Pergunte para a usuária o valor que será investido em uma aplicação, a taxa de juros ao mês e o tempo que o dinheiro ficará aplicado.\n",
        "\n",
        "Seu programa deverá exibir quanto de juros será pago e o saldo total em cada mês.\n",
        "\n",
        "Exemplo: 10000.0 reais, 5% de juros ao mês, 3 meses.\n",
        "\n",
        "```\n",
        "Mês 1: Juros: 500.0 reais, saldo: 10500.0 reais\n",
        "Mês 2: Juros: 525.0 reais, saldo: 11025.0 reais\n",
        "Mês 3: Juros: 551.25 reais, saldo: 11576.25 reais\n",
        "```"
      ]
    },
    {
      "cell_type": "code",
      "execution_count": null,
      "metadata": {
        "id": "V7_zWcRpUDbI"
      },
      "outputs": [],
      "source": []
    },
    {
      "cell_type": "markdown",
      "metadata": {
        "id": "oWyF-DEyUDlR"
      },
      "source": [
        "Vamos implementar uma Tabela Price.\n",
        "\n",
        "A tabela Price é utilizada em empréstimos de longo prazo, como no financiamento de um imóvel.\n",
        "\n",
        "Um empréstimo pelo sistema Price utiliza prestações com valor fixo, isto é, você sempre irá pagar o mesmo valor todo mês.\n",
        "\n",
        "Porém, uma taxa de juros corrige o seu saldo devedor, sendo assim, parte do valor que você paga no mês serve apenas para pagar juros, e outra parte realmente reduz o seu sald devedor. Essa redução é a chamada amortização.\n",
        "\n",
        "Como o saldo devedor diminui com o tempo, a parcela de juros diminui a cada mês, nos primeiros meses a maior parte do valor pago por mês serve para pagar juros, enquanto mais próximo do final, a maior parte do valor está de fato amortizando a dívida.\n",
        "\n",
        "Você pode aprender mais sobre as colunas da tabela e o cálculo para determinar o valor das prestações [neste site](https://mundoeducacao.uol.com.br/matematica/tabela-price.htm).\n",
        "\n",
        "Conhecendo o valor fixo, como fazemos para determinar quanto de amortização, quanto de juros e qual o novo saldo devedor a cada mês?\n",
        "\n",
        "Primeiro aplica-se a taxa de juros sobre o saldo devedor (multiplicar por i). Esse valor é o valor de juros pagos no mês. Subtraindo-se os juros do valor da prestação, descobre-se o quanto se amortizou naquele mês. O novo saldo devedor é obtido subtraindo a amortização do valor.\n",
        "\n",
        "Faça um programa que pergunta:\n",
        "\n",
        "* o valor de um empréstimo\n",
        "* a taxa de juros do empréstimo\n",
        "* o tempo para pagamento\n",
        "\n",
        "O seu programa deverá imprimir na tela uma \"tabela\" mostrando, mês a mês, o saldo devedor, juros, amortização e o valor da prestação.\n",
        "\n",
        "Exemplo: para 10000.0 reais em 12 meses com juros de 1%:\n",
        "```\n",
        "Parcela 1 | J: 100.00 | A: 788.49 | Pgto: 888.49 | Deve: 9211.51\n",
        "Parcela 2 | J: 92.12 | A: 796.37 | Pgto: 888.49 | Deve: 8415.14\n",
        "Parcela 3 | J: 84.15 | A: 804.34 | Pgto: 888.49 | Deve: 7610.80\n",
        "\n",
        "...\n",
        "\n",
        "Parcela 11 | J: 17.51 | A: 870.98 | Pgto: 888.49 | Deve: 979.69\n",
        "Parcela 12 | J: 8.80 | A: 879.69 | Pgto: 888.49 | Deve: 0\n",
        "```\n",
        "A tabela utilizada como exemplo encontra-se [neste link](https://www.hashtagtreinamentos.com/tabela-price-e-sac-no-excel) e você pode usá-la para validar o seu programa."
      ]
    },
    {
      "cell_type": "code",
      "execution_count": null,
      "metadata": {
        "id": "I1ytErCfUWdQ"
      },
      "outputs": [],
      "source": []
    }
  ],
  "metadata": {
    "colab": {
      "provenance": []
    },
    "kernelspec": {
      "display_name": "Python 3.10.5 64-bit",
      "language": "python",
      "name": "python3"
    },
    "language_info": {
      "codemirror_mode": {
        "name": "ipython",
        "version": 3
      },
      "file_extension": ".py",
      "mimetype": "text/x-python",
      "name": "python",
      "nbconvert_exporter": "python",
      "pygments_lexer": "ipython3",
      "version": "3.10.5"
    },
    "vscode": {
      "interpreter": {
        "hash": "75c7325c0caecc2d82c8a4e534cbb5ce82d278e087a13a7861173b66f0f67f74"
      }
    }
  },
  "nbformat": 4,
  "nbformat_minor": 0
}
